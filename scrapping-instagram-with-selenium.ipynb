{
 "cells": [
  {
   "cell_type": "code",
   "execution_count": 1,
   "metadata": {
    "collapsed": true
   },
   "outputs": [],
   "source": [
    "#! python 2.7"
   ]
  },
  {
   "cell_type": "markdown",
   "metadata": {},
   "source": [
    "## Instagram Crawler for all the Most recent post related to tags\n",
    "\n",
    "- \"https://www.instagram.com/explore/tags/football/\""
   ]
  },
  {
   "cell_type": "markdown",
   "metadata": {},
   "source": [
    "- Unique identifier for influencer - username ,\n",
    "- link to the post,\n",
    "- influencer handle,\n",
    "- influencer follower #,\n",
    "-               post likes,\n",
    "-                    comments,\n",
    "-                engagement #,\n",
    "\n",
    "-                other hashtags in the post,\n",
    "-                other account tags,\n",
    "-                 link in bio"
   ]
  },
  {
   "cell_type": "code",
   "execution_count": 2,
   "metadata": {
    "collapsed": true
   },
   "outputs": [],
   "source": [
    "from selenium import webdriver\n",
    "from selenium.webdriver.common.keys import Keys\n",
    "import time\n",
    "from selenium.common.exceptions import NoSuchElementException,WebDriverException\n",
    "import json\n",
    "import selenium\n",
    "import re\n",
    "\n"
   ]
  },
  {
   "cell_type": "markdown",
   "metadata": {},
   "source": [
    "# STEP 1"
   ]
  },
  {
   "cell_type": "markdown",
   "metadata": {},
   "source": [
    "Get a hashtag input from user to scrap all the post related to hastag"
   ]
  },
  {
   "cell_type": "code",
   "execution_count": 3,
   "metadata": {
    "collapsed": false
   },
   "outputs": [
    {
     "name": "stdout",
     "output_type": "stream",
     "text": [
      "Enter a hastag: football\n"
     ]
    }
   ],
   "source": [
    "user_input = raw_input(\"Enter a hastag: \")"
   ]
  },
  {
   "cell_type": "code",
   "execution_count": 4,
   "metadata": {
    "collapsed": false
   },
   "outputs": [],
   "source": [
    "link = \"https://www.instagram.com/explore/tags/{}\".format(user_input)\n",
    "driver = webdriver.Chrome()\n",
    "driver.get(link)"
   ]
  },
  {
   "cell_type": "code",
   "execution_count": 5,
   "metadata": {
    "collapsed": false
   },
   "outputs": [
    {
     "name": "stdout",
     "output_type": "stream",
     "text": [
      "https://www.instagram.com/explore/tags/football\n"
     ]
    }
   ],
   "source": [
    "print(link)"
   ]
  },
  {
   "cell_type": "markdown",
   "metadata": {},
   "source": [
    "- selecting div for most recent post\n",
    "- clicking load more button\n"
   ]
  },
  {
   "cell_type": "code",
   "execution_count": 6,
   "metadata": {
    "collapsed": false
   },
   "outputs": [],
   "source": [
    "div_selectors = driver.find_elements_by_xpath(\"//div[@class='_nljxa']\")[1]\n",
    "load_more_btn = driver.find_element_by_class_name('_oidfu')\n",
    "if load_more_btn:\n",
    "    load_more_btn.click()"
   ]
  },
  {
   "cell_type": "markdown",
   "metadata": {},
   "source": [
    "- infinite  Auto scrolling \n",
    "\n",
    "- infinite loop will stop if no scrolling is available \n",
    "- get link from every post"
   ]
  },
  {
   "cell_type": "code",
   "execution_count": 7,
   "metadata": {
    "collapsed": false
   },
   "outputs": [
    {
     "name": "stdout",
     "output_type": "stream",
     "text": [
      "+++++++++++++++++++++++++++++++++++++++++++++++++++++++++++++++++\n",
      "('Scroll Count: ', 0, 'Slicing', 0, 'Length of Div', 24)\n",
      "+++++++++++++++++++++++++++++++++++++++++++++++++++++++++++++++++\n",
      "******************************************************************\n",
      "[1]  : https://www.instagram.com/p/BIpbgvugHUj/?tagged=football\n",
      "[2]  : https://www.instagram.com/p/BIpbgHGjoKz/?tagged=football\n",
      "[3]  : https://www.instagram.com/p/BIpbf87gxhu/?tagged=football\n",
      "[4]  : https://www.instagram.com/p/BIpbftfDs48/?tagged=football\n",
      "[5]  : https://www.instagram.com/p/BIpbfG_Ada6/?tagged=football\n",
      "[6]  : https://www.instagram.com/p/BIpbeDxDKvs/?tagged=football\n",
      "[7]  : https://www.instagram.com/p/BIpbd1nAJmX/?tagged=football\n",
      "[8]  : https://www.instagram.com/p/BIpbdf8ACQ9/?tagged=football\n",
      "[9]  : https://www.instagram.com/p/BIpbdZig8_L/?tagged=football\n",
      "[10]  : https://www.instagram.com/p/BIpbdLihj-5/?tagged=football\n",
      "[11]  : https://www.instagram.com/p/BIpbdBPBWNJ/?tagged=football\n",
      "[12]  : https://www.instagram.com/p/BIpbci0hQUv/?tagged=football\n",
      "[13]  : https://www.instagram.com/p/BIpbcTkjTdK/?tagged=football\n",
      "[14]  : https://www.instagram.com/p/BIpbcMFAKRD/?tagged=football\n",
      "[15]  : https://www.instagram.com/p/BIpbcGch6Bg/?tagged=football\n",
      "[16]  : https://www.instagram.com/p/BIpbbthAPbV/?tagged=football\n",
      "[17]  : https://www.instagram.com/p/BIpbblfglTd/?tagged=football\n",
      "[18]  : https://www.instagram.com/p/BIpba5bDCOc/?tagged=football\n",
      "[19]  : https://www.instagram.com/p/BIpbamZDqOi/?tagged=football\n",
      "[20]  : https://www.instagram.com/p/BIpbaZWhY_w/?tagged=football\n",
      "[21]  : https://www.instagram.com/p/BIpbaAogxJo/?tagged=football\n",
      "[22]  : https://www.instagram.com/p/BIpbZy2gdOw/?tagged=football\n",
      "[23]  : https://www.instagram.com/p/BIpbZllg8Cn/?tagged=football\n",
      "[24]  : https://www.instagram.com/p/BIpbYtHjxE1/?tagged=football\n",
      "*******************************************************************\n",
      "Sleeping For 10 seconds............\n",
      "Reloaded..................................\n",
      "+++++++++++++++++++++++++++++++++++++++++++++++++++++++++++++++++\n",
      "('Scroll Count: ', 1, 'Slicing', 24, 'Length of Div', 36)\n",
      "+++++++++++++++++++++++++++++++++++++++++++++++++++++++++++++++++\n",
      "******************************************************************\n",
      "[25]  : https://www.instagram.com/p/BIpbYOqBLZg/?tagged=football\n",
      "[26]  : https://www.instagram.com/p/BIpbYIOhaVy/?tagged=football\n",
      "[27]  : https://www.instagram.com/p/BIpbXtkAAhe/?tagged=football\n",
      "[28]  : https://www.instagram.com/p/BIpbXsQD5M9/?tagged=football\n",
      "[29]  : https://www.instagram.com/p/BIpbW9qghqX/?tagged=football\n",
      "[30]  : https://www.instagram.com/p/BIpbW2mgA7k/?tagged=football\n",
      "[31]  : https://www.instagram.com/p/BIpbWOHADuB/?tagged=football\n",
      "[32]  : https://www.instagram.com/p/BIpbV0QAcOy/?tagged=football\n",
      "[33]  : https://www.instagram.com/p/BIpbVOoAZeT/?tagged=football\n",
      "[34]  : https://www.instagram.com/p/BIpbVOVgml0/?tagged=football\n",
      "[35]  : https://www.instagram.com/p/BIpbUqkBIIz/?tagged=football\n",
      "[36]  : https://www.instagram.com/p/BIpbTr_DABe/?tagged=football\n",
      "*******************************************************************\n",
      "Sleeping For 10 seconds............\n",
      "Reloaded..................................\n",
      "+++++++++++++++++++++++++++++++++++++++++++++++++++++++++++++++++\n",
      "('Scroll Count: ', 2, 'Slicing', 36, 'Length of Div', 72)\n",
      "+++++++++++++++++++++++++++++++++++++++++++++++++++++++++++++++++\n",
      "******************************************************************\n",
      "[37]  : https://www.instagram.com/p/BIpbThhBR83/?tagged=football\n",
      "[38]  : https://www.instagram.com/p/BIpbTcNjZmN/?tagged=football\n",
      "[39]  : https://www.instagram.com/p/BIpbSxWAJXT/?tagged=football\n",
      "[40]  : https://www.instagram.com/p/BIpbSvNh288/?tagged=football\n",
      "[41]  : https://www.instagram.com/p/BIpbSMcD-e9/?tagged=football\n",
      "[42]  : https://www.instagram.com/p/BIpbRnWAXcu/?tagged=football\n",
      "[43]  : https://www.instagram.com/p/BIpbRmeAsUX/?tagged=football\n",
      "[44]  : https://www.instagram.com/p/BIpbRW6APpj/?tagged=football\n",
      "[45]  : https://www.instagram.com/p/BIpbRWzDFhc/?tagged=football\n",
      "[46]  : https://www.instagram.com/p/BIpbQtFj_KK/?tagged=football\n",
      "[47]  : https://www.instagram.com/p/BIpbQr4jqcu/?tagged=football\n",
      "[48]  : https://www.instagram.com/p/BIpbQOThs5y/?tagged=football\n",
      "[49]  : https://www.instagram.com/p/BIpbQI3jazA/?tagged=football\n",
      "[50]  : https://www.instagram.com/p/BIpbOhlh4sV/?tagged=football\n",
      "[51]  : https://www.instagram.com/p/BIpbOSzgm2I/?tagged=football\n",
      "[52]  : https://www.instagram.com/p/BIpbN6oA4xw/?tagged=football\n",
      "[53]  : https://www.instagram.com/p/BIpbNyWAT4b/?tagged=football\n",
      "[54]  : https://www.instagram.com/p/BIpbNcuDAns/?tagged=football\n",
      "[55]  : https://www.instagram.com/p/BIpbMdHgbxw/?tagged=football\n",
      "[56]  : https://www.instagram.com/p/BIpbMcagh0x/?tagged=football\n",
      "[57]  : https://www.instagram.com/p/BIpbMTAhYB-/?tagged=football\n",
      "[58]  : https://www.instagram.com/p/BIpbMO9BQCI/?tagged=football\n",
      "[59]  : https://www.instagram.com/p/BIpbLiGAZEh/?tagged=football\n",
      "[60]  : https://www.instagram.com/p/BIpbKzpDaUo/?tagged=football\n",
      "[61]  : https://www.instagram.com/p/BIpbKrlDu-g/?tagged=football\n",
      "[62]  : https://www.instagram.com/p/BIpbKBtBdlF/?tagged=football\n",
      "[63]  : https://www.instagram.com/p/BIpbJ5mD1zX/?tagged=football\n",
      "[64]  : https://www.instagram.com/p/BIpbJshA2UF/?tagged=football\n",
      "[65]  : https://www.instagram.com/p/BIpbJmYjYDT/?tagged=football\n",
      "[66]  : https://www.instagram.com/p/BIpbJfRgp8m/?tagged=football\n",
      "[67]  : https://www.instagram.com/p/BIpbJLYjNba/?tagged=football\n",
      "[68]  : https://www.instagram.com/p/BIpbJCUBQuD/?tagged=football\n",
      "[69]  : https://www.instagram.com/p/BIpbIyygShP/?tagged=football\n",
      "[70]  : https://www.instagram.com/p/BIpbIYdBOpD/?tagged=football\n",
      "[71]  : https://www.instagram.com/p/BIpbH7MAXcT/?tagged=football\n",
      "[72]  : https://www.instagram.com/p/BIpbH5kBSak/?tagged=football\n",
      "*******************************************************************\n",
      "Sleeping For 10 seconds............\n",
      "Reloaded..................................\n",
      "+++++++++++++++++++++++++++++++++++++++++++++++++++++++++++++++++\n",
      "('Scroll Count: ', 3, 'Slicing', 72, 'Length of Div', 84)\n",
      "+++++++++++++++++++++++++++++++++++++++++++++++++++++++++++++++++\n",
      "******************************************************************\n",
      "[73]  : https://www.instagram.com/p/BIpbHv1juDe/?tagged=football\n",
      "[74]  : https://www.instagram.com/p/BIpbHcxj6dX/?tagged=football\n",
      "[75]  : https://www.instagram.com/p/BIpbHNxgDFD/?tagged=football\n",
      "[76]  : https://www.instagram.com/p/BIpbHIvjHev/?tagged=football\n",
      "[77]  : https://www.instagram.com/p/BIpbHFYhoUO/?tagged=football\n",
      "[78]  : https://www.instagram.com/p/BIpbFj-g6A-/?tagged=football\n",
      "[79]  : https://www.instagram.com/p/BIpbEuEAqE2/?tagged=football\n",
      "[80]  : https://www.instagram.com/p/BIpbETzBsCG/?tagged=football\n",
      "[81]  : https://www.instagram.com/p/BIpbESpjX9R/?tagged=football\n",
      "[82]  : https://www.instagram.com/p/BIpbEL_DtMY/?tagged=football\n",
      "[83]  : https://www.instagram.com/p/BIpbDPoBTvf/?tagged=football\n",
      "[84]  : https://www.instagram.com/p/BIpbCyFgrZO/?tagged=football\n",
      "*******************************************************************\n",
      "Sleeping For 10 seconds............\n",
      "Reloaded..................................\n"
     ]
    }
   ],
   "source": [
    "slicing = 0\n",
    "scroll_count= 0\n",
    "link_count = 1\n",
    "infinite_loop = True\n",
    "all_post_links = []\n",
    "while infinite_loop:\n",
    "    driver.execute_script(\"window.scrollTo(0, document.body.scrollHeight);\")\n",
    "    anchor_element = div_selectors.find_elements_by_xpath('.//a[@class=\"_8mlbc _vbtk2 _t5r8b\"]')\n",
    "    if slicing == len(anchor_element):\n",
    "        infinite_loop = False\n",
    "    temp_i = len(anchor_element)\n",
    "    print(\"+++++++++++++++++++++++++++++++++++++++++++++++++++++++++++++++++\")\n",
    "    print(\"Scroll Count: \", scroll_count ,\"Slicing\", slicing, \"Length of Div\",len(anchor_element))\n",
    "    print(\"+++++++++++++++++++++++++++++++++++++++++++++++++++++++++++++++++\")\n",
    "    anchor_element = anchor_element[slicing:]\n",
    "    print(\"******************************************************************\")\n",
    "    for anchor in anchor_element:\n",
    "        all_post_links.append(anchor.get_attribute('href'))\n",
    "        print(\"[{}]  : {}\".format(link_count,anchor.get_attribute('href')))\n",
    "        link_count +=1\n",
    "    print(\"*******************************************************************\")\n",
    "    print(\"Sleeping For 10 seconds............\")\n",
    "    \n",
    "    slicing = temp_i\n",
    "    scroll_count +=1\n",
    "    time.sleep(10)\n",
    "    \"\"\"Just scrolling for 4 times\"\"\"\n",
    "    if scroll_count == 4:\n",
    "        infinite_loop = False\n",
    "    print(\"Reloaded..................................\")"
   ]
  },
  {
   "cell_type": "markdown",
   "metadata": {},
   "source": [
    "## getting json data from page source \n",
    "\n",
    "- using Regular expression"
   ]
  },
  {
   "cell_type": "code",
   "execution_count": 8,
   "metadata": {
    "collapsed": false
   },
   "outputs": [],
   "source": [
    "json_shared_data = re.search('(window._sharedData\\s=\\s)(.*)(;<\\/script>)', driver.page_source)\n",
    "user_data_text = json_shared_data.group(2)\n",
    "user_data_dict = json.loads(user_data_text, strict=False)\n",
    "data = user_data_dict\n"
   ]
  },
  {
   "cell_type": "code",
   "execution_count": 9,
   "metadata": {
    "collapsed": false
   },
   "outputs": [
    {
     "data": {
      "text/plain": [
       "{u'config': {u'csrf_token': u'dnM1VnAWVs8Pw0I8SP3GvHweDuTpNCss',\n",
       "  u'viewer': None},\n",
       " u'country_code': u'NP',\n",
       " u'display_properties_server_guess': {u'pixel_ratio': 1.5,\n",
       "  u'viewport_width': 360},\n",
       " u'entry_data': {u'TagPage': [{u'tag': {u'content_advisory': None,\n",
       "     u'media': {u'count': 26936342,\n",
       "      u'nodes': [{u'caption': u'\\U0001f525\\u26bd\\n#me #roscio10 #mirror #selfie #yesterday #afternoon #coffee #football #hot #summer #snapchat #snapshot',\n",
       "        u'code': u'BIpbgvugHUj',\n",
       "        u'comments': {u'count': 0},\n",
       "        u'date': 1470229000,\n",
       "        u'dimensions': {u'height': 1350, u'width': 1080},\n",
       "        u'display_src': u'https://igcdn-photos-e-a.akamaihd.net/hphotos-ak-xfa1/t51.2885-15/e35/13743467_650692118432108_361078132_n.jpg?ig_cache_key=MTMwODY5ODE2NDI1MjkzMTM2Mw%3D%3D.2',\n",
       "        u'id': u'1308698164252931363',\n",
       "        u'is_video': False,\n",
       "        u'likes': {u'count': 0},\n",
       "        u'owner': {u'id': u'1129534786'},\n",
       "        u'thumbnail_src': u'https://igcdn-photos-e-a.akamaihd.net/hphotos-ak-xfa1/t51.2885-15/s640x640/sh0.08/e35/c0.135.1080.1080/13743467_650692118432108_361078132_n.jpg?ig_cache_key=MTMwODY5ODE2NDI1MjkzMTM2Mw%3D%3D.2.c'},\n",
       "       {u'caption': u'#jeserodriguez #jese #psg #ronaldo #football #footb_edition #barcelona #realmadrid #oscar #messi #mesutozil #Chelsea #neymar #england #pogba #vardy #arg #bale #pepe #ramos #dimaria #spain #bayern #mancity #argentina #lestercity #halamadrid #madrid #brazil',\n",
       "        u'code': u'BIpbgHGjoKz',\n",
       "        u'comments': {u'count': 0},\n",
       "        u'date': 1470228994,\n",
       "        u'dimensions': {u'height': 1079, u'width': 1080},\n",
       "        u'display_src': u'https://igcdn-photos-d-a.akamaihd.net/hphotos-ak-xfa1/t51.2885-15/e35/13743131_1070395353046147_2041759946_n.jpg?ig_cache_key=MTMwODY5ODEyMDYzMzA5MDczOQ%3D%3D.2',\n",
       "        u'id': u'1308698120633090739',\n",
       "        u'is_video': False,\n",
       "        u'likes': {u'count': 0},\n",
       "        u'owner': {u'id': u'2961373694'},\n",
       "        u'thumbnail_src': u'https://igcdn-photos-d-a.akamaihd.net/hphotos-ak-xfa1/t51.2885-15/s640x640/sh0.08/e35/c0.0.1079.1079/13743131_1070395353046147_2041759946_n.jpg?ig_cache_key=MTMwODY5ODEyMDYzMzA5MDczOQ%3D%3D.2.c'},\n",
       "       {u'caption': u'Packers 18 Randall Cobb Olive Green Player Name & Number Tank Top,Check more on www.royaljerseys.ru [link in bio to save]\\n#GreenBayPackers#Packers#Packersfaithful#Packersnation#Packersallday#Packersfan#Packers4life#Packersfootball#packers#love#gopackersgo#packersforlife#Packersjerseys#GoPackers#gameday#game#football#jerseys #jerseycity #jerseyshore#RandallCobb',\n",
       "        u'code': u'BIpbf87gxhu',\n",
       "        u'comments': {u'count': 0},\n",
       "        u'date': 1470228993,\n",
       "        u'dimensions': {u'height': 640, u'width': 640},\n",
       "        u'display_src': u'https://igcdn-photos-c-a.akamaihd.net/hphotos-ak-xfl1/t51.2885-15/s640x640/e15/13714195_265240223859098_561909793_n.jpg?ig_cache_key=MTMwODY5ODEwOTcxMDM3NTAyMg%3D%3D.2',\n",
       "        u'id': u'1308698109710375022',\n",
       "        u'is_video': False,\n",
       "        u'likes': {u'count': 0},\n",
       "        u'owner': {u'id': u'3210618370'},\n",
       "        u'thumbnail_src': u'https://igcdn-photos-c-a.akamaihd.net/hphotos-ak-xfl1/t51.2885-15/s640x640/e15/13714195_265240223859098_561909793_n.jpg?ig_cache_key=MTMwODY5ODEwOTcxMDM3NTAyMg%3D%3D.2'},\n",
       "       {u'caption': u'#HTers #HashTags #ball #catch #field #fit #football #footballgame #footballgames #footballplayer #footballseason #grass #instagood #jersey #kickoff #nfl #pads #pass #pass #photooftheday #quarterback #run #stadium #superbowl #touchdown #yardline #yards',\n",
       "        u'code': u'BIpbftfDs48',\n",
       "        u'comments': {u'count': 0},\n",
       "        u'date': 1470228991,\n",
       "        u'dimensions': {u'height': 1170, u'width': 1080},\n",
       "        u'display_src': u'https://igcdn-photos-h-a.akamaihd.net/hphotos-ak-xfp1/t51.2885-15/e35/13774588_229227897472375_1201706890_n.jpg?ig_cache_key=MTMwODY5ODA5MzEyNjg2NDQ0NA%3D%3D.2',\n",
       "        u'id': u'1308698093126864444',\n",
       "        u'is_video': False,\n",
       "        u'likes': {u'count': 0},\n",
       "        u'owner': {u'id': u'1153487596'},\n",
       "        u'thumbnail_src': u'https://igcdn-photos-h-a.akamaihd.net/hphotos-ak-xfp1/t51.2885-15/s640x640/sh0.08/e35/c0.45.1080.1080/13774588_229227897472375_1201706890_n.jpg?ig_cache_key=MTMwODY5ODA5MzEyNjg2NDQ0NA%3D%3D.2.c'},\n",
       "       {u'caption': u'Will the SEC bring another football championship home in 2016? #football #footballseason #college #secfootball #sportster #sports #sportsposters #sportslife #espn #dope #rolltide #tennessee #bama #georgia #sc #gators #olemiss #bigblue #lsu #mississippi #vandy #mizzou #razorbacks',\n",
       "        u'code': u'BIpbfG_Ada6',\n",
       "        u'comments': {u'count': 0},\n",
       "        u'date': 1470228986,\n",
       "        u'dimensions': {u'height': 640, u'width': 640},\n",
       "        u'display_src': u'https://igcdn-photos-c-a.akamaihd.net/hphotos-ak-xfp1/t51.2885-15/s640x640/sh0.08/e35/13722280_877336485744642_1349187953_n.jpg?ig_cache_key=MTMwODY5ODA1MTc4Njk1NDQyNg%3D%3D.2',\n",
       "        u'id': u'1308698051786954426',\n",
       "        u'is_video': False,\n",
       "        u'likes': {u'count': 0},\n",
       "        u'owner': {u'id': u'3220727865'},\n",
       "        u'thumbnail_src': u'https://igcdn-photos-c-a.akamaihd.net/hphotos-ak-xfp1/t51.2885-15/s640x640/sh0.08/e35/13722280_877336485744642_1349187953_n.jpg?ig_cache_key=MTMwODY5ODA1MTc4Njk1NDQyNg%3D%3D.2'},\n",
       "       {u'caption': u'\\u04395\\u0448h\\u0443\\u043d\\u044d\\u043f\\u04320\\u043b\\u044e6 #lovemypuppy \\u043f\\u0443 \\u0440\\u0446\\u0444\\u044b0\\u0439\\u0430\\u0433i\\u0436 #football dn6k\\u0434\\u044a\\u0438\\n9\\u0448\\n9\\u0436m\\u04410h9\\u043f #neveu q\\u0437r\\n\\u0446\\u0434\\u0435\\u04312j\\ncd #chefslife \\nj\\u0434\\u043b\\u043e\\u043e\\u0442\\npb\\u0432d\\n #blackgirlsworkouttoo',\n",
       "        u'code': u'BIpbeDxDKvs',\n",
       "        u'comments': {u'count': 0},\n",
       "        u'date': 1470228978,\n",
       "        u'dimensions': {u'height': 640, u'width': 640},\n",
       "        u'display_src': u'https://igcdn-photos-e-a.akamaihd.net/hphotos-ak-xfp1/t51.2885-15/e35/13707157_492106534327020_1594655576_n.jpg?ig_cache_key=MTMwODY5Nzk3OTYxMjA4MTEzMg%3D%3D.2',\n",
       "        u'id': u'1308697979612081132',\n",
       "        u'is_video': False,\n",
       "        u'likes': {u'count': 0},\n",
       "        u'owner': {u'id': u'3563749211'},\n",
       "        u'thumbnail_src': u'https://igcdn-photos-e-a.akamaihd.net/hphotos-ak-xfp1/t51.2885-15/e35/13707157_492106534327020_1594655576_n.jpg?ig_cache_key=MTMwODY5Nzk3OTYxMjA4MTEzMg%3D%3D.2'},\n",
       "       {u'caption': u'Un giornalista chiese ad una teologa tedesca: \\u201cCome spiegherebbe a un bambino che cosa \\xe8 la felicit\\xe0?\\u201d. \\u201cNon glielo spiegherei\\u201d rispose. \\u201cGli darei un pallone per farlo giocare\\u201d. #i #love #football #\\u26bd\\ufe0f',\n",
       "        u'code': u'BIpbd1nAJmX',\n",
       "        u'comments': {u'count': 0},\n",
       "        u'date': 1470228976,\n",
       "        u'dimensions': {u'height': 1080, u'width': 1080},\n",
       "        u'display_src': u'https://igcdn-photos-b-a.akamaihd.net/hphotos-ak-xft1/t51.2885-15/e35/13745250_1796749983895361_395107261_n.jpg?ig_cache_key=MTMwODY5Nzk2NDQxMTEzMjMxMQ%3D%3D.2',\n",
       "        u'id': u'1308697964411132311',\n",
       "        u'is_video': False,\n",
       "        u'likes': {u'count': 1},\n",
       "        u'owner': {u'id': u'301783189'},\n",
       "        u'thumbnail_src': u'https://igcdn-photos-b-a.akamaihd.net/hphotos-ak-xft1/t51.2885-15/s640x640/sh0.08/e35/13745250_1796749983895361_395107261_n.jpg?ig_cache_key=MTMwODY5Nzk2NDQxMTEzMjMxMQ%3D%3D.2'},\n",
       "       {u'caption': u'\\u0627\\u0644\\u0623\\u0645\\u064a\\u0631 \\u0641\\u0647\\u062f \\u0628\\u0646 \\u0633\\u0644\\u0637\\u0627\\u0646 \\u0628\\u0646 \\u0639\\u0628\\u062f\\u0627\\u0644\\u0639\\u0632\\u064a\\u0632 (\\u0627\\u0645\\u064a\\u0631 \\u0645\\u0646\\u0637\\u0642\\u0629 \\u062a\\u0628\\u0648\\u0643) \\u064a\\u062f\\u0639\\u0645 \\u0627\\u0644\\u0627\\u062a\\u062d\\u0627\\u062f \\u0648 \\u0644\\u0646\\u0635\\u0631 \\u0628\\u0645\\u0628\\u0644\\u063a \\u0645\\u0644\\u064a\\u0648\\u0646 \\u0631\\u064a\\u0627\\u0644 \\u0644\\u0643\\u0644 \\u0646\\u0627\\u062f\\u064a\\n.\\n.\\n\\u2022[ #hawa_koora ]\\u2022\\n.\\n.\\n#\\u0646\\u064a\\u0645\\u0627\\u0631 #\\u0627\\u0647\\u062f\\u0627\\u0641 #\\u0647\\u062f\\u0641 #\\u0623\\u062c\\u0645\\u0644_\\u0627\\u0644\\u0623\\u0647\\u062f\\u0627\\u0641 #\\u0642\\u0648\\u0644 #\\u0643\\u0648\\u0631\\u0629 #\\u0643\\u0648\\u0631\\u0647 #\\u0644\\u0627\\u064a\\u0643 #\\u0645\\u0644\\u0639\\u0628 #\\u0643\\u0648\\u0645\\u0646\\u062a #\\u062c\\u0645\\u064a\\u0644 #\\u062c\\u0648\\u0648\\u0644 #nice #goals #goal #game #football #score #\\u0643\\u0631\\u064a\\u0633\\u062a\\u064a\\u0627\\u0646\\u0648 #\\u0645\\u064a\\u0633\\u064a #\\u0646\\u064a\\u0645\\u0627\\u0631 #skill #skills  #messi #ronaldo #xavi #neymar #\\u0632\\u064a\\u062f\\u0627\\u0646 #\\u0631\\u0648\\u0646\\u0627\\u0644\\u062f\\u064a\\u0646\\u0647\\u0648 #super\\n.\\nTag your friends - \\u0645\\u0646\\u0634\\u0646 \\u0644\\u0623\\u0635\\u062f\\u0642\\u0627\\u0626\\u0643',\n",
       "        u'code': u'BIpbdf8ACQ9',\n",
       "        u'comments': {u'count': 0},\n",
       "        u'date': 1470228973,\n",
       "        u'dimensions': {u'height': 1023, u'width': 1080},\n",
       "        u'display_src': u'https://igcdn-photos-a-a.akamaihd.net/hphotos-ak-xfa1/t51.2885-15/e35/13714020_1755662288024312_1315682562_n.jpg?ig_cache_key=MTMwODY5Nzk0MTE0MTEwMzY3Nw%3D%3D.2',\n",
       "        u'id': u'1308697941141103677',\n",
       "        u'is_video': False,\n",
       "        u'likes': {u'count': 3},\n",
       "        u'owner': {u'id': u'3452010305'},\n",
       "        u'thumbnail_src': u'https://igcdn-photos-a-a.akamaihd.net/hphotos-ak-xfa1/t51.2885-15/s640x640/sh0.08/e35/c28.0.1023.1023/13714020_1755662288024312_1315682562_n.jpg?ig_cache_key=MTMwODY5Nzk0MTE0MTEwMzY3Nw%3D%3D.2.c'},\n",
       "       {u'caption': u'What a pleasure it was shooting Daltons senior photos at a place that has meant so much to so many Model: @daltonkeene18 #photography #model #modeling #modellife #denver #denverphotography #denverphotographer #coloradophotographer #colorado #nikon #football #CSH #footballplayer #seniorpictures #seniorportraits #seniorphotographer #seniorinspire #naturallight',\n",
       "        u'code': u'BIpbdZig8_L',\n",
       "        u'comments': {u'count': 0},\n",
       "        u'date': 1470228972,\n",
       "        u'dimensions': {u'height': 1080, u'width': 1080},\n",
       "        u'display_src': u'https://igcdn-photos-g-a.akamaihd.net/hphotos-ak-xfl1/t51.2885-15/e35/13707385_1106127912780566_612928439_n.jpg?ig_cache_key=MTMwODY5NzkzNDI3MTA3NDI1MQ%3D%3D.2',\n",
       "        u'id': u'1308697934271074251',\n",
       "        u'is_video': False,\n",
       "        u'likes': {u'count': 1},\n",
       "        u'owner': {u'id': u'28024024'},\n",
       "        u'thumbnail_src': u'https://igcdn-photos-g-a.akamaihd.net/hphotos-ak-xfl1/t51.2885-15/s640x640/sh0.08/e35/13707385_1106127912780566_612928439_n.jpg?ig_cache_key=MTMwODY5NzkzNDI3MTA3NDI1MQ%3D%3D.2'},\n",
       "       {u'caption': u'Short Sleeved Batik Shirt\\nColour : Brown\\nSize : M \\nPrice @ Rp 85.000\\nLocal Product - Regular Fit - 100% Cotton\\nSize Chart :\\nM : P 67 L 54\\nL : P 72 L 57\\nXL : P 74 L 60\\n#kemejapria #batikpria #bajubatik #kemejakerja #jualkemeja #darahkubiru #jualankaka #jerseygradeori #sepatubasket #sepatufutsal #bajucowo #kemejacowo #ootdindo #localbrand #jerseymurah #seragambatik #olshopindo #olshopjakarta #kemeja #kemejamurah #kemejacowok #kaoskerah #kemejakuliah #football #youngmanapparel\\n#seragamkantor #kaospolo #menstyle #kemejabatik #batik',\n",
       "        u'code': u'BIpbdLihj-5',\n",
       "        u'comments': {u'count': 0},\n",
       "        u'date': 1470228970,\n",
       "        u'dimensions': {u'height': 722, u'width': 1080},\n",
       "        u'display_src': u'https://igcdn-photos-c-a.akamaihd.net/hphotos-ak-xfp1/t51.2885-15/e35/13741142_1565818123722106_414057234_n.jpg?ig_cache_key=MTMwODY5NzkxOTIzODg0ODQ0MQ%3D%3D.2',\n",
       "        u'id': u'1308697919238848441',\n",
       "        u'is_video': False,\n",
       "        u'likes': {u'count': 0},\n",
       "        u'owner': {u'id': u'2048662000'},\n",
       "        u'thumbnail_src': u'https://igcdn-photos-c-a.akamaihd.net/hphotos-ak-xfp1/t51.2885-15/s640x640/sh0.08/e35/c179.0.722.722/13741142_1565818123722106_414057234_n.jpg?ig_cache_key=MTMwODY5NzkxOTIzODg0ODQ0MQ%3D%3D.2.c'},\n",
       "       {u'caption': u'#me #polishboy #polishgirl #sun #lato #Poland #vsco #vscocam #likeforlike #followforfollow #badday #picoftheday #photooftheday #happy #sad #haha #holidays #wakacje #vacation #swag #ja #wroclaw #selfie #samojebka #wroclove #love #smile #like4like #football #ball',\n",
       "        u'code': u'BIpbdBPBWNJ',\n",
       "        u'comments': {u'count': 0},\n",
       "        u'date': 1470228969,\n",
       "        u'dimensions': {u'height': 810, u'width': 1080},\n",
       "        u'display_src': u'https://igcdn-photos-a-a.akamaihd.net/hphotos-ak-xft1/t51.2885-15/e35/13712248_596544533840256_1526068617_n.jpg?ig_cache_key=MTMwODY5NzkwODE3NDIxODA1Nw%3D%3D.2',\n",
       "        u'id': u'1308697908174218057',\n",
       "        u'is_video': False,\n",
       "        u'likes': {u'count': 4},\n",
       "        u'owner': {u'id': u'521033462'},\n",
       "        u'thumbnail_src': u'https://igcdn-photos-a-a.akamaihd.net/hphotos-ak-xft1/t51.2885-15/s640x640/sh0.08/e35/c135.0.810.810/13712248_596544533840256_1526068617_n.jpg?ig_cache_key=MTMwODY5NzkwODE3NDIxODA1Nw%3D%3D.2.c'},\n",
       "       {u'caption': u'Fight till the last breathe....!!!\\nAnime:- Days\\n#anime #animetreat #otaku #manga #days #football #seiseki #motivation #soccer',\n",
       "        u'code': u'BIpbci0hQUv',\n",
       "        u'comments': {u'count': 0},\n",
       "        u'date': 1470228965,\n",
       "        u'dimensions': {u'height': 607, u'width': 1080},\n",
       "        u'display_src': u'https://igcdn-photos-h-a.akamaihd.net/hphotos-ak-xfp1/t51.2885-15/s1080x1080/e15/fr/13743383_277295112646327_916518689_n.jpg?ig_cache_key=MTMwODY5Nzg3NTUxNzM0MzAyMw%3D%3D.2',\n",
       "        u'id': u'1308697875517343023',\n",
       "        u'is_video': True,\n",
       "        u'likes': {u'count': 0},\n",
       "        u'owner': {u'id': u'3584040988'},\n",
       "        u'thumbnail_src': u'https://igcdn-photos-h-a.akamaihd.net/hphotos-ak-xfp1/t51.2885-15/e15/c236.0.607.607/13743383_277295112646327_916518689_n.jpg?ig_cache_key=MTMwODY5Nzg3NTUxNzM0MzAyMw%3D%3D.2.c',\n",
       "        u'video_views': 0},\n",
       "       {u'caption': u'.\\n\\u0644\\u0642\\u0637\\u0627\\u062a \\u0645\\u0646 \\u0627\\u0641\\u062a\\u062a\\u0627\\u062d \\u0628\\u0637\\u0648\\u0644\\u0629 \\u0643\\u0631\\u0629 \\u0627\\u0644\\u0633\\u0644\\u0629 - \\u0627\\u0644\\u0641\\u0626\\u0629 \\u0627\\u0644\\u0627\\u0648\\u0644\\u0649 \\u0641\\u064a \\u0633\\u0627\\u062d\\u0629 \\u0627\\u0644\\u062c\\u0627\\u0641\\u0644\\u064a\\u0629 \\u0648\\u0630\\u0644\\u0643 \\u0636\\u0645\\u0646 \\u062f\\u0648\\u0631\\u0629 \\u0623\\u0644\\u0639\\u0627\\u0628 \\u0627\\u0644\\u0623\\u062d\\u064a\\u0627\\u0621 \\u0627\\u0644\\u0633\\u0643\\u0646\\u064a\\u0629 \"\\u0641\\u0631\\u062c\\u0627\\u0646 9\" \\u0641\\u064a \\u0646\\u0633\\u062e\\u062a\\u0647\\u0627 \\u0627\\u0644\\u062a\\u0627\\u0633\\u0639\\u0629 \\u0648 \\u0627\\u0644\\u062a\\u064a \\u064a\\u0646\\u0638\\u0645\\u0647\\u0627 \\u0645\\u062c\\u0644\\u0633 \\u062f\\u0628\\u064a \\u0627\\u0644\\u0631\\u064a\\u0627\\u0636\\u064a \\u0644\\u0644\\u0639\\u0627\\u0645 \\u0627\\u0644\\u062a\\u0627\\u0633\\u0639 \\u0639\\u0644\\u0649 \\u0627\\u0644\\u062a\\u0648\\u0627\\u0644\\u064a \\u0648 \\u0628\\u0631\\u0639\\u0627\\u064a\\u0629 \"\\u0645\\u0639\\u0647\\u062f \\u0627\\u0644\\u0625\\u0645\\u0627\\u0631\\u0627\\u062a \\u0644\\u0644\\u0633\\u064a\\u0627\\u0642\\u0629\"\\u060c \\u0648 \\u0628\\u0627\\u0644\\u062a\\u0639\\u0627\\u0648\\u0646 \\u0645\\u0639 \\u0628\\u0644\\u062f\\u064a\\u0629 \\u062f\\u0628\\u064a\\n.\\n.\\n\\n#\\u0641\\u0631\\u062c\\u0627\\u0646 #\\u062f\\u0628\\u064a #\\u0628\\u0637\\u0648\\u0644\\u0629 #\\u0627\\u0644\\u0627\\u062d\\u064a\\u0627\\u0621 #\\u0627\\u0644\\u0633\\u0643\\u0646\\u064a\\u0629 #\\u0631\\u064a\\u0627\\u0636\\u0629 #\\u0643\\u0631\\u0629_\\u0627\\u0644\\u0642\\u062f\\u0645 #\\u0643\\u0631\\u0629_\\u0627\\u0644\\u0633\\u0644\\u0629 #\\u0627\\u0644\\u0643\\u0631\\u0629_\\u0627\\u0644\\u0637\\u0627\\u0626\\u0631\\u0629 #\\u062f\\u0628\\u064a #\\u0627\\u0644\\u0634\\u0627\\u0631\\u0642\\u0629 #\\u0639\\u062c\\u0645\\u0627\\u0646 #\\u0627\\u0628\\u0648\\u0638\\u0628\\u064a #\\u0627\\u0644\\u0627\\u0645\\u0627\\u0631\\u0627\\u062a #furjaan #dubai #sports #football #basketball #vollyball #sharjah #abudhabi #ajman #UAE @dubaisc',\n",
       "        u'code': u'BIpbcTkjTdK',\n",
       "        u'comments': {u'count': 0},\n",
       "        u'date': 1470228963,\n",
       "        u'dimensions': {u'height': 426, u'width': 640},\n",
       "        u'display_src': u'https://igcdn-photos-d-a.akamaihd.net/hphotos-ak-xfa1/t51.2885-15/s640x640/sh0.08/e35/13725611_836773446427587_148193565_n.jpg?ig_cache_key=MTMwODY5Nzg1OTE0MzMxNzMyMg%3D%3D.2',\n",
       "        u'id': u'1308697859143317322',\n",
       "        u'is_video': False,\n",
       "        u'likes': {u'count': 0},\n",
       "        u'owner': {u'id': u'308492859'},\n",
       "        u'thumbnail_src': u'https://igcdn-photos-d-a.akamaihd.net/hphotos-ak-xfa1/t51.2885-15/e35/c116.0.467.467/13725611_836773446427587_148193565_n.jpg?ig_cache_key=MTMwODY5Nzg1OTE0MzMxNzMyMg%3D%3D.2.c'},\n",
       "       {u'caption': u'Rajko Miti\\u0107 Stadion (Marakana), Belgrade, Serbia . FK Crvena Zvezda v Ludogorets in the third round of UEFA Champions League qualifying. 2/8/16. #RajkoMiticStadion #Marakana #RedStarStadium #FKCrvenaZvezda #CrvenaZvezda #RedStar #RedStarBelgrade #Delije #DelijeSever #Ludogorets #UEFA #UEFAMAFIA #ChampionsLeague #Qualifying #Belgrade #Beograd #Serbia #Srbija #Football',\n",
       "        u'code': u'BIpbcMFAKRD',\n",
       "        u'comments': {u'count': 0},\n",
       "        u'date': 1470228962,\n",
       "        u'dimensions': {u'height': 339, u'width': 612},\n",
       "        u'display_src': u'https://igcdn-photos-d-a.akamaihd.net/hphotos-ak-xfa1/t51.2885-15/e15/13731259_155927724833971_1525607181_n.jpg?ig_cache_key=MTMwODY5Nzg1MTA5NzgxODE3OQ%3D%3D.2',\n",
       "        u'id': u'1308697851097818179',\n",
       "        u'is_video': True,\n",
       "        u'likes': {u'count': 0},\n",
       "        u'owner': {u'id': u'2462062054'},\n",
       "        u'thumbnail_src': u'https://igcdn-photos-d-a.akamaihd.net/hphotos-ak-xfa1/t51.2885-15/e15/c136.0.339.339/13731259_155927724833971_1525607181_n.jpg?ig_cache_key=MTMwODY5Nzg1MTA5NzgxODE3OQ%3D%3D.2.c',\n",
       "        u'video_views': 1},\n",
       "       {u'caption': u'I love this pic so much\\U0001f63b\\U0001f648\\U0001f525\\nWho can made goods video edits? DM please\\u2764\\U0001f64f #kissthesky #platinumhits  #carrasco #football #cute #atletico #jasonderulo #music #platinumhits\\n#love #tousensemble #sport #belgianreddevils #Belgium #lovehim #l4l #f4f #like4like #paradise #follow4followback #instagram #picoftheday #prayforlove \\n#prayfortheworld #derulofamily #marcwilmots #madrid #atleticomadrid #myworld #kissthesky #2K16 #2016',\n",
       "        u'code': u'BIpbcGch6Bg',\n",
       "        u'comments': {u'count': 0},\n",
       "        u'date': 1470228962,\n",
       "        u'dimensions': {u'height': 937, u'width': 750},\n",
       "        u'display_src': u'https://igcdn-photos-a-a.akamaihd.net/hphotos-ak-xfa1/t51.2885-15/sh0.08/e35/p750x750/13694353_1766743516876352_614314253_n.jpg?ig_cache_key=MTMwODY5Nzg0NTA1MDA4OTU2OA%3D%3D.2',\n",
       "        u'id': u'1308697845050089568',\n",
       "        u'is_video': False,\n",
       "        u'likes': {u'count': 2},\n",
       "        u'owner': {u'id': u'3141933987'},\n",
       "        u'thumbnail_src': u'https://igcdn-photos-a-a.akamaihd.net/hphotos-ak-xfa1/t51.2885-15/s640x640/sh0.08/e35/c0.100.800.800/13694353_1766743516876352_614314253_n.jpg?ig_cache_key=MTMwODY5Nzg0NTA1MDA4OTU2OA%3D%3D.2.c'},\n",
       "       {u'caption': u'\\U0001f534\\u26ab\\ufe0f\\U0001f534 #fc\\uc11c\\uc6b8 #\\uc131\\ub0a8fc #\\ub370\\uc580 #\\uc2b9\\ub9ac\\U0001f64c #\\ud0c4\\ucc9c\\uc885\\ud569\\uc6b4\\ub3d9\\uc7a5 #k\\ub9ac\\uadf8 #football #fcseoul #\\ucd95\\uc2a4\\ud0c0\\uadf8\\ub7a8 \\u26bd\\ufe0f\\U0001f3c3\\U0001f3fc',\n",
       "        u'code': u'BIpbbthAPbV',\n",
       "        u'comments': {u'count': 0},\n",
       "        u'date': 1470228958,\n",
       "        u'dimensions': {u'height': 802, u'width': 1080},\n",
       "        u'display_src': u'https://igcdn-photos-g-a.akamaihd.net/hphotos-ak-xfa1/t51.2885-15/e35/13704233_1327369597304334_1201970536_n.jpg?ig_cache_key=MTMwODY5NzgxODI4MTYwNDgyMQ%3D%3D.2',\n",
       "        u'id': u'1308697818281604821',\n",
       "        u'is_video': False,\n",
       "        u'likes': {u'count': 0},\n",
       "        u'owner': {u'id': u'386570441'},\n",
       "        u'thumbnail_src': u'https://igcdn-photos-g-a.akamaihd.net/hphotos-ak-xfa1/t51.2885-15/s640x640/sh0.08/e35/c139.0.802.802/13704233_1327369597304334_1201970536_n.jpg?ig_cache_key=MTMwODY5NzgxODI4MTYwNDgyMQ%3D%3D.2.c'}],\n",
       "      u'page_info': {u'end_cursor': u'J0HV6HqCAAAAF0HV6Hp3gAAAFiYA',\n",
       "       u'has_next_page': True,\n",
       "       u'has_previous_page': False,\n",
       "       u'start_cursor': u'1308698164252931363'}},\n",
       "     u'name': u'football',\n",
       "     u'top_posts': {u'nodes': [{u'caption': u\"\\u26bd\\ufe0f\\U0001f3bc \\u0647\\u062f\\u0641 \\u0641\\u064a \\u0627\\u0644\\u062f\\u0648\\u0631\\u064a \\u0627\\u0644\\u0627\\u0631\\u062f\\u0646\\u064a \\u0627\\u0644\\u0645\\u0639\\u0644\\u0642 \\u0631\\u0647\\u064a\\u0628 \\U0001f60d\\n'\\n'\\n'\\n'\\n'\\n'\\n#Dubai #dxb #mydubai #fifa #realmadred #goal #realmadrid #euro2016 #cr7 #bbc #beinsport #bein #euro #ksa #sport #faz3 #fazza #xdubai #football #king #love #messi #fcbarcelona #fcb #milano #leg #ball #france\",\n",
       "        u'code': u'BIpOC9aDgzI',\n",
       "        u'comments': {u'count': 66},\n",
       "        u'date': 1470221940,\n",
       "        u'dimensions': {u'height': 640, u'width': 640},\n",
       "        u'display_src': u'https://igcdn-photos-a-a.akamaihd.net/hphotos-ak-xfl1/t51.2885-15/e15/13827432_145684535867736_2136794841_n.jpg?ig_cache_key=MTMwODYzODk0Mjc1MzMyODMyOA%3D%3D.2',\n",
       "        u'id': u'1308638942753328328',\n",
       "        u'is_video': True,\n",
       "        u'likes': {u'count': 2102},\n",
       "        u'owner': {u'id': u'1533382305'},\n",
       "        u'thumbnail_src': u'https://igcdn-photos-a-a.akamaihd.net/hphotos-ak-xfl1/t51.2885-15/e15/13827432_145684535867736_2136794841_n.jpg?ig_cache_key=MTMwODYzODk0Mjc1MzMyODMyOA%3D%3D.2',\n",
       "        u'video_views': 8419},\n",
       "       {u'caption': u'#Bale back at #Tottenham! \\U0001f525\\u26bd\\ufe0f',\n",
       "        u'code': u'BIpMvj8jbA4',\n",
       "        u'comments': {u'count': 59},\n",
       "        u'date': 1470221257,\n",
       "        u'dimensions': {u'height': 612, u'width': 612},\n",
       "        u'display_src': u'https://igcdn-photos-c-a.akamaihd.net/hphotos-ak-xft1/t51.2885-15/e15/13774221_1021583317961682_1370477655_n.jpg?ig_cache_key=MTMwODYzMzIxMTY5ODI2MjA3Mg%3D%3D.2',\n",
       "        u'id': u'1308633211698262072',\n",
       "        u'is_video': True,\n",
       "        u'likes': {u'count': 9336},\n",
       "        u'owner': {u'id': u'1498697667'},\n",
       "        u'thumbnail_src': u'https://igcdn-photos-c-a.akamaihd.net/hphotos-ak-xft1/t51.2885-15/e15/13774221_1021583317961682_1370477655_n.jpg?ig_cache_key=MTMwODYzMzIxMTY5ODI2MjA3Mg%3D%3D.2',\n",
       "        u'video_views': 30699},\n",
       "       {u'caption': u'Simply Mario #Balotelli \\U0001f602\\U0001f44d\\U0001f3fc',\n",
       "        u'code': u'BIo__y3A9eP',\n",
       "        u'comments': {u'count': 390},\n",
       "        u'date': 1470214574,\n",
       "        u'dimensions': {u'height': 640, u'width': 640},\n",
       "        u'display_src': u'https://igcdn-photos-f-a.akamaihd.net/hphotos-ak-xfl1/t51.2885-15/e15/13704196_582900515246557_1656708324_n.jpg?ig_cache_key=MTMwODU3NzE1MjYxODQ1Mjg3OQ%3D%3D.2',\n",
       "        u'id': u'1308577152618452879',\n",
       "        u'is_video': True,\n",
       "        u'likes': {u'count': 35618},\n",
       "        u'owner': {u'id': u'1021128822'},\n",
       "        u'thumbnail_src': u'https://igcdn-photos-f-a.akamaihd.net/hphotos-ak-xfl1/t51.2885-15/e15/13704196_582900515246557_1656708324_n.jpg?ig_cache_key=MTMwODU3NzE1MjYxODQ1Mjg3OQ%3D%3D.2',\n",
       "        u'video_views': 136225},\n",
       "       {u'caption': u'\\U0001f4cdCamp Nou \\U0001f60d\\n#igersfcb #fcbarcelona #football #campnou',\n",
       "        u'code': u'BInfcZ7hmPj',\n",
       "        u'comments': {u'count': 1614},\n",
       "        u'date': 1470163952,\n",
       "        u'dimensions': {u'height': 662, u'width': 1080},\n",
       "        u'display_src': u'https://igcdn-photos-b-a.akamaihd.net/hphotos-ak-xfa1/t51.2885-15/e35/13696384_1580579508904001_152074641_n.jpg?ig_cache_key=MTMwODE1MjUwODIwMzgyMDAwMw%3D%3D.2',\n",
       "        u'id': u'1308152508203820003',\n",
       "        u'is_video': False,\n",
       "        u'likes': {u'count': 438183},\n",
       "        u'owner': {u'id': u'260375673'},\n",
       "        u'thumbnail_src': u'https://igcdn-photos-b-a.akamaihd.net/hphotos-ak-xfa1/t51.2885-15/s640x640/sh0.08/e35/c209.0.662.662/13696384_1580579508904001_152074641_n.jpg?ig_cache_key=MTMwODE1MjUwODIwMzgyMDAwMw%3D%3D.2.c'},\n",
       "       {u'caption': u'Difficult finish by Jeremain Lens!! \\U0001f60e #football #goal @soccerstarz',\n",
       "        u'code': u'BIpOfPgBoCF',\n",
       "        u'comments': {u'count': 121},\n",
       "        u'date': 1470222172,\n",
       "        u'dimensions': {u'height': 612, u'width': 612},\n",
       "        u'display_src': u'https://igcdn-photos-g-a.akamaihd.net/hphotos-ak-xfp1/t51.2885-15/e15/13706898_923814151078422_1431389455_n.jpg?ig_cache_key=MTMwODY0MDg4NjMyNjE5ODQwNQ%3D%3D.2',\n",
       "        u'id': u'1308640886326198405',\n",
       "        u'is_video': True,\n",
       "        u'likes': {u'count': 13521},\n",
       "        u'owner': {u'id': u'2103732559'},\n",
       "        u'thumbnail_src': u'https://igcdn-photos-g-a.akamaihd.net/hphotos-ak-xfp1/t51.2885-15/e15/13706898_923814151078422_1431389455_n.jpg?ig_cache_key=MTMwODY0MDg4NjMyNjE5ODQwNQ%3D%3D.2',\n",
       "        u'video_views': 48218},\n",
       "       {u'caption': u'Lovely night tonight with friends. BBQ night good food good company. G\\xfczel bir gece ge\\xe7erdik. Mangal keyfi yeni arkada\\u015flar #hebei#football#china#be\\u015fikta\\u015f#22',\n",
       "        u'code': u'BIpRx9iBCKH',\n",
       "        u'comments': {u'count': 63},\n",
       "        u'date': 1470223898,\n",
       "        u'dimensions': {u'height': 1080, u'width': 1080},\n",
       "        u'display_src': u'https://igcdn-photos-d-a.akamaihd.net/hphotos-ak-xft1/t51.2885-15/e35/13734242_1571718109797251_830829266_n.jpg?ig_cache_key=MTMwODY1NTM2Njg0MTgzNjE2Nw%3D%3D.2',\n",
       "        u'id': u'1308655366841836167',\n",
       "        u'is_video': False,\n",
       "        u'likes': {u'count': 6300},\n",
       "        u'owner': {u'id': u'286333689'},\n",
       "        u'thumbnail_src': u'https://igcdn-photos-d-a.akamaihd.net/hphotos-ak-xft1/t51.2885-15/s640x640/sh0.08/e35/13734242_1571718109797251_830829266_n.jpg?ig_cache_key=MTMwODY1NTM2Njg0MTgzNjE2Nw%3D%3D.2'},\n",
       "       {u'caption': u'#Goal #Goals...#Football #Home #Garden',\n",
       "        u'code': u'BIpTME8D47M',\n",
       "        u'comments': {u'count': 48},\n",
       "        u'date': 1470224636,\n",
       "        u'dimensions': {u'height': 268, u'width': 480},\n",
       "        u'display_src': u'https://igcdn-photos-h-a.akamaihd.net/hphotos-ak-xft1/t51.2885-15/s480x480/e35/13694862_1776324755985103_21856163_n.jpg?ig_cache_key=MTMwODY2MTU1OTU0Nzg5MTQwNA%3D%3D.2',\n",
       "        u'id': u'1308661559547891404',\n",
       "        u'is_video': False,\n",
       "        u'likes': {u'count': 3877},\n",
       "        u'owner': {u'id': u'528278075'},\n",
       "        u'thumbnail_src': u'https://igcdn-photos-h-a.akamaihd.net/hphotos-ak-xft1/t51.2885-15/e35/c132.0.336.336/13694862_1776324755985103_21856163_n.jpg?ig_cache_key=MTMwODY2MTU1OTU0Nzg5MTQwNA%3D%3D.2.c'},\n",
       "       {u'caption': u'Matri substitution \\U0001f631 #Tag a benchwarmer \\U0001f447',\n",
       "        u'code': u'BIpWnJ6BvGl',\n",
       "        u'comments': {u'count': 102},\n",
       "        u'date': 1470226431,\n",
       "        u'dimensions': {u'height': 480, u'width': 640},\n",
       "        u'display_src': u'https://igcdn-photos-f-a.akamaihd.net/hphotos-ak-xft1/t51.2885-15/e15/13724527_919903751472741_727542281_n.jpg?ig_cache_key=MTMwODY3NjYxNDQ0Nzg4Njc1Nw%3D%3D.2',\n",
       "        u'id': u'1308676614447886757',\n",
       "        u'is_video': True,\n",
       "        u'likes': {u'count': 5098},\n",
       "        u'owner': {u'id': u'1017415554'},\n",
       "        u'thumbnail_src': u'https://igcdn-photos-f-a.akamaihd.net/hphotos-ak-xft1/t51.2885-15/e15/c80.0.480.480/13724527_919903751472741_727542281_n.jpg?ig_cache_key=MTMwODY3NjYxNDQ0Nzg4Njc1Nw%3D%3D.2.c',\n",
       "        u'video_views': 15472},\n",
       "       {u'caption': u'Cristiano #Ronaldo vs Manchester United \\U0001f525\\nTag friends! \\U0001f465\\n\\U0001f3b5Song: Mako Way Back Home (FURY Remix)',\n",
       "        u'code': u'BIo-TnGD-LB',\n",
       "        u'comments': {u'count': 21},\n",
       "        u'date': 1470213688,\n",
       "        u'dimensions': {u'height': 640, u'width': 640},\n",
       "        u'display_src': u'https://igcdn-photos-e-a.akamaihd.net/hphotos-ak-xfa1/t51.2885-15/s640x640/e15/13722043_1044348608982588_870021053_n.jpg?ig_cache_key=MTMwODU2OTcxODI4MjUxMTA0MQ%3D%3D.2',\n",
       "        u'id': u'1308569718282511041',\n",
       "        u'is_video': True,\n",
       "        u'likes': {u'count': 6156},\n",
       "        u'owner': {u'id': u'1562186103'},\n",
       "        u'thumbnail_src': u'https://igcdn-photos-e-a.akamaihd.net/hphotos-ak-xfa1/t51.2885-15/s640x640/e15/13722043_1044348608982588_870021053_n.jpg?ig_cache_key=MTMwODU2OTcxODI4MjUxMTA0MQ%3D%3D.2',\n",
       "        u'video_views': 17218}]}}}]},\n",
       " u'environment_switcher_visible_server_guess': True,\n",
       " u'gatekeepers': {u'sulgin': True},\n",
       " u'hostname': u'www.instagram.com',\n",
       " u'language_code': u'en',\n",
       " u'platform': u'web',\n",
       " u'qe': {u'discovery': {u'g': u'', u'p': {}},\n",
       "  u'su': {u'g': u'rollout_20160325', u'p': {u'enabled': u'true'}},\n",
       "  u'su_universe': {u'g': u'', u'p': {}},\n",
       "  u'us': {u'g': u'', u'p': {}}},\n",
       " u'show_app_install': True,\n",
       " u'static_root': u'//instagramstatic-a.akamaihd.net/h1'}"
      ]
     },
     "execution_count": 9,
     "metadata": {},
     "output_type": "execute_result"
    }
   ],
   "source": [
    "data"
   ]
  },
  {
   "cell_type": "code",
   "execution_count": 10,
   "metadata": {
    "collapsed": false
   },
   "outputs": [
    {
     "data": {
      "text/plain": [
       "[u'show_app_install',\n",
       " u'static_root',\n",
       " u'entry_data',\n",
       " u'hostname',\n",
       " u'platform',\n",
       " u'qe',\n",
       " u'display_properties_server_guess',\n",
       " u'country_code',\n",
       " u'language_code',\n",
       " u'gatekeepers',\n",
       " u'config',\n",
       " u'environment_switcher_visible_server_guess']"
      ]
     },
     "execution_count": 10,
     "metadata": {},
     "output_type": "execute_result"
    }
   ],
   "source": [
    "data.keys()\n"
   ]
  },
  {
   "cell_type": "markdown",
   "metadata": {},
   "source": []
  },
  {
   "cell_type": "markdown",
   "metadata": {},
   "source": [
    "# from the  main page we are only interested in 'entry_data'\n",
    "\n",
    "- data['entry_data']"
   ]
  },
  {
   "cell_type": "code",
   "execution_count": 11,
   "metadata": {
    "collapsed": false
   },
   "outputs": [],
   "source": [
    "# data['entry_data']"
   ]
  },
  {
   "cell_type": "code",
   "execution_count": 12,
   "metadata": {
    "collapsed": false
   },
   "outputs": [
    {
     "data": {
      "text/plain": [
       "[u'media', u'content_advisory', u'top_posts', u'name']"
      ]
     },
     "execution_count": 12,
     "metadata": {},
     "output_type": "execute_result"
    }
   ],
   "source": [
    "data['entry_data']['TagPage'][0]['tag'].keys()"
   ]
  },
  {
   "cell_type": "markdown",
   "metadata": {},
   "source": [
    "# only interested in 'media'\n",
    "- data['entry_data']['TagPage'][0]['tag']['media']"
   ]
  },
  {
   "cell_type": "code",
   "execution_count": 13,
   "metadata": {
    "collapsed": false
   },
   "outputs": [
    {
     "data": {
      "text/plain": [
       "[u'count', u'page_info', u'nodes']"
      ]
     },
     "execution_count": 13,
     "metadata": {},
     "output_type": "execute_result"
    }
   ],
   "source": [
    "media = data['entry_data']['TagPage'][0]['tag']['media']\n",
    "media.keys()"
   ]
  },
  {
   "cell_type": "markdown",
   "metadata": {},
   "source": [
    "# only interested in 'nodes' that contain all the posts details\n",
    "nodes containd all the post detail and link \n",
    "\n",
    "- media['nodes']"
   ]
  },
  {
   "cell_type": "code",
   "execution_count": 14,
   "metadata": {
    "collapsed": false
   },
   "outputs": [
    {
     "data": {
      "text/plain": [
       "[u'code',\n",
       " u'dimensions',\n",
       " u'owner',\n",
       " u'comments',\n",
       " u'caption',\n",
       " u'likes',\n",
       " u'date',\n",
       " u'thumbnail_src',\n",
       " u'is_video',\n",
       " u'id',\n",
       " u'display_src']"
      ]
     },
     "execution_count": 14,
     "metadata": {},
     "output_type": "execute_result"
    }
   ],
   "source": [
    "media['nodes'][0].keys()"
   ]
  },
  {
   "cell_type": "code",
   "execution_count": 15,
   "metadata": {
    "collapsed": false
   },
   "outputs": [
    {
     "data": {
      "text/plain": [
       "{u'caption': u'\\U0001f525\\u26bd\\n#me #roscio10 #mirror #selfie #yesterday #afternoon #coffee #football #hot #summer #snapchat #snapshot',\n",
       " u'code': u'BIpbgvugHUj',\n",
       " u'comments': {u'count': 0},\n",
       " u'date': 1470229000,\n",
       " u'dimensions': {u'height': 1350, u'width': 1080},\n",
       " u'display_src': u'https://igcdn-photos-e-a.akamaihd.net/hphotos-ak-xfa1/t51.2885-15/e35/13743467_650692118432108_361078132_n.jpg?ig_cache_key=MTMwODY5ODE2NDI1MjkzMTM2Mw%3D%3D.2',\n",
       " u'id': u'1308698164252931363',\n",
       " u'is_video': False,\n",
       " u'likes': {u'count': 0},\n",
       " u'owner': {u'id': u'1129534786'},\n",
       " u'thumbnail_src': u'https://igcdn-photos-e-a.akamaihd.net/hphotos-ak-xfa1/t51.2885-15/s640x640/sh0.08/e35/c0.135.1080.1080/13743467_650692118432108_361078132_n.jpg?ig_cache_key=MTMwODY5ODE2NDI1MjkzMTM2Mw%3D%3D.2.c'}"
      ]
     },
     "execution_count": 15,
     "metadata": {},
     "output_type": "execute_result"
    }
   ],
   "source": [
    "media['nodes'][0]"
   ]
  },
  {
   "cell_type": "markdown",
   "metadata": {},
   "source": [
    "## from media['nodes'][0].keys() only interested in \n",
    " - u'comments',\n",
    " - u'caption',\n",
    " - u'likes',\n",
    " - u'date',\n",
    "\n"
   ]
  },
  {
   "cell_type": "code",
   "execution_count": 16,
   "metadata": {
    "collapsed": true
   },
   "outputs": [],
   "source": [
    "node = media['nodes'][0]"
   ]
  },
  {
   "cell_type": "markdown",
   "metadata": {},
   "source": [
    " # Url link to the post"
   ]
  },
  {
   "cell_type": "code",
   "execution_count": 17,
   "metadata": {
    "collapsed": false
   },
   "outputs": [
    {
     "data": {
      "text/plain": [
       "u'BIpbgvugHUj'"
      ]
     },
     "execution_count": 17,
     "metadata": {},
     "output_type": "execute_result"
    }
   ],
   "source": [
    "link_to_the_post = node['code']\n",
    "link_to_the_post"
   ]
  },
  {
   "cell_type": "code",
   "execution_count": 18,
   "metadata": {
    "collapsed": false
   },
   "outputs": [
    {
     "name": "stdout",
     "output_type": "stream",
     "text": [
      "https://www.instagram.com/p/BIpbgvugHUj\n"
     ]
    }
   ],
   "source": [
    "print(\"https://www.instagram.com/p/{}\".format(link_to_the_post))"
   ]
  },
  {
   "cell_type": "markdown",
   "metadata": {},
   "source": [
    "# caption of the post  which contain hash tags ,title,other "
   ]
  },
  {
   "cell_type": "code",
   "execution_count": 19,
   "metadata": {
    "collapsed": false
   },
   "outputs": [],
   "source": [
    "caption = node['caption']"
   ]
  },
  {
   "cell_type": "markdown",
   "metadata": {},
   "source": [
    "# Comments count post "
   ]
  },
  {
   "cell_type": "code",
   "execution_count": 20,
   "metadata": {
    "collapsed": false
   },
   "outputs": [
    {
     "data": {
      "text/plain": [
       "0"
      ]
     },
     "execution_count": 20,
     "metadata": {},
     "output_type": "execute_result"
    }
   ],
   "source": [
    "comments_count = node['comments']['count']\n",
    "comments_count"
   ]
  },
  {
   "cell_type": "markdown",
   "metadata": {},
   "source": [
    "# likes count of the post "
   ]
  },
  {
   "cell_type": "code",
   "execution_count": 21,
   "metadata": {
    "collapsed": false
   },
   "outputs": [
    {
     "data": {
      "text/plain": [
       "0"
      ]
     },
     "execution_count": 21,
     "metadata": {},
     "output_type": "execute_result"
    }
   ],
   "source": [
    "likes_count = node['likes']['count']\n",
    "likes_count"
   ]
  },
  {
   "cell_type": "markdown",
   "metadata": {},
   "source": [
    "#  Date of post in miliseconds\n",
    "- converting miliseconds to human readable date"
   ]
  },
  {
   "cell_type": "code",
   "execution_count": 22,
   "metadata": {
    "collapsed": false
   },
   "outputs": [
    {
     "name": "stdout",
     "output_type": "stream",
     "text": [
      "('Epoc', 1470229000)\n",
      "*************\n",
      "2016-08-03 18:41:40\n",
      "Wed,03 Aug 2016 18:4140\n"
     ]
    }
   ],
   "source": [
    "import datetime\n",
    "post_date = node['date']\n",
    "\n",
    "print(\"Epoc\", post_date )\n",
    "print(\"*************\")\n",
    "print(datetime.datetime.fromtimestamp(post_date))\n",
    "post_date = time.strftime(\"%a,%d %b %Y %H:%M%S\",time.localtime(post_date))\n",
    "print(post_date)\n",
    "\n"
   ]
  },
  {
   "cell_type": "markdown",
   "metadata": {},
   "source": [
    "# testing second nodes that is second post from list"
   ]
  },
  {
   "cell_type": "code",
   "execution_count": 23,
   "metadata": {
    "collapsed": false
   },
   "outputs": [
    {
     "data": {
      "text/plain": [
       "{u'caption': u'#jeserodriguez #jese #psg #ronaldo #football #footb_edition #barcelona #realmadrid #oscar #messi #mesutozil #Chelsea #neymar #england #pogba #vardy #arg #bale #pepe #ramos #dimaria #spain #bayern #mancity #argentina #lestercity #halamadrid #madrid #brazil',\n",
       " u'code': u'BIpbgHGjoKz',\n",
       " u'comments': {u'count': 0},\n",
       " u'date': 1470228994,\n",
       " u'dimensions': {u'height': 1079, u'width': 1080},\n",
       " u'display_src': u'https://igcdn-photos-d-a.akamaihd.net/hphotos-ak-xfa1/t51.2885-15/e35/13743131_1070395353046147_2041759946_n.jpg?ig_cache_key=MTMwODY5ODEyMDYzMzA5MDczOQ%3D%3D.2',\n",
       " u'id': u'1308698120633090739',\n",
       " u'is_video': False,\n",
       " u'likes': {u'count': 0},\n",
       " u'owner': {u'id': u'2961373694'},\n",
       " u'thumbnail_src': u'https://igcdn-photos-d-a.akamaihd.net/hphotos-ak-xfa1/t51.2885-15/s640x640/sh0.08/e35/c0.0.1079.1079/13743131_1070395353046147_2041759946_n.jpg?ig_cache_key=MTMwODY5ODEyMDYzMzA5MDczOQ%3D%3D.2.c'}"
      ]
     },
     "execution_count": 23,
     "metadata": {},
     "output_type": "execute_result"
    }
   ],
   "source": [
    "media['nodes'][1]"
   ]
  },
  {
   "cell_type": "code",
   "execution_count": 24,
   "metadata": {
    "collapsed": false
   },
   "outputs": [
    {
     "name": "stdout",
     "output_type": "stream",
     "text": [
      "('Link: ', u'BIpbgvugHUj')\n",
      "('Date: ', 1470229000)\n",
      "('Comments Count: ', 0)\n",
      "('Likes Count: ', 0)\n",
      "('Caption : ', u'\\U0001f525\\u26bd\\n#me #roscio10 #mirror #selfie #yesterday #afternoon #coffee #football #hot #summer #snapchat #snapshot')\n",
      "*************************************************\n",
      "('Link: ', u'BIpbgHGjoKz')\n",
      "('Date: ', 1470228994)\n",
      "('Comments Count: ', 0)\n",
      "('Likes Count: ', 0)\n",
      "('Caption : ', u'#jeserodriguez #jese #psg #ronaldo #football #footb_edition #barcelona #realmadrid #oscar #messi #mesutozil #Chelsea #neymar #england #pogba #vardy #arg #bale #pepe #ramos #dimaria #spain #bayern #mancity #argentina #lestercity #halamadrid #madrid #brazil')\n",
      "*************************************************\n",
      "('Link: ', u'BIpbf87gxhu')\n",
      "('Date: ', 1470228993)\n",
      "('Comments Count: ', 0)\n",
      "('Likes Count: ', 0)\n",
      "('Caption : ', u'Packers 18 Randall Cobb Olive Green Player Name & Number Tank Top,Check more on www.royaljerseys.ru [link in bio to save]\\n#GreenBayPackers#Packers#Packersfaithful#Packersnation#Packersallday#Packersfan#Packers4life#Packersfootball#packers#love#gopackersgo#packersforlife#Packersjerseys#GoPackers#gameday#game#football#jerseys #jerseycity #jerseyshore#RandallCobb')\n",
      "*************************************************\n",
      "('Link: ', u'BIpbftfDs48')\n",
      "('Date: ', 1470228991)\n",
      "('Comments Count: ', 0)\n",
      "('Likes Count: ', 0)\n",
      "('Caption : ', u'#HTers #HashTags #ball #catch #field #fit #football #footballgame #footballgames #footballplayer #footballseason #grass #instagood #jersey #kickoff #nfl #pads #pass #pass #photooftheday #quarterback #run #stadium #superbowl #touchdown #yardline #yards')\n",
      "*************************************************\n",
      "('Link: ', u'BIpbfG_Ada6')\n",
      "('Date: ', 1470228986)\n",
      "('Comments Count: ', 0)\n",
      "('Likes Count: ', 0)\n",
      "('Caption : ', u'Will the SEC bring another football championship home in 2016? #football #footballseason #college #secfootball #sportster #sports #sportsposters #sportslife #espn #dope #rolltide #tennessee #bama #georgia #sc #gators #olemiss #bigblue #lsu #mississippi #vandy #mizzou #razorbacks')\n",
      "*************************************************\n",
      "('Link: ', u'BIpbeDxDKvs')\n",
      "('Date: ', 1470228978)\n",
      "('Comments Count: ', 0)\n",
      "('Likes Count: ', 0)\n",
      "('Caption : ', u'\\u04395\\u0448h\\u0443\\u043d\\u044d\\u043f\\u04320\\u043b\\u044e6 #lovemypuppy \\u043f\\u0443 \\u0440\\u0446\\u0444\\u044b0\\u0439\\u0430\\u0433i\\u0436 #football dn6k\\u0434\\u044a\\u0438\\n9\\u0448\\n9\\u0436m\\u04410h9\\u043f #neveu q\\u0437r\\n\\u0446\\u0434\\u0435\\u04312j\\ncd #chefslife \\nj\\u0434\\u043b\\u043e\\u043e\\u0442\\npb\\u0432d\\n #blackgirlsworkouttoo')\n",
      "*************************************************\n",
      "('Link: ', u'BIpbd1nAJmX')\n",
      "('Date: ', 1470228976)\n",
      "('Comments Count: ', 0)\n",
      "('Likes Count: ', 1)\n",
      "('Caption : ', u'Un giornalista chiese ad una teologa tedesca: \\u201cCome spiegherebbe a un bambino che cosa \\xe8 la felicit\\xe0?\\u201d. \\u201cNon glielo spiegherei\\u201d rispose. \\u201cGli darei un pallone per farlo giocare\\u201d. #i #love #football #\\u26bd\\ufe0f')\n",
      "*************************************************\n",
      "('Link: ', u'BIpbdf8ACQ9')\n",
      "('Date: ', 1470228973)\n",
      "('Comments Count: ', 0)\n",
      "('Likes Count: ', 3)\n",
      "('Caption : ', u'\\u0627\\u0644\\u0623\\u0645\\u064a\\u0631 \\u0641\\u0647\\u062f \\u0628\\u0646 \\u0633\\u0644\\u0637\\u0627\\u0646 \\u0628\\u0646 \\u0639\\u0628\\u062f\\u0627\\u0644\\u0639\\u0632\\u064a\\u0632 (\\u0627\\u0645\\u064a\\u0631 \\u0645\\u0646\\u0637\\u0642\\u0629 \\u062a\\u0628\\u0648\\u0643) \\u064a\\u062f\\u0639\\u0645 \\u0627\\u0644\\u0627\\u062a\\u062d\\u0627\\u062f \\u0648 \\u0644\\u0646\\u0635\\u0631 \\u0628\\u0645\\u0628\\u0644\\u063a \\u0645\\u0644\\u064a\\u0648\\u0646 \\u0631\\u064a\\u0627\\u0644 \\u0644\\u0643\\u0644 \\u0646\\u0627\\u062f\\u064a\\n.\\n.\\n\\u2022[ #hawa_koora ]\\u2022\\n.\\n.\\n#\\u0646\\u064a\\u0645\\u0627\\u0631 #\\u0627\\u0647\\u062f\\u0627\\u0641 #\\u0647\\u062f\\u0641 #\\u0623\\u062c\\u0645\\u0644_\\u0627\\u0644\\u0623\\u0647\\u062f\\u0627\\u0641 #\\u0642\\u0648\\u0644 #\\u0643\\u0648\\u0631\\u0629 #\\u0643\\u0648\\u0631\\u0647 #\\u0644\\u0627\\u064a\\u0643 #\\u0645\\u0644\\u0639\\u0628 #\\u0643\\u0648\\u0645\\u0646\\u062a #\\u062c\\u0645\\u064a\\u0644 #\\u062c\\u0648\\u0648\\u0644 #nice #goals #goal #game #football #score #\\u0643\\u0631\\u064a\\u0633\\u062a\\u064a\\u0627\\u0646\\u0648 #\\u0645\\u064a\\u0633\\u064a #\\u0646\\u064a\\u0645\\u0627\\u0631 #skill #skills  #messi #ronaldo #xavi #neymar #\\u0632\\u064a\\u062f\\u0627\\u0646 #\\u0631\\u0648\\u0646\\u0627\\u0644\\u062f\\u064a\\u0646\\u0647\\u0648 #super\\n.\\nTag your friends - \\u0645\\u0646\\u0634\\u0646 \\u0644\\u0623\\u0635\\u062f\\u0642\\u0627\\u0626\\u0643')\n",
      "*************************************************\n",
      "('Link: ', u'BIpbdZig8_L')\n",
      "('Date: ', 1470228972)\n",
      "('Comments Count: ', 0)\n",
      "('Likes Count: ', 1)\n",
      "('Caption : ', u'What a pleasure it was shooting Daltons senior photos at a place that has meant so much to so many Model: @daltonkeene18 #photography #model #modeling #modellife #denver #denverphotography #denverphotographer #coloradophotographer #colorado #nikon #football #CSH #footballplayer #seniorpictures #seniorportraits #seniorphotographer #seniorinspire #naturallight')\n",
      "*************************************************\n",
      "('Link: ', u'BIpbdLihj-5')\n",
      "('Date: ', 1470228970)\n",
      "('Comments Count: ', 0)\n",
      "('Likes Count: ', 0)\n",
      "('Caption : ', u'Short Sleeved Batik Shirt\\nColour : Brown\\nSize : M \\nPrice @ Rp 85.000\\nLocal Product - Regular Fit - 100% Cotton\\nSize Chart :\\nM : P 67 L 54\\nL : P 72 L 57\\nXL : P 74 L 60\\n#kemejapria #batikpria #bajubatik #kemejakerja #jualkemeja #darahkubiru #jualankaka #jerseygradeori #sepatubasket #sepatufutsal #bajucowo #kemejacowo #ootdindo #localbrand #jerseymurah #seragambatik #olshopindo #olshopjakarta #kemeja #kemejamurah #kemejacowok #kaoskerah #kemejakuliah #football #youngmanapparel\\n#seragamkantor #kaospolo #menstyle #kemejabatik #batik')\n",
      "*************************************************\n",
      "('Link: ', u'BIpbdBPBWNJ')\n",
      "('Date: ', 1470228969)\n",
      "('Comments Count: ', 0)\n",
      "('Likes Count: ', 4)\n",
      "('Caption : ', u'#me #polishboy #polishgirl #sun #lato #Poland #vsco #vscocam #likeforlike #followforfollow #badday #picoftheday #photooftheday #happy #sad #haha #holidays #wakacje #vacation #swag #ja #wroclaw #selfie #samojebka #wroclove #love #smile #like4like #football #ball')\n",
      "*************************************************\n",
      "('Link: ', u'BIpbci0hQUv')\n",
      "('Date: ', 1470228965)\n",
      "('Comments Count: ', 0)\n",
      "('Likes Count: ', 0)\n",
      "('Caption : ', u'Fight till the last breathe....!!!\\nAnime:- Days\\n#anime #animetreat #otaku #manga #days #football #seiseki #motivation #soccer')\n",
      "*************************************************\n",
      "('Link: ', u'BIpbcTkjTdK')\n",
      "('Date: ', 1470228963)\n",
      "('Comments Count: ', 0)\n",
      "('Likes Count: ', 0)\n",
      "('Caption : ', u'.\\n\\u0644\\u0642\\u0637\\u0627\\u062a \\u0645\\u0646 \\u0627\\u0641\\u062a\\u062a\\u0627\\u062d \\u0628\\u0637\\u0648\\u0644\\u0629 \\u0643\\u0631\\u0629 \\u0627\\u0644\\u0633\\u0644\\u0629 - \\u0627\\u0644\\u0641\\u0626\\u0629 \\u0627\\u0644\\u0627\\u0648\\u0644\\u0649 \\u0641\\u064a \\u0633\\u0627\\u062d\\u0629 \\u0627\\u0644\\u062c\\u0627\\u0641\\u0644\\u064a\\u0629 \\u0648\\u0630\\u0644\\u0643 \\u0636\\u0645\\u0646 \\u062f\\u0648\\u0631\\u0629 \\u0623\\u0644\\u0639\\u0627\\u0628 \\u0627\\u0644\\u0623\\u062d\\u064a\\u0627\\u0621 \\u0627\\u0644\\u0633\\u0643\\u0646\\u064a\\u0629 \"\\u0641\\u0631\\u062c\\u0627\\u0646 9\" \\u0641\\u064a \\u0646\\u0633\\u062e\\u062a\\u0647\\u0627 \\u0627\\u0644\\u062a\\u0627\\u0633\\u0639\\u0629 \\u0648 \\u0627\\u0644\\u062a\\u064a \\u064a\\u0646\\u0638\\u0645\\u0647\\u0627 \\u0645\\u062c\\u0644\\u0633 \\u062f\\u0628\\u064a \\u0627\\u0644\\u0631\\u064a\\u0627\\u0636\\u064a \\u0644\\u0644\\u0639\\u0627\\u0645 \\u0627\\u0644\\u062a\\u0627\\u0633\\u0639 \\u0639\\u0644\\u0649 \\u0627\\u0644\\u062a\\u0648\\u0627\\u0644\\u064a \\u0648 \\u0628\\u0631\\u0639\\u0627\\u064a\\u0629 \"\\u0645\\u0639\\u0647\\u062f \\u0627\\u0644\\u0625\\u0645\\u0627\\u0631\\u0627\\u062a \\u0644\\u0644\\u0633\\u064a\\u0627\\u0642\\u0629\"\\u060c \\u0648 \\u0628\\u0627\\u0644\\u062a\\u0639\\u0627\\u0648\\u0646 \\u0645\\u0639 \\u0628\\u0644\\u062f\\u064a\\u0629 \\u062f\\u0628\\u064a\\n.\\n.\\n\\n#\\u0641\\u0631\\u062c\\u0627\\u0646 #\\u062f\\u0628\\u064a #\\u0628\\u0637\\u0648\\u0644\\u0629 #\\u0627\\u0644\\u0627\\u062d\\u064a\\u0627\\u0621 #\\u0627\\u0644\\u0633\\u0643\\u0646\\u064a\\u0629 #\\u0631\\u064a\\u0627\\u0636\\u0629 #\\u0643\\u0631\\u0629_\\u0627\\u0644\\u0642\\u062f\\u0645 #\\u0643\\u0631\\u0629_\\u0627\\u0644\\u0633\\u0644\\u0629 #\\u0627\\u0644\\u0643\\u0631\\u0629_\\u0627\\u0644\\u0637\\u0627\\u0626\\u0631\\u0629 #\\u062f\\u0628\\u064a #\\u0627\\u0644\\u0634\\u0627\\u0631\\u0642\\u0629 #\\u0639\\u062c\\u0645\\u0627\\u0646 #\\u0627\\u0628\\u0648\\u0638\\u0628\\u064a #\\u0627\\u0644\\u0627\\u0645\\u0627\\u0631\\u0627\\u062a #furjaan #dubai #sports #football #basketball #vollyball #sharjah #abudhabi #ajman #UAE @dubaisc')\n",
      "*************************************************\n",
      "('Link: ', u'BIpbcMFAKRD')\n",
      "('Date: ', 1470228962)\n",
      "('Comments Count: ', 0)\n",
      "('Likes Count: ', 0)\n",
      "('Caption : ', u'Rajko Miti\\u0107 Stadion (Marakana), Belgrade, Serbia . FK Crvena Zvezda v Ludogorets in the third round of UEFA Champions League qualifying. 2/8/16. #RajkoMiticStadion #Marakana #RedStarStadium #FKCrvenaZvezda #CrvenaZvezda #RedStar #RedStarBelgrade #Delije #DelijeSever #Ludogorets #UEFA #UEFAMAFIA #ChampionsLeague #Qualifying #Belgrade #Beograd #Serbia #Srbija #Football')\n",
      "*************************************************\n",
      "('Link: ', u'BIpbcGch6Bg')\n",
      "('Date: ', 1470228962)\n",
      "('Comments Count: ', 0)\n",
      "('Likes Count: ', 2)\n",
      "('Caption : ', u'I love this pic so much\\U0001f63b\\U0001f648\\U0001f525\\nWho can made goods video edits? DM please\\u2764\\U0001f64f #kissthesky #platinumhits  #carrasco #football #cute #atletico #jasonderulo #music #platinumhits\\n#love #tousensemble #sport #belgianreddevils #Belgium #lovehim #l4l #f4f #like4like #paradise #follow4followback #instagram #picoftheday #prayforlove \\n#prayfortheworld #derulofamily #marcwilmots #madrid #atleticomadrid #myworld #kissthesky #2K16 #2016')\n",
      "*************************************************\n",
      "('Link: ', u'BIpbbthAPbV')\n",
      "('Date: ', 1470228958)\n",
      "('Comments Count: ', 0)\n",
      "('Likes Count: ', 0)\n",
      "('Caption : ', u'\\U0001f534\\u26ab\\ufe0f\\U0001f534 #fc\\uc11c\\uc6b8 #\\uc131\\ub0a8fc #\\ub370\\uc580 #\\uc2b9\\ub9ac\\U0001f64c #\\ud0c4\\ucc9c\\uc885\\ud569\\uc6b4\\ub3d9\\uc7a5 #k\\ub9ac\\uadf8 #football #fcseoul #\\ucd95\\uc2a4\\ud0c0\\uadf8\\ub7a8 \\u26bd\\ufe0f\\U0001f3c3\\U0001f3fc')\n",
      "*************************************************\n"
     ]
    }
   ],
   "source": [
    "all_most_recent_posts = media['nodes']\n",
    "for post in all_most_recent_posts:\n",
    "    print(\"Link: \" ,post['code'])\n",
    "    print(\"Date: \", post['date'])\n",
    "    print(\"Comments Count: \", post['comments']['count'])\n",
    "    print(\"Likes Count: \", post['likes']['count'])\n",
    "    print(\"Caption : \", post['caption'])\n",
    "\n",
    "\n",
    "\n",
    "\n",
    "    print(\"*************************************************\")\n",
    "    \n",
    "    "
   ]
  },
  {
   "cell_type": "markdown",
   "metadata": {},
   "source": [
    "# STEP 2"
   ]
  },
  {
   "cell_type": "markdown",
   "metadata": {},
   "source": [
    "## after click  to the post  from main page \n",
    "\n",
    "### https://www.instagram.com/p/BIpTVMyBuiC/?tagged=football (post page link )\n"
   ]
  },
  {
   "cell_type": "code",
   "execution_count": 25,
   "metadata": {
    "collapsed": false
   },
   "outputs": [
    {
     "data": {
      "text/plain": [
       "u'https://www.instagram.com/p/BIpbSMcD-e9/?tagged=football'"
      ]
     },
     "execution_count": 25,
     "metadata": {},
     "output_type": "execute_result"
    }
   ],
   "source": [
    "## lets take a link from the all link post \n",
    "all_post_links[40]"
   ]
  },
  {
   "cell_type": "code",
   "execution_count": 26,
   "metadata": {
    "collapsed": true
   },
   "outputs": [],
   "source": [
    "## Instatiate NEw driver for the post page link"
   ]
  },
  {
   "cell_type": "code",
   "execution_count": 27,
   "metadata": {
    "collapsed": true
   },
   "outputs": [],
   "source": [
    "post_driver = webdriver.Chrome()\n",
    "post_driver.get(all_post_links[10])"
   ]
  },
  {
   "cell_type": "markdown",
   "metadata": {},
   "source": [
    "## Reading json data of that post from the page source "
   ]
  },
  {
   "cell_type": "code",
   "execution_count": 28,
   "metadata": {
    "collapsed": false
   },
   "outputs": [
    {
     "data": {
      "text/plain": [
       "{u'config': {u'csrf_token': u'el9JZyLTFpthLTR2q2oc4Ao7A82tvQD2',\n",
       "  u'viewer': None},\n",
       " u'country_code': u'NP',\n",
       " u'display_properties_server_guess': {u'pixel_ratio': 1.5,\n",
       "  u'viewport_width': 360},\n",
       " u'entry_data': {u'PostPage': [{u'media': {u'caption': u'#me #polishboy #polishgirl #sun #lato #Poland #vsco #vscocam #likeforlike #followforfollow #badday #picoftheday #photooftheday #happy #sad #haha #holidays #wakacje #vacation #swag #ja #wroclaw #selfie #samojebka #wroclove #love #smile #like4like #football #ball',\n",
       "     u'caption_is_edited': False,\n",
       "     u'code': u'BIpbdBPBWNJ',\n",
       "     u'comments': {u'count': 0,\n",
       "      u'nodes': [],\n",
       "      u'page_info': {u'end_cursor': None,\n",
       "       u'has_next_page': False,\n",
       "       u'has_previous_page': False,\n",
       "       u'start_cursor': None}},\n",
       "     u'comments_disabled': False,\n",
       "     u'date': 1470228969,\n",
       "     u'dimensions': {u'height': 810, u'width': 1080},\n",
       "     u'display_src': u'https://igcdn-photos-a-a.akamaihd.net/hphotos-ak-xft1/t51.2885-15/e35/13712248_596544533840256_1526068617_n.jpg?ig_cache_key=MTMwODY5NzkwODE3NDIxODA1Nw%3D%3D.2',\n",
       "     u'id': u'1308697908174218057',\n",
       "     u'is_ad': False,\n",
       "     u'is_video': False,\n",
       "     u'likes': {u'count': 14,\n",
       "      u'nodes': [{u'user': {u'id': u'1436204087',\n",
       "         u'profile_pic_url': u'https://igcdn-photos-e-a.akamaihd.net/hphotos-ak-xfl1/t51.2885-19/s150x150/13739466_152414225163100_560657422_a.jpg',\n",
       "         u'username': u'mayssahemdani'}},\n",
       "       {u'user': {u'id': u'205068746',\n",
       "         u'profile_pic_url': u'https://igcdn-photos-g-a.akamaihd.net/hphotos-ak-xfp1/t51.2885-19/s150x150/13256604_1745404779009262_1904856499_a.jpg',\n",
       "         u'username': u'mane__'}},\n",
       "       {u'user': {u'id': u'2186274594',\n",
       "         u'profile_pic_url': u'https://igcdn-photos-b-a.akamaihd.net/hphotos-ak-xft1/t51.2885-19/s150x150/11875523_896303587124577_1306968065_a.jpg',\n",
       "         u'username': u'sksirlei'}},\n",
       "       {u'user': {u'id': u'1732808091',\n",
       "         u'profile_pic_url': u'https://igcdn-photos-g-a.akamaihd.net/hphotos-ak-xfa1/t51.2885-19/s150x150/13696627_218603871870310_345571527_a.jpg',\n",
       "         u'username': u'wandering.vick'}},\n",
       "       {u'user': {u'id': u'1611685372',\n",
       "         u'profile_pic_url': u'https://igcdn-photos-b-a.akamaihd.net/hphotos-ak-xft1/t51.2885-19/s150x150/13724752_1460871143928065_661267024_a.jpg',\n",
       "         u'username': u'samuel__leiva'}},\n",
       "       {u'user': {u'id': u'510278261',\n",
       "         u'profile_pic_url': u'https://igcdn-photos-c-a.akamaihd.net/hphotos-ak-xfl1/t51.2885-19/11007960_710037262450626_1564175834_a.jpg',\n",
       "         u'username': u'bero772'}},\n",
       "       {u'user': {u'id': u'1518545789',\n",
       "         u'profile_pic_url': u'https://igcdn-photos-h-a.akamaihd.net/hphotos-ak-xfp1/t51.2885-19/s150x150/13712509_543920822478583_843521101_a.jpg',\n",
       "         u'username': u'akashh_tripathi'}},\n",
       "       {u'user': {u'id': u'2305376563',\n",
       "         u'profile_pic_url': u'https://igcdn-photos-g-a.akamaihd.net/hphotos-ak-xfp1/t51.2885-19/s150x150/13266679_114887622265638_1011546186_a.jpg',\n",
       "         u'username': u'easy_ig_rocket_here'}},\n",
       "       {u'user': {u'id': u'512230355',\n",
       "         u'profile_pic_url': u'https://igcdn-photos-e-a.akamaihd.net/hphotos-ak-xfa1/t51.2885-19/s150x150/13745010_601676713328380_667297039_a.jpg',\n",
       "         u'username': u'wesolowskaklaudia'}},\n",
       "       {u'user': {u'id': u'1610833560',\n",
       "         u'profile_pic_url': u'https://igcdn-photos-g-a.akamaihd.net/hphotos-ak-xfa1/t51.2885-19/s150x150/13774406_895604900583414_642858380_a.jpg',\n",
       "         u'username': u'n_andrzejczak'}}],\n",
       "      u'viewer_has_liked': False},\n",
       "     u'location': None,\n",
       "     u'owner': {u'blocked_by_viewer': False,\n",
       "      u'followed_by_viewer': False,\n",
       "      u'full_name': u'Manuela',\n",
       "      u'has_blocked_viewer': False,\n",
       "      u'id': u'521033462',\n",
       "      u'is_private': False,\n",
       "      u'is_unpublished': False,\n",
       "      u'profile_pic_url': u'https://igcdn-photos-e-a.akamaihd.net/hphotos-ak-xfp1/t51.2885-19/s150x150/13557319_1039606209441260_1214711242_a.jpg',\n",
       "      u'requested_by_viewer': False,\n",
       "      u'username': u'manuelalombardo'},\n",
       "     u'usertags': {u'nodes': []}}}]},\n",
       " u'environment_switcher_visible_server_guess': True,\n",
       " u'gatekeepers': {u'sulgin': True},\n",
       " u'hostname': u'www.instagram.com',\n",
       " u'language_code': u'en',\n",
       " u'platform': u'web',\n",
       " u'qe': {u'discovery': {u'g': u'', u'p': {}},\n",
       "  u'su': {u'g': u'rollout_20160325', u'p': {u'enabled': u'true'}},\n",
       "  u'su_universe': {u'g': u'', u'p': {}},\n",
       "  u'us': {u'g': u'show_desktop_registration_upsell_test_03',\n",
       "   u'p': {u'show_desktop_registration_upsell': u'true'}}},\n",
       " u'show_app_install': True,\n",
       " u'static_root': u'//instagramstatic-a.akamaihd.net/h1'}"
      ]
     },
     "execution_count": 28,
     "metadata": {},
     "output_type": "execute_result"
    }
   ],
   "source": [
    "json_shared_data = re.search('(window._sharedData\\s=\\s)(.*)(;<\\/script>)', post_driver.page_source)\n",
    "user_data_text = json_shared_data.group(2)\n",
    "post_json_data = json.loads(user_data_text, strict=False)\n",
    "\n",
    "post_json_data"
   ]
  },
  {
   "cell_type": "code",
   "execution_count": 29,
   "metadata": {
    "collapsed": false
   },
   "outputs": [
    {
     "data": {
      "text/plain": [
       "[u'show_app_install',\n",
       " u'static_root',\n",
       " u'entry_data',\n",
       " u'hostname',\n",
       " u'platform',\n",
       " u'qe',\n",
       " u'display_properties_server_guess',\n",
       " u'country_code',\n",
       " u'language_code',\n",
       " u'gatekeepers',\n",
       " u'config',\n",
       " u'environment_switcher_visible_server_guess']"
      ]
     },
     "execution_count": 29,
     "metadata": {},
     "output_type": "execute_result"
    }
   ],
   "source": [
    "post_json_data.keys()"
   ]
  },
  {
   "cell_type": "markdown",
   "metadata": {},
   "source": [
    "## We are only intrested on 'entry_date' key which contain post detail"
   ]
  },
  {
   "cell_type": "code",
   "execution_count": 30,
   "metadata": {
    "collapsed": false
   },
   "outputs": [],
   "source": [
    "# data['entry_data']"
   ]
  },
  {
   "cell_type": "code",
   "execution_count": 31,
   "metadata": {
    "collapsed": false
   },
   "outputs": [
    {
     "data": {
      "text/plain": [
       "{u'PostPage': [{u'media': {u'caption': u'#me #polishboy #polishgirl #sun #lato #Poland #vsco #vscocam #likeforlike #followforfollow #badday #picoftheday #photooftheday #happy #sad #haha #holidays #wakacje #vacation #swag #ja #wroclaw #selfie #samojebka #wroclove #love #smile #like4like #football #ball',\n",
       "    u'caption_is_edited': False,\n",
       "    u'code': u'BIpbdBPBWNJ',\n",
       "    u'comments': {u'count': 0,\n",
       "     u'nodes': [],\n",
       "     u'page_info': {u'end_cursor': None,\n",
       "      u'has_next_page': False,\n",
       "      u'has_previous_page': False,\n",
       "      u'start_cursor': None}},\n",
       "    u'comments_disabled': False,\n",
       "    u'date': 1470228969,\n",
       "    u'dimensions': {u'height': 810, u'width': 1080},\n",
       "    u'display_src': u'https://igcdn-photos-a-a.akamaihd.net/hphotos-ak-xft1/t51.2885-15/e35/13712248_596544533840256_1526068617_n.jpg?ig_cache_key=MTMwODY5NzkwODE3NDIxODA1Nw%3D%3D.2',\n",
       "    u'id': u'1308697908174218057',\n",
       "    u'is_ad': False,\n",
       "    u'is_video': False,\n",
       "    u'likes': {u'count': 14,\n",
       "     u'nodes': [{u'user': {u'id': u'1436204087',\n",
       "        u'profile_pic_url': u'https://igcdn-photos-e-a.akamaihd.net/hphotos-ak-xfl1/t51.2885-19/s150x150/13739466_152414225163100_560657422_a.jpg',\n",
       "        u'username': u'mayssahemdani'}},\n",
       "      {u'user': {u'id': u'205068746',\n",
       "        u'profile_pic_url': u'https://igcdn-photos-g-a.akamaihd.net/hphotos-ak-xfp1/t51.2885-19/s150x150/13256604_1745404779009262_1904856499_a.jpg',\n",
       "        u'username': u'mane__'}},\n",
       "      {u'user': {u'id': u'2186274594',\n",
       "        u'profile_pic_url': u'https://igcdn-photos-b-a.akamaihd.net/hphotos-ak-xft1/t51.2885-19/s150x150/11875523_896303587124577_1306968065_a.jpg',\n",
       "        u'username': u'sksirlei'}},\n",
       "      {u'user': {u'id': u'1732808091',\n",
       "        u'profile_pic_url': u'https://igcdn-photos-g-a.akamaihd.net/hphotos-ak-xfa1/t51.2885-19/s150x150/13696627_218603871870310_345571527_a.jpg',\n",
       "        u'username': u'wandering.vick'}},\n",
       "      {u'user': {u'id': u'1611685372',\n",
       "        u'profile_pic_url': u'https://igcdn-photos-b-a.akamaihd.net/hphotos-ak-xft1/t51.2885-19/s150x150/13724752_1460871143928065_661267024_a.jpg',\n",
       "        u'username': u'samuel__leiva'}},\n",
       "      {u'user': {u'id': u'510278261',\n",
       "        u'profile_pic_url': u'https://igcdn-photos-c-a.akamaihd.net/hphotos-ak-xfl1/t51.2885-19/11007960_710037262450626_1564175834_a.jpg',\n",
       "        u'username': u'bero772'}},\n",
       "      {u'user': {u'id': u'1518545789',\n",
       "        u'profile_pic_url': u'https://igcdn-photos-h-a.akamaihd.net/hphotos-ak-xfp1/t51.2885-19/s150x150/13712509_543920822478583_843521101_a.jpg',\n",
       "        u'username': u'akashh_tripathi'}},\n",
       "      {u'user': {u'id': u'2305376563',\n",
       "        u'profile_pic_url': u'https://igcdn-photos-g-a.akamaihd.net/hphotos-ak-xfp1/t51.2885-19/s150x150/13266679_114887622265638_1011546186_a.jpg',\n",
       "        u'username': u'easy_ig_rocket_here'}},\n",
       "      {u'user': {u'id': u'512230355',\n",
       "        u'profile_pic_url': u'https://igcdn-photos-e-a.akamaihd.net/hphotos-ak-xfa1/t51.2885-19/s150x150/13745010_601676713328380_667297039_a.jpg',\n",
       "        u'username': u'wesolowskaklaudia'}},\n",
       "      {u'user': {u'id': u'1610833560',\n",
       "        u'profile_pic_url': u'https://igcdn-photos-g-a.akamaihd.net/hphotos-ak-xfa1/t51.2885-19/s150x150/13774406_895604900583414_642858380_a.jpg',\n",
       "        u'username': u'n_andrzejczak'}}],\n",
       "     u'viewer_has_liked': False},\n",
       "    u'location': None,\n",
       "    u'owner': {u'blocked_by_viewer': False,\n",
       "     u'followed_by_viewer': False,\n",
       "     u'full_name': u'Manuela',\n",
       "     u'has_blocked_viewer': False,\n",
       "     u'id': u'521033462',\n",
       "     u'is_private': False,\n",
       "     u'is_unpublished': False,\n",
       "     u'profile_pic_url': u'https://igcdn-photos-e-a.akamaihd.net/hphotos-ak-xfp1/t51.2885-19/s150x150/13557319_1039606209441260_1214711242_a.jpg',\n",
       "     u'requested_by_viewer': False,\n",
       "     u'username': u'manuelalombardo'},\n",
       "    u'usertags': {u'nodes': []}}}]}"
      ]
     },
     "execution_count": 31,
     "metadata": {},
     "output_type": "execute_result"
    }
   ],
   "source": [
    "post_json_data['entry_data']"
   ]
  },
  {
   "cell_type": "code",
   "execution_count": 32,
   "metadata": {
    "collapsed": false
   },
   "outputs": [],
   "source": [
    "\n",
    "try:\n",
    "    post_json_data['entry_data']['PostPage'][0]['media'].keys()\n",
    "except ValueError:\n",
    "    print(\"ERRIR\")"
   ]
  },
  {
   "cell_type": "code",
   "execution_count": 33,
   "metadata": {
    "collapsed": false
   },
   "outputs": [],
   "source": [
    "post_json_data =post_json_data['entry_data']['PostPage'][0]['media']"
   ]
  },
  {
   "cell_type": "code",
   "execution_count": 34,
   "metadata": {
    "collapsed": false
   },
   "outputs": [
    {
     "data": {
      "text/plain": [
       "[u'caption_is_edited',\n",
       " u'code',\n",
       " u'dimensions',\n",
       " u'usertags',\n",
       " u'comments_disabled',\n",
       " u'owner',\n",
       " u'comments',\n",
       " u'is_ad',\n",
       " u'caption',\n",
       " u'likes',\n",
       " u'date',\n",
       " u'is_video',\n",
       " u'id',\n",
       " u'display_src',\n",
       " u'location']"
      ]
     },
     "execution_count": 34,
     "metadata": {},
     "output_type": "execute_result"
    }
   ],
   "source": [
    "post_json_data.keys()"
   ]
  },
  {
   "cell_type": "markdown",
   "metadata": {},
   "source": [
    "- code : link to post page\n",
    "- owner : post's user detail\n",
    "- comments : comments on post\n",
    "- caption: post title,hastag @rate other users\n",
    "- likes: contain likes count and users\n",
    "- date: in milisecond\n",
    "- display_src : display image url"
   ]
  },
  {
   "cell_type": "markdown",
   "metadata": {},
   "source": [
    "# Interested in \n",
    "\n",
    "\n",
    " - owner: to get username\n",
    " - comments: to get comments\n",
    " - caption: to get has tabgs\n",
    " - likes to get all users\n",
    " - date: in milisecond"
   ]
  },
  {
   "cell_type": "markdown",
   "metadata": {},
   "source": [
    "## 'owner' : User details to get username \n",
    "\n",
    "### only interested in username\n",
    "\n"
   ]
  },
  {
   "cell_type": "code",
   "execution_count": 35,
   "metadata": {
    "collapsed": false
   },
   "outputs": [
    {
     "data": {
      "text/plain": [
       "{u'blocked_by_viewer': False,\n",
       " u'followed_by_viewer': False,\n",
       " u'full_name': u'Manuela',\n",
       " u'has_blocked_viewer': False,\n",
       " u'id': u'521033462',\n",
       " u'is_private': False,\n",
       " u'is_unpublished': False,\n",
       " u'profile_pic_url': u'https://igcdn-photos-e-a.akamaihd.net/hphotos-ak-xfp1/t51.2885-19/s150x150/13557319_1039606209441260_1214711242_a.jpg',\n",
       " u'requested_by_viewer': False,\n",
       " u'username': u'manuelalombardo'}"
      ]
     },
     "execution_count": 35,
     "metadata": {},
     "output_type": "execute_result"
    }
   ],
   "source": [
    "post_user_detail = post_json_data['owner']\n",
    "post_user_detail"
   ]
  },
  {
   "cell_type": "markdown",
   "metadata": {},
   "source": [
    "# Username  of the post"
   ]
  },
  {
   "cell_type": "code",
   "execution_count": 36,
   "metadata": {
    "collapsed": false
   },
   "outputs": [
    {
     "data": {
      "text/plain": [
       "u'manuelalombardo'"
      ]
     },
     "execution_count": 36,
     "metadata": {},
     "output_type": "execute_result"
    }
   ],
   "source": [
    "post_username = post_user_detail['username']\n",
    "post_username"
   ]
  },
  {
   "cell_type": "markdown",
   "metadata": {},
   "source": [
    "# likes count and likes user"
   ]
  },
  {
   "cell_type": "code",
   "execution_count": 37,
   "metadata": {
    "collapsed": false
   },
   "outputs": [
    {
     "data": {
      "text/plain": [
       "14"
      ]
     },
     "execution_count": 37,
     "metadata": {},
     "output_type": "execute_result"
    }
   ],
   "source": [
    "likes_count = post_json_data['likes']['count']\n",
    "likes_count"
   ]
  },
  {
   "cell_type": "code",
   "execution_count": 38,
   "metadata": {
    "collapsed": false
   },
   "outputs": [
    {
     "data": {
      "text/plain": [
       "[u'username', u'profile_pic_url', u'id']"
      ]
     },
     "execution_count": 38,
     "metadata": {},
     "output_type": "execute_result"
    }
   ],
   "source": [
    "post_json_data['likes']['nodes'][0]['user'].keys()"
   ]
  },
  {
   "cell_type": "code",
   "execution_count": 39,
   "metadata": {
    "collapsed": false
   },
   "outputs": [
    {
     "name": "stdout",
     "output_type": "stream",
     "text": [
      "mayssahemdani\n",
      "mane__\n",
      "sksirlei\n",
      "wandering.vick\n",
      "samuel__leiva\n",
      "bero772\n",
      "akashh_tripathi\n",
      "easy_ig_rocket_here\n",
      "wesolowskaklaudia\n",
      "n_andrzejczak\n"
     ]
    }
   ],
   "source": [
    "for user in post_json_data['likes']['nodes']:\n",
    "    username = user['user']['username']\n",
    "    print(username)"
   ]
  },
  {
   "cell_type": "markdown",
   "metadata": {},
   "source": [
    "# Comments Count and Comments"
   ]
  },
  {
   "cell_type": "code",
   "execution_count": 40,
   "metadata": {
    "collapsed": false
   },
   "outputs": [
    {
     "data": {
      "text/plain": [
       "[u'count', u'page_info', u'nodes']"
      ]
     },
     "execution_count": 40,
     "metadata": {},
     "output_type": "execute_result"
    }
   ],
   "source": [
    "post_json_data['comments'].keys()"
   ]
  },
  {
   "cell_type": "code",
   "execution_count": 41,
   "metadata": {
    "collapsed": false
   },
   "outputs": [
    {
     "data": {
      "text/plain": [
       "0"
      ]
     },
     "execution_count": 41,
     "metadata": {},
     "output_type": "execute_result"
    }
   ],
   "source": [
    "post_comments_count= post_json_data['comments']['count']\n",
    "post_comments_count"
   ]
  },
  {
   "cell_type": "code",
   "execution_count": 42,
   "metadata": {
    "collapsed": false
   },
   "outputs": [
    {
     "name": "stdout",
     "output_type": "stream",
     "text": [
      "Index Error\n"
     ]
    }
   ],
   "source": [
    "\n",
    "try:\n",
    "    post_json_data['comments']['nodes'][0]['text']\n",
    "\n",
    "except IndexError:\n",
    "    print(\"Index Error\")\n"
   ]
  },
  {
   "cell_type": "code",
   "execution_count": 43,
   "metadata": {
    "collapsed": false
   },
   "outputs": [
    {
     "name": "stdout",
     "output_type": "stream",
     "text": [
      "Index Error\n"
     ]
    }
   ],
   "source": [
    "try:\n",
    "    post_json_data['comments']['nodes'][0]['text']\n",
    "except IndexError:\n",
    "    print(\"Index Error\")"
   ]
  },
  {
   "cell_type": "code",
   "execution_count": 44,
   "metadata": {
    "collapsed": false
   },
   "outputs": [
    {
     "name": "stdout",
     "output_type": "stream",
     "text": [
      "Index Error\n"
     ]
    }
   ],
   "source": [
    "try:\n",
    "    post_json_data['comments']['nodes'][0]['user']['username']\n",
    "except IndexError:\n",
    "    print(\"Index Error\")"
   ]
  },
  {
   "cell_type": "code",
   "execution_count": 45,
   "metadata": {
    "collapsed": false
   },
   "outputs": [],
   "source": [
    "comment_username = []\n",
    "i = 0\n",
    "for post_comment in post_json_data['comments']['nodes']:\n",
    "    comment = post_comment['text']\n",
    "    comment_username = post_comment['user']['username']\n",
    "    print(i+1, comment_username)\n",
    "    i +=1 \n",
    "    "
   ]
  },
  {
   "cell_type": "markdown",
   "metadata": {},
   "source": [
    "## View all comments\n"
   ]
  },
  {
   "cell_type": "code",
   "execution_count": null,
   "metadata": {
    "collapsed": true
   },
   "outputs": [],
   "source": []
  },
  {
   "cell_type": "code",
   "execution_count": 46,
   "metadata": {
    "collapsed": false
   },
   "outputs": [
    {
     "name": "stdout",
     "output_type": "stream",
     "text": [
      " Noe view All Button\n",
      "End of  Load More button\n"
     ]
    }
   ],
   "source": [
    "post_driver.find_element_by_xpath(\"//ul[@class='_mo9iw _123ym']\")\n",
    "\n",
    "try:\n",
    "    view_all_comments_btn = post_driver.find_element_by_xpath('//button[@class=\"_l086v _ifrvy\"]')\n",
    "except WebDriverException or selenium.common.exceptions.NoSuchElementException:\n",
    "    print(\" Noe view All Button\")\n",
    "    view_all_comments_btn = False\n",
    "    \n",
    "if view_all_comments_btn:\n",
    "    view_all_comments_btn.click()\n",
    "\n",
    "i = 0\n",
    "load_more_btn = True\n",
    "\n",
    "while load_more_btn:\n",
    "    try:\n",
    "        btn1 = post_driver.find_element_by_xpath('//li/button[@class=disabled=\"\"]')\n",
    "        if btn1:\n",
    "            btn1.click()\n",
    "            print(i)\n",
    "            time.sleep(1)\n",
    "    except(selenium.common.exceptions.NoSuchElementException or\n",
    "           selenium.common.exceptions.WebDriverException):\n",
    "        \n",
    "        print('End of  Load More button')\n",
    "        load_more_btn = False\n",
    "        i += 1\n",
    "users_elem = post_driver.find_elements_by_xpath(\"//li[@class='_nk46a']/a\")\n",
    "comments_elem =post_driver.find_elements_by_xpath(\"//li[@class='_nk46a']/span\")\n",
    "i = 1\n",
    "comments_dict_list = []\n",
    "for user, comment in zip(users_elem, comments_elem):\n",
    "    comment_dict = {}\n",
    "    print(i, user.get_attribute('title'))\n",
    "    username = user.get_attribute('title')\n",
    "    user_link = user.get_attribute('href')\n",
    "    comment = comment.text\n",
    "    comment_dict['user'] = {\n",
    "                'username':username,\n",
    "                'user link':user_link\n",
    "            }\n",
    "    comment_dict['comment'] = comment\n",
    "    comments_dict_list.append(comment_dict)\n",
    "    i += 1"
   ]
  },
  {
   "cell_type": "markdown",
   "metadata": {},
   "source": [
    "# Captions (hash tags, follower,links,title)"
   ]
  },
  {
   "cell_type": "code",
   "execution_count": 47,
   "metadata": {
    "collapsed": false
   },
   "outputs": [
    {
     "data": {
      "text/plain": [
       "u'#me #polishboy #polishgirl #sun #lato #Poland #vsco #vscocam #likeforlike #followforfollow #badday #picoftheday #photooftheday #happy #sad #haha #holidays #wakacje #vacation #swag #ja #wroclaw #selfie #samojebka #wroclove #love #smile #like4like #football #ball'"
      ]
     },
     "execution_count": 47,
     "metadata": {},
     "output_type": "execute_result"
    }
   ],
   "source": [
    "captions = post_json_data['caption']\n",
    "captions"
   ]
  },
  {
   "cell_type": "markdown",
   "metadata": {},
   "source": [
    "## To extract hash tags"
   ]
  },
  {
   "cell_type": "code",
   "execution_count": 48,
   "metadata": {
    "collapsed": false
   },
   "outputs": [
    {
     "data": {
      "text/plain": [
       "[u'#me',\n",
       " u'#polishboy',\n",
       " u'#polishgirl',\n",
       " u'#sun',\n",
       " u'#lato',\n",
       " u'#Poland',\n",
       " u'#vsco',\n",
       " u'#vscocam',\n",
       " u'#likeforlike',\n",
       " u'#followforfollow',\n",
       " u'#badday',\n",
       " u'#picoftheday',\n",
       " u'#photooftheday',\n",
       " u'#happy',\n",
       " u'#sad',\n",
       " u'#haha',\n",
       " u'#holidays',\n",
       " u'#wakacje',\n",
       " u'#vacation',\n",
       " u'#swag',\n",
       " u'#ja',\n",
       " u'#wroclaw',\n",
       " u'#selfie',\n",
       " u'#samojebka',\n",
       " u'#wroclove',\n",
       " u'#love',\n",
       " u'#smile',\n",
       " u'#like4like',\n",
       " u'#football',\n",
       " u'#ball']"
      ]
     },
     "execution_count": 48,
     "metadata": {},
     "output_type": "execute_result"
    }
   ],
   "source": [
    "import re\n",
    "\n",
    "re.findall(r'(#[a-zA-Z0-9:%._\\+~#=]+)',captions)\n",
    "hastag_group = re.findall(r'(#[a-zA-Z0-9:%._\\+~#=]+)',captions)\n",
    "hastag_group"
   ]
  },
  {
   "cell_type": "code",
   "execution_count": 49,
   "metadata": {
    "collapsed": false
   },
   "outputs": [
    {
     "data": {
      "text/plain": [
       "[u'me',\n",
       " u'polishboy',\n",
       " u'polishgirl',\n",
       " u'sun',\n",
       " u'lato',\n",
       " u'Poland',\n",
       " u'vsco',\n",
       " u'vscocam',\n",
       " u'likeforlike',\n",
       " u'followforfollow',\n",
       " u'badday',\n",
       " u'picoftheday',\n",
       " u'photooftheday',\n",
       " u'happy',\n",
       " u'sad',\n",
       " u'haha',\n",
       " u'holidays',\n",
       " u'wakacje',\n",
       " u'vacation',\n",
       " u'swag',\n",
       " u'ja',\n",
       " u'wroclaw',\n",
       " u'selfie',\n",
       " u'samojebka',\n",
       " u'wroclove',\n",
       " u'love',\n",
       " u'smile',\n",
       " u'like4like',\n",
       " u'football',\n",
       " u'ball']"
      ]
     },
     "execution_count": 49,
     "metadata": {},
     "output_type": "execute_result"
    }
   ],
   "source": [
    "hastags = [match.replace(\"#\",'') for match in hastag_group ]\n",
    "hastags"
   ]
  },
  {
   "cell_type": "code",
   "execution_count": 50,
   "metadata": {
    "collapsed": false
   },
   "outputs": [],
   "source": [
    "try:\n",
    "    hastags.remove(user_input)\n",
    "except:\n",
    "    pass"
   ]
  },
  {
   "cell_type": "code",
   "execution_count": 51,
   "metadata": {
    "collapsed": true
   },
   "outputs": [],
   "source": [
    "### Removing user input hash tags "
   ]
  },
  {
   "cell_type": "code",
   "execution_count": 52,
   "metadata": {
    "collapsed": false
   },
   "outputs": [
    {
     "data": {
      "text/plain": [
       "[u'me',\n",
       " u'polishboy',\n",
       " u'polishgirl',\n",
       " u'sun',\n",
       " u'lato',\n",
       " u'Poland',\n",
       " u'vsco',\n",
       " u'vscocam',\n",
       " u'likeforlike',\n",
       " u'followforfollow',\n",
       " u'badday',\n",
       " u'picoftheday',\n",
       " u'photooftheday',\n",
       " u'happy',\n",
       " u'sad',\n",
       " u'haha',\n",
       " u'holidays',\n",
       " u'wakacje',\n",
       " u'vacation',\n",
       " u'swag',\n",
       " u'ja',\n",
       " u'wroclaw',\n",
       " u'selfie',\n",
       " u'samojebka',\n",
       " u'wroclove',\n",
       " u'love',\n",
       " u'smile',\n",
       " u'like4like',\n",
       " u'ball']"
      ]
     },
     "execution_count": 52,
     "metadata": {},
     "output_type": "execute_result"
    }
   ],
   "source": [
    "hastags"
   ]
  },
  {
   "cell_type": "markdown",
   "metadata": {},
   "source": [
    "## extract followers link from post captions"
   ]
  },
  {
   "cell_type": "code",
   "execution_count": 53,
   "metadata": {
    "collapsed": false
   },
   "outputs": [
    {
     "data": {
      "text/plain": [
       "[]"
      ]
     },
     "execution_count": 53,
     "metadata": {},
     "output_type": "execute_result"
    }
   ],
   "source": [
    "re.findall(r'(@[a-zA-Z0-9:%._\\+~#=]+)',captions)\n",
    "\n"
   ]
  },
  {
   "cell_type": "markdown",
   "metadata": {},
   "source": [
    "## to extract website from captions"
   ]
  },
  {
   "cell_type": "code",
   "execution_count": 54,
   "metadata": {
    "collapsed": true
   },
   "outputs": [],
   "source": [
    "website = 'www.yahoo.com,asdlkfdsf,http://www.yahoo.com,yahoo.com,http://yahoo.com dsfdlf;asfhttps://yahoo.comsdf'"
   ]
  },
  {
   "cell_type": "code",
   "execution_count": 55,
   "metadata": {
    "collapsed": true
   },
   "outputs": [],
   "source": [
    "regex = re.compile(r'((https?:\\/\\/)?(www\\.)?[-a-zA-Z0-9@:%._\\+~#=]{2,256}\\.[a-z]{2,6}\\b([-a-zA-Z0-9@:%_\\+.~#?&//=]*))')"
   ]
  },
  {
   "cell_type": "code",
   "execution_count": 56,
   "metadata": {
    "collapsed": false
   },
   "outputs": [],
   "source": [
    "# regex = re.compile(r'((https?:\\/\\/)?(www\\.)?[-a-zA-Z0-9@:%._\\+~#=]{2,256}\\.[a-z]{2,6}\\b([-a-zA-Z0-9@:%_\\+.~#?&//=]*))')\n",
    "# group= re.findall(regex,website)\n",
    "# for link in group:\n",
    "#     print(link[0])"
   ]
  },
  {
   "cell_type": "code",
   "execution_count": 57,
   "metadata": {
    "collapsed": false
   },
   "outputs": [],
   "source": [
    "group= re.findall(regex,website)"
   ]
  },
  {
   "cell_type": "code",
   "execution_count": 58,
   "metadata": {
    "collapsed": false
   },
   "outputs": [
    {
     "name": "stdout",
     "output_type": "stream",
     "text": [
      "www.yahoo.com\n",
      "http://www.yahoo.com\n",
      "yahoo.com\n",
      "http://yahoo.com\n",
      "https://yahoo.comsdf\n"
     ]
    }
   ],
   "source": [
    "for link in group:\n",
    "    print(link[0])"
   ]
  },
  {
   "cell_type": "code",
   "execution_count": 59,
   "metadata": {
    "collapsed": true
   },
   "outputs": [],
   "source": [
    "### finding websites from captions"
   ]
  },
  {
   "cell_type": "code",
   "execution_count": 60,
   "metadata": {
    "collapsed": false
   },
   "outputs": [
    {
     "data": {
      "text/plain": [
       "[]"
      ]
     },
     "execution_count": 60,
     "metadata": {},
     "output_type": "execute_result"
    }
   ],
   "source": [
    "re.findall(regex,captions)"
   ]
  },
  {
   "cell_type": "markdown",
   "metadata": {},
   "source": [
    "# Date of the post"
   ]
  },
  {
   "cell_type": "code",
   "execution_count": 61,
   "metadata": {
    "collapsed": false
   },
   "outputs": [
    {
     "name": "stdout",
     "output_type": "stream",
     "text": [
      "('In miliseconds', 1470228969)\n",
      "******\n",
      "2016-08-03 18:41:09\n"
     ]
    }
   ],
   "source": [
    "import datetime\n",
    "post_date = post_json_data['date']\n",
    "print(\"In miliseconds\",post_date)\n",
    "print(\"******\")\n",
    "post_datetime = datetime.datetime.fromtimestamp(post_date)\n",
    "print(post_datetime)\n"
   ]
  },
  {
   "cell_type": "markdown",
   "metadata": {},
   "source": [
    "### Converting epoch time to human readable time"
   ]
  },
  {
   "cell_type": "code",
   "execution_count": 62,
   "metadata": {
    "collapsed": false
   },
   "outputs": [
    {
     "data": {
      "text/plain": [
       "'Wed, 03 Aug 2016 18:41:09 +0000'"
      ]
     },
     "execution_count": 62,
     "metadata": {},
     "output_type": "execute_result"
    }
   ],
   "source": [
    "epoch = float(post_date)\n",
    "time.strftime(\"%a, %d %b %Y %H:%M:%S +0000\", time.localtime(epoch))"
   ]
  },
  {
   "cell_type": "code",
   "execution_count": 63,
   "metadata": {
    "collapsed": false
   },
   "outputs": [],
   "source": [
    "timenow = datetime.datetime.now()"
   ]
  },
  {
   "cell_type": "code",
   "execution_count": 64,
   "metadata": {
    "collapsed": false
   },
   "outputs": [
    {
     "data": {
      "text/plain": [
       "datetime.datetime(2016, 8, 3, 18, 42, 40, 50095)"
      ]
     },
     "execution_count": 64,
     "metadata": {},
     "output_type": "execute_result"
    }
   ],
   "source": [
    "timenow"
   ]
  },
  {
   "cell_type": "markdown",
   "metadata": {},
   "source": [
    "# influence handler (username)\n",
    "-https://www.instagram.com/ username"
   ]
  },
  {
   "cell_type": "code",
   "execution_count": 65,
   "metadata": {
    "collapsed": false
   },
   "outputs": [
    {
     "data": {
      "text/plain": [
       "u'manuelalombardo'"
      ]
     },
     "execution_count": 65,
     "metadata": {},
     "output_type": "execute_result"
    }
   ],
   "source": [
    "post_username"
   ]
  },
  {
   "cell_type": "markdown",
   "metadata": {},
   "source": [
    "# STEP 3\n",
    "\n",
    "- Geting link of the user and reading json data from the page souce "
   ]
  },
  {
   "cell_type": "code",
   "execution_count": 66,
   "metadata": {
    "collapsed": false
   },
   "outputs": [],
   "source": [
    "## GEtting selinium driver for user link"
   ]
  },
  {
   "cell_type": "code",
   "execution_count": 67,
   "metadata": {
    "collapsed": true
   },
   "outputs": [],
   "source": [
    "user_bio_link = \"https://www.instagram.com/{}\".format(post_username)"
   ]
  },
  {
   "cell_type": "code",
   "execution_count": 68,
   "metadata": {
    "collapsed": true
   },
   "outputs": [],
   "source": [
    "user_driver= webdriver.Chrome()\n",
    "user_driver.get(user_bio_link)"
   ]
  },
  {
   "cell_type": "code",
   "execution_count": 69,
   "metadata": {
    "collapsed": true
   },
   "outputs": [],
   "source": [
    "json_shared_data = re.search('(window._sharedData\\s=\\s)(.*)(;<\\/script>)', user_driver.page_source)\n",
    "user_data_text = json_shared_data.group(2)\n",
    "user_data_dict = json.loads(user_data_text, strict=False)\n",
    "\n"
   ]
  },
  {
   "cell_type": "code",
   "execution_count": 70,
   "metadata": {
    "collapsed": false
   },
   "outputs": [
    {
     "data": {
      "text/plain": [
       "[u'show_app_install',\n",
       " u'static_root',\n",
       " u'entry_data',\n",
       " u'hostname',\n",
       " u'platform',\n",
       " u'qe',\n",
       " u'display_properties_server_guess',\n",
       " u'country_code',\n",
       " u'language_code',\n",
       " u'gatekeepers',\n",
       " u'config',\n",
       " u'environment_switcher_visible_server_guess']"
      ]
     },
     "execution_count": 70,
     "metadata": {},
     "output_type": "execute_result"
    }
   ],
   "source": [
    "user_data_dict.keys()"
   ]
  },
  {
   "cell_type": "code",
   "execution_count": 71,
   "metadata": {
    "collapsed": false
   },
   "outputs": [
    {
     "data": {
      "text/plain": [
       "{u'config': {u'csrf_token': u'3o7hjYczHtUdOaB0XZi1LrFZ7FWyHss2',\n",
       "  u'viewer': None},\n",
       " u'country_code': u'NP',\n",
       " u'display_properties_server_guess': {u'pixel_ratio': 1.5,\n",
       "  u'viewport_width': 360},\n",
       " u'entry_data': {u'ProfilePage': [{u'user': {u'biography': u'~Mi piace chi sceglie con cura le parole da non dire~ Manuela. 18anni. SantaCaterina.',\n",
       "     u'blocked_by_viewer': False,\n",
       "     u'country_block': None,\n",
       "     u'external_url': None,\n",
       "     u'external_url_linkshimmed': None,\n",
       "     u'followed_by': {u'count': 1012},\n",
       "     u'followed_by_viewer': False,\n",
       "     u'follows': {u'count': 795},\n",
       "     u'follows_viewer': False,\n",
       "     u'full_name': u'Manuela',\n",
       "     u'has_blocked_viewer': False,\n",
       "     u'has_requested_viewer': False,\n",
       "     u'id': u'521033462',\n",
       "     u'is_private': False,\n",
       "     u'is_verified': False,\n",
       "     u'media': {u'count': 325,\n",
       "      u'nodes': [{u'caption': u'#me #polishboy #polishgirl #sun #lato #Poland #vsco #vscocam #likeforlike #followforfollow #badday #picoftheday #photooftheday #happy #sad #haha #holidays #wakacje #vacation #swag #ja #wroclaw #selfie #samojebka #wroclove #love #smile #like4like #football #ball',\n",
       "        u'code': u'BIpbdBPBWNJ',\n",
       "        u'comments': {u'count': 0},\n",
       "        u'date': 1470228969,\n",
       "        u'dimensions': {u'height': 810, u'width': 1080},\n",
       "        u'display_src': u'https://igcdn-photos-a-a.akamaihd.net/hphotos-ak-xft1/t51.2885-15/e35/13712248_596544533840256_1526068617_n.jpg?ig_cache_key=MTMwODY5NzkwODE3NDIxODA1Nw%3D%3D.2',\n",
       "        u'id': u'1308697908174218057',\n",
       "        u'is_video': False,\n",
       "        u'likes': {u'count': 14},\n",
       "        u'owner': {u'id': u'521033462'},\n",
       "        u'thumbnail_src': u'https://igcdn-photos-a-a.akamaihd.net/hphotos-ak-xft1/t51.2885-15/s640x640/sh0.08/e35/c135.0.810.810/13712248_596544533840256_1526068617_n.jpg?ig_cache_key=MTMwODY5NzkwODE3NDIxODA1Nw%3D%3D.2.c'},\n",
       "       {u'code': u'BIkzqLSBr5l',\n",
       "        u'comments': {u'count': 0},\n",
       "        u'date': 1470073888,\n",
       "        u'dimensions': {u'height': 810, u'width': 1080},\n",
       "        u'display_src': u'https://igcdn-photos-c-a.akamaihd.net/hphotos-ak-xfl1/t51.2885-15/e35/13712295_1027549817358466_1437353981_n.jpg?ig_cache_key=MTMwNzM5Njk5MDU0Nzk2NzU4OQ%3D%3D.2',\n",
       "        u'id': u'1307396990547967589',\n",
       "        u'is_video': False,\n",
       "        u'likes': {u'count': 72},\n",
       "        u'owner': {u'id': u'521033462'},\n",
       "        u'thumbnail_src': u'https://igcdn-photos-c-a.akamaihd.net/hphotos-ak-xfl1/t51.2885-15/s640x640/sh0.08/e35/c135.0.810.810/13712295_1027549817358466_1437353981_n.jpg?ig_cache_key=MTMwNzM5Njk5MDU0Nzk2NzU4OQ%3D%3D.2.c'},\n",
       "       {u'caption': u'Ricorda che ti amo\\U0001f49f',\n",
       "        u'code': u'BIiVQMgBojX',\n",
       "        u'comments': {u'count': 0},\n",
       "        u'date': 1469990837,\n",
       "        u'dimensions': {u'height': 1080, u'width': 1080},\n",
       "        u'display_src': u'https://igcdn-photos-f-a.akamaihd.net/hphotos-ak-xfa1/t51.2885-15/e35/13658633_1791387881097885_1430638588_n.jpg?ig_cache_key=MTMwNjcwMDMxMzgwMTQyNzE1OQ%3D%3D.2',\n",
       "        u'id': u'1306700313801427159',\n",
       "        u'is_video': False,\n",
       "        u'likes': {u'count': 58},\n",
       "        u'owner': {u'id': u'521033462'},\n",
       "        u'thumbnail_src': u'https://igcdn-photos-f-a.akamaihd.net/hphotos-ak-xfa1/t51.2885-15/s640x640/sh0.08/e35/13658633_1791387881097885_1430638588_n.jpg?ig_cache_key=MTMwNjcwMDMxMzgwMTQyNzE1OQ%3D%3D.2'},\n",
       "       {u'caption': u'\\U0001f31e\\U0001f31e\\U0001f31e',\n",
       "        u'code': u'BIh8hADBbdl',\n",
       "        u'comments': {u'count': 0},\n",
       "        u'date': 1469977868,\n",
       "        u'dimensions': {u'height': 1350, u'width': 1080},\n",
       "        u'display_src': u'https://igcdn-photos-b-a.akamaihd.net/hphotos-ak-xfp1/t51.2885-15/e35/13687116_1759291597645217_953531924_n.jpg?ig_cache_key=MTMwNjU5MTUxNzQ5ODI1OTMwMQ%3D%3D.2',\n",
       "        u'id': u'1306591517498259301',\n",
       "        u'is_video': False,\n",
       "        u'likes': {u'count': 69},\n",
       "        u'owner': {u'id': u'521033462'},\n",
       "        u'thumbnail_src': u'https://igcdn-photos-b-a.akamaihd.net/hphotos-ak-xfp1/t51.2885-15/s640x640/sh0.08/e35/c0.135.1080.1080/13687116_1759291597645217_953531924_n.jpg?ig_cache_key=MTMwNjU5MTUxNzQ5ODI1OTMwMQ%3D%3D.2.c'},\n",
       "       {u'caption': u'AHAHAHAH',\n",
       "        u'code': u'BIhSYdUBUtP',\n",
       "        u'comments': {u'count': 0},\n",
       "        u'date': 1469955778,\n",
       "        u'dimensions': {u'height': 937, u'width': 750},\n",
       "        u'display_src': u'https://igcdn-photos-b-a.akamaihd.net/hphotos-ak-xft1/t51.2885-15/sh0.08/e35/p750x750/13707343_1056750341028569_1833475274_n.jpg?ig_cache_key=MTMwNjQwNjIxMjQ5MzIwMDIwNw%3D%3D.2',\n",
       "        u'id': u'1306406212493200207',\n",
       "        u'is_video': False,\n",
       "        u'likes': {u'count': 51},\n",
       "        u'owner': {u'id': u'521033462'},\n",
       "        u'thumbnail_src': u'https://igcdn-photos-b-a.akamaihd.net/hphotos-ak-xft1/t51.2885-15/s640x640/sh0.08/e35/c0.112.900.900/13707343_1056750341028569_1833475274_n.jpg?ig_cache_key=MTMwNjQwNjIxMjQ5MzIwMDIwNw%3D%3D.2.c'},\n",
       "       {u'caption': u'Grazie\\U0001f49c\\U0001f49b\\U0001f49a',\n",
       "        u'code': u'BIhSR7kB3yV',\n",
       "        u'comments': {u'count': 0},\n",
       "        u'date': 1469955724,\n",
       "        u'dimensions': {u'height': 608, u'width': 1080},\n",
       "        u'display_src': u'https://igcdn-photos-g-a.akamaihd.net/hphotos-ak-xft1/t51.2885-15/e35/13694557_918435818256662_1354453013_n.jpg?ig_cache_key=MTMwNjQwNTc2MzkzNzY5NjkxNw%3D%3D.2',\n",
       "        u'id': u'1306405763937696917',\n",
       "        u'is_video': False,\n",
       "        u'likes': {u'count': 32},\n",
       "        u'owner': {u'id': u'521033462'},\n",
       "        u'thumbnail_src': u'https://igcdn-photos-g-a.akamaihd.net/hphotos-ak-xft1/t51.2885-15/e35/c236.0.608.608/13694557_918435818256662_1354453013_n.jpg?ig_cache_key=MTMwNjQwNTc2MzkzNzY5NjkxNw%3D%3D.2.c'},\n",
       "       {u'caption': u'Un grazie non basta\\U0001f49f\\U0001f49f',\n",
       "        u'code': u'BIhR6FphLm0',\n",
       "        u'comments': {u'count': 0},\n",
       "        u'date': 1469955529,\n",
       "        u'dimensions': {u'height': 1080, u'width': 1080},\n",
       "        u'display_src': u'https://igcdn-photos-g-a.akamaihd.net/hphotos-ak-xfa1/t51.2885-15/e35/13687275_1158884054184998_1917476024_n.jpg?ig_cache_key=MTMwNjQwNDEyNTQ5OTc2NzIyMA%3D%3D.2',\n",
       "        u'id': u'1306404125499767220',\n",
       "        u'is_video': False,\n",
       "        u'likes': {u'count': 48},\n",
       "        u'owner': {u'id': u'521033462'},\n",
       "        u'thumbnail_src': u'https://igcdn-photos-g-a.akamaihd.net/hphotos-ak-xfa1/t51.2885-15/s640x640/sh0.08/e35/13687275_1158884054184998_1917476024_n.jpg?ig_cache_key=MTMwNjQwNDEyNTQ5OTc2NzIyMA%3D%3D.2'},\n",
       "       {u'caption': u'Un grazie non basta\\U0001f49f\\U0001f49f',\n",
       "        u'code': u'BIhRmoyhvF_',\n",
       "        u'comments': {u'count': 2},\n",
       "        u'date': 1469955370,\n",
       "        u'dimensions': {u'height': 1080, u'width': 1080},\n",
       "        u'display_src': u'https://scontent-sit4-1.cdninstagram.com/l/t51.2885-15/e35/13743134_1132074413516883_1845653162_n.jpg?ig_cache_key=MTMwNjQwMjc4ODg0MjMzNjYzOQ%3D%3D.2',\n",
       "        u'id': u'1306402788842336639',\n",
       "        u'is_video': False,\n",
       "        u'likes': {u'count': 56},\n",
       "        u'owner': {u'id': u'521033462'},\n",
       "        u'thumbnail_src': u'https://scontent-sit4-1.cdninstagram.com/l/t51.2885-15/s640x640/sh0.08/e35/13743134_1132074413516883_1845653162_n.jpg?ig_cache_key=MTMwNjQwMjc4ODg0MjMzNjYzOQ%3D%3D.2'},\n",
       "       {u'caption': u'Happy bday to me.\\n+19\\U0001f389\\U0001f38a\\U0001f387',\n",
       "        u'code': u'BIgOjyhBmZw',\n",
       "        u'comments': {u'count': 0},\n",
       "        u'date': 1469920219,\n",
       "        u'dimensions': {u'height': 1350, u'width': 1080},\n",
       "        u'display_src': u'https://igcdn-photos-g-a.akamaihd.net/hphotos-ak-xfl1/t51.2885-15/e35/13628079_162746600815382_299616778_n.jpg?ig_cache_key=MTMwNjEwNzkyNDAxMTQ0MzgyNA%3D%3D.2',\n",
       "        u'id': u'1306107924011443824',\n",
       "        u'is_video': False,\n",
       "        u'likes': {u'count': 81},\n",
       "        u'owner': {u'id': u'521033462'},\n",
       "        u'thumbnail_src': u'https://igcdn-photos-g-a.akamaihd.net/hphotos-ak-xfl1/t51.2885-15/s640x640/sh0.08/e35/c0.135.1080.1080/13628079_162746600815382_299616778_n.jpg?ig_cache_key=MTMwNjEwNzkyNDAxMTQ0MzgyNA%3D%3D.2.c'},\n",
       "       {u'caption': u'#me #polishboy #polishgirl #sun #lato #Poland #vsco #vscocam #likeforlike #followforfollow #badday #picoftheday #photooftheday #happy #sad #haha #holidays #wakacje #vacation #swag #ja #wroclaw #selfie #samojebka #wroclove #love #smile #like4like #football #ball',\n",
       "        u'code': u'BIch_pNBkQG',\n",
       "        u'comments': {u'count': 0},\n",
       "        u'date': 1469796191,\n",
       "        u'dimensions': {u'height': 987, u'width': 1080},\n",
       "        u'display_src': u'https://igcdn-photos-e-a.akamaihd.net/hphotos-ak-xfl1/t51.2885-15/e35/13744248_1114084171981020_1834225763_n.jpg?ig_cache_key=MTMwNTA2NzUwMTEzNDQzMTIzOA%3D%3D.2',\n",
       "        u'id': u'1305067501134431238',\n",
       "        u'is_video': False,\n",
       "        u'likes': {u'count': 66},\n",
       "        u'owner': {u'id': u'521033462'},\n",
       "        u'thumbnail_src': u'https://igcdn-photos-e-a.akamaihd.net/hphotos-ak-xfl1/t51.2885-15/s640x640/sh0.08/e35/c46.0.987.987/13744248_1114084171981020_1834225763_n.jpg?ig_cache_key=MTMwNTA2NzUwMTEzNDQzMTIzOA%3D%3D.2.c'},\n",
       "       {u'caption': u\"L'unica mia certezza \\xe8 di avere tanti dubbi.\",\n",
       "        u'code': u'BIa6Iiyh_Ln',\n",
       "        u'comments': {u'count': 0},\n",
       "        u'date': 1469741738,\n",
       "        u'dimensions': {u'height': 1080, u'width': 1080},\n",
       "        u'display_src': u'https://igcdn-photos-a-a.akamaihd.net/hphotos-ak-xfa1/t51.2885-15/e35/13827414_280042469054112_1474892124_n.jpg?ig_cache_key=MTMwNDYxMDcxNTg4NTYzMDE4Mw%3D%3D.2',\n",
       "        u'id': u'1304610715885630183',\n",
       "        u'is_video': False,\n",
       "        u'likes': {u'count': 87},\n",
       "        u'owner': {u'id': u'521033462'},\n",
       "        u'thumbnail_src': u'https://igcdn-photos-a-a.akamaihd.net/hphotos-ak-xfa1/t51.2885-15/s640x640/sh0.08/e35/13827414_280042469054112_1474892124_n.jpg?ig_cache_key=MTMwNDYxMDcxNTg4NTYzMDE4Mw%3D%3D.2'},\n",
       "       {u'caption': u'Meraviglioso\\U0001f60d\\U0001f415',\n",
       "        u'code': u'BIanoY2BlfJ',\n",
       "        u'comments': {u'count': 1},\n",
       "        u'date': 1469732037,\n",
       "        u'dimensions': {u'height': 1080, u'width': 1080},\n",
       "        u'display_src': u'https://igcdn-photos-a-a.akamaihd.net/hphotos-ak-xfp1/t51.2885-15/e35/13696598_178179652599240_1125274592_n.jpg?ig_cache_key=MTMwNDUyOTM0MTM0NjM3MTUyOQ%3D%3D.2',\n",
       "        u'id': u'1304529341346371529',\n",
       "        u'is_video': False,\n",
       "        u'likes': {u'count': 60},\n",
       "        u'owner': {u'id': u'521033462'},\n",
       "        u'thumbnail_src': u'https://igcdn-photos-a-a.akamaihd.net/hphotos-ak-xfp1/t51.2885-15/s640x640/sh0.08/e35/13696598_178179652599240_1125274592_n.jpg?ig_cache_key=MTMwNDUyOTM0MTM0NjM3MTUyOQ%3D%3D.2'}],\n",
       "      u'page_info': {u'end_cursor': u'1304529341346371529',\n",
       "       u'has_next_page': True,\n",
       "       u'has_previous_page': False,\n",
       "       u'start_cursor': u'1308697908174218057'}},\n",
       "     u'profile_pic_url': u'https://igcdn-photos-e-a.akamaihd.net/hphotos-ak-xfp1/t51.2885-19/s150x150/13557319_1039606209441260_1214711242_a.jpg',\n",
       "     u'profile_pic_url_hd': u'https://igcdn-photos-e-a.akamaihd.net/hphotos-ak-xfp1/t51.2885-19/s320x320/13557319_1039606209441260_1214711242_a.jpg',\n",
       "     u'requested_by_viewer': False,\n",
       "     u'username': u'manuelalombardo'}}]},\n",
       " u'environment_switcher_visible_server_guess': True,\n",
       " u'gatekeepers': {u'sulgin': True},\n",
       " u'hostname': u'www.instagram.com',\n",
       " u'language_code': u'en',\n",
       " u'platform': u'web',\n",
       " u'qe': {u'discovery': {u'g': u'', u'p': {}},\n",
       "  u'su': {u'g': u'rollout_20160325', u'p': {u'enabled': u'true'}},\n",
       "  u'su_universe': {u'g': u'', u'p': {}},\n",
       "  u'us': {u'g': u'show_desktop_registration_upsell_03',\n",
       "   u'p': {u'show_desktop_registration_upsell': u'false'}}},\n",
       " u'show_app_install': True,\n",
       " u'static_root': u'//instagramstatic-a.akamaihd.net/h1'}"
      ]
     },
     "execution_count": 71,
     "metadata": {},
     "output_type": "execute_result"
    }
   ],
   "source": [
    "user_data_dict"
   ]
  },
  {
   "cell_type": "markdown",
   "metadata": {},
   "source": [
    "# from user_data_dict we are only interested in 'entry_data'"
   ]
  },
  {
   "cell_type": "code",
   "execution_count": 72,
   "metadata": {
    "collapsed": false
   },
   "outputs": [],
   "source": [
    "# user_data_dict['entry_data']"
   ]
  },
  {
   "cell_type": "code",
   "execution_count": 73,
   "metadata": {
    "collapsed": false
   },
   "outputs": [],
   "source": [
    "user_data = user_data_dict['entry_data']"
   ]
  },
  {
   "cell_type": "code",
   "execution_count": 74,
   "metadata": {
    "collapsed": false
   },
   "outputs": [],
   "source": [
    "user_data = user_data['ProfilePage'][0]['user']"
   ]
  },
  {
   "cell_type": "code",
   "execution_count": 75,
   "metadata": {
    "collapsed": false
   },
   "outputs": [
    {
     "data": {
      "text/plain": [
       "[u'username',\n",
       " u'has_blocked_viewer',\n",
       " u'follows',\n",
       " u'requested_by_viewer',\n",
       " u'followed_by',\n",
       " u'external_url_linkshimmed',\n",
       " u'has_requested_viewer',\n",
       " u'country_block',\n",
       " u'follows_viewer',\n",
       " u'profile_pic_url_hd',\n",
       " u'profile_pic_url',\n",
       " u'is_private',\n",
       " u'full_name',\n",
       " u'media',\n",
       " u'blocked_by_viewer',\n",
       " u'followed_by_viewer',\n",
       " u'is_verified',\n",
       " u'id',\n",
       " u'biography',\n",
       " u'external_url']"
      ]
     },
     "execution_count": 75,
     "metadata": {},
     "output_type": "execute_result"
    }
   ],
   "source": [
    "user_data.keys()"
   ]
  },
  {
   "cell_type": "markdown",
   "metadata": {},
   "source": [
    "# Followers "
   ]
  },
  {
   "cell_type": "code",
   "execution_count": 76,
   "metadata": {
    "collapsed": false
   },
   "outputs": [
    {
     "data": {
      "text/plain": [
       "1012"
      ]
     },
     "execution_count": 76,
     "metadata": {},
     "output_type": "execute_result"
    }
   ],
   "source": [
    "user_data['followed_by']['count']"
   ]
  },
  {
   "cell_type": "markdown",
   "metadata": {},
   "source": [
    "# biography"
   ]
  },
  {
   "cell_type": "code",
   "execution_count": 77,
   "metadata": {
    "collapsed": false
   },
   "outputs": [
    {
     "data": {
      "text/plain": [
       "u'~Mi piace chi sceglie con cura le parole da non dire~ Manuela. 18anni. SantaCaterina.'"
      ]
     },
     "execution_count": 77,
     "metadata": {},
     "output_type": "execute_result"
    }
   ],
   "source": [
    "user_data['biography']"
   ]
  },
  {
   "cell_type": "markdown",
   "metadata": {},
   "source": [
    "# link to bio ( External link)"
   ]
  },
  {
   "cell_type": "code",
   "execution_count": 78,
   "metadata": {
    "collapsed": false
   },
   "outputs": [],
   "source": [
    "external_link = user_data['external_url']\n",
    "external_link"
   ]
  },
  {
   "cell_type": "markdown",
   "metadata": {},
   "source": [
    "## integration with selenium"
   ]
  },
  {
   "cell_type": "code",
   "execution_count": 88,
   "metadata": {
    "collapsed": false
   },
   "outputs": [],
   "source": [
    "insta_driver = webdriver.Chrome()\n",
    "insta_driver.get('https://www.instagram.com/explore/tags/shopping/')"
   ]
  },
  {
   "cell_type": "code",
   "execution_count": 89,
   "metadata": {
    "collapsed": false
   },
   "outputs": [],
   "source": [
    "insta_driver.find_element_by_class_name('_oidfu').click()\n",
    "\n"
   ]
  },
  {
   "cell_type": "code",
   "execution_count": 90,
   "metadata": {
    "collapsed": false
   },
   "outputs": [
    {
     "name": "stdout",
     "output_type": "stream",
     "text": [
      "('Link: ', u'BIpcHKdA18Y')\n",
      "('Date: ', 1470229314)\n",
      "*************************************************\n",
      "('Link: ', u'BIpcG0HAYue')\n",
      "('Date: ', 1470229311)\n",
      "*************************************************\n",
      "('Link: ', u'BIpcGulDAVi')\n",
      "('Date: ', 1470229311)\n",
      "*************************************************\n",
      "('Link: ', u'BIpcGeuAqJp')\n",
      "('Date: ', 1470229309)\n",
      "*************************************************\n",
      "('Link: ', u'BIpcGbbBodW')\n",
      "('Date: ', 1470229308)\n",
      "*************************************************\n",
      "('Link: ', u'BIpcGYvhLLl')\n",
      "('Date: ', 1470229308)\n",
      "*************************************************\n",
      "('Link: ', u'BIpcGXtAuWT')\n",
      "('Date: ', 1470229308)\n",
      "*************************************************\n",
      "('Link: ', u'BIpcGQODEon')\n",
      "('Date: ', 1470229307)\n",
      "*************************************************\n",
      "('Link: ', u'BIpcGPpjzAs')\n",
      "('Date: ', 1470229307)\n",
      "*************************************************\n",
      "('Link: ', u'BIpcGMCgvBi')\n",
      "('Date: ', 1470229306)\n",
      "*************************************************\n",
      "('Link: ', u'BIpcF7tDUZy')\n",
      "('Date: ', 1470229304)\n",
      "*************************************************\n",
      "('Link: ', u'BIpcF4Mh4XX')\n",
      "('Date: ', 1470229304)\n",
      "*************************************************\n",
      "('Link: ', u'BIpcFwrDSG_')\n",
      "('Date: ', 1470229303)\n",
      "*************************************************\n",
      "('Link: ', u'BIpcFtcDoSw')\n",
      "('Date: ', 1470229302)\n",
      "*************************************************\n",
      "('Link: ', u'BIpcFhGDlHB')\n",
      "('Date: ', 1470229301)\n",
      "*************************************************\n",
      "('Link: ', u'BIpcFDnAt7Z')\n",
      "('Date: ', 1470229297)\n",
      "*************************************************\n",
      "('Link: ', u'BIpcFDTAN_v')\n",
      "('Date: ', 1470229297)\n",
      "*************************************************\n",
      "('Link: ', u'BIpcFAfAVSf')\n",
      "('Date: ', 1470229297)\n",
      "*************************************************\n",
      "('Link: ', u'BIpcE-xjK_r')\n",
      "('Date: ', 1470229296)\n",
      "*************************************************\n",
      "('Link: ', u'BIpcHKdA18Y')\n",
      "('Date: ', 1470229314)\n",
      "*************************************************\n",
      "('Link: ', u'BIpcG0HAYue')\n",
      "('Date: ', 1470229311)\n",
      "*************************************************\n",
      "('Link: ', u'BIpcGulDAVi')\n",
      "('Date: ', 1470229311)\n",
      "*************************************************\n",
      "('Link: ', u'BIpcGeuAqJp')\n",
      "('Date: ', 1470229309)\n",
      "*************************************************\n",
      "('Link: ', u'BIpcGbbBodW')\n",
      "('Date: ', 1470229308)\n",
      "*************************************************\n",
      "('Link: ', u'BIpcGYvhLLl')\n",
      "('Date: ', 1470229308)\n",
      "*************************************************\n",
      "('Link: ', u'BIpcGXtAuWT')\n",
      "('Date: ', 1470229308)\n",
      "*************************************************\n",
      "('Link: ', u'BIpcGQODEon')\n",
      "('Date: ', 1470229307)\n",
      "*************************************************\n",
      "('Link: ', u'BIpcGPpjzAs')\n",
      "('Date: ', 1470229307)\n",
      "*************************************************\n",
      "('Link: ', u'BIpcGMCgvBi')\n",
      "('Date: ', 1470229306)\n",
      "*************************************************\n",
      "('Link: ', u'BIpcF7tDUZy')\n",
      "('Date: ', 1470229304)\n",
      "*************************************************\n",
      "('Link: ', u'BIpcF4Mh4XX')\n",
      "('Date: ', 1470229304)\n",
      "*************************************************\n",
      "('Link: ', u'BIpcFwrDSG_')\n",
      "('Date: ', 1470229303)\n",
      "*************************************************\n",
      "('Link: ', u'BIpcFtcDoSw')\n",
      "('Date: ', 1470229302)\n",
      "*************************************************\n",
      "('Link: ', u'BIpcFhGDlHB')\n",
      "('Date: ', 1470229301)\n",
      "*************************************************\n",
      "('Link: ', u'BIpcFDnAt7Z')\n",
      "('Date: ', 1470229297)\n",
      "*************************************************\n",
      "('Link: ', u'BIpcFDTAN_v')\n",
      "('Date: ', 1470229297)\n",
      "*************************************************\n",
      "('Link: ', u'BIpcFAfAVSf')\n",
      "('Date: ', 1470229297)\n",
      "*************************************************\n",
      "('Link: ', u'BIpcE-xjK_r')\n",
      "('Date: ', 1470229296)\n",
      "*************************************************\n",
      "('Link: ', u'BIpcHKdA18Y')\n",
      "('Date: ', 1470229314)\n",
      "*************************************************\n",
      "('Link: ', u'BIpcG0HAYue')\n",
      "('Date: ', 1470229311)\n",
      "*************************************************\n",
      "('Link: ', u'BIpcGulDAVi')\n",
      "('Date: ', 1470229311)\n",
      "*************************************************\n",
      "('Link: ', u'BIpcGeuAqJp')\n",
      "('Date: ', 1470229309)\n",
      "*************************************************\n",
      "('Link: ', u'BIpcGbbBodW')\n",
      "('Date: ', 1470229308)\n",
      "*************************************************\n",
      "('Link: ', u'BIpcGYvhLLl')\n",
      "('Date: ', 1470229308)\n",
      "*************************************************\n",
      "('Link: ', u'BIpcGXtAuWT')\n",
      "('Date: ', 1470229308)\n",
      "*************************************************\n",
      "('Link: ', u'BIpcGQODEon')\n",
      "('Date: ', 1470229307)\n",
      "*************************************************\n",
      "('Link: ', u'BIpcGPpjzAs')\n",
      "('Date: ', 1470229307)\n",
      "*************************************************\n",
      "('Link: ', u'BIpcGMCgvBi')\n",
      "('Date: ', 1470229306)\n",
      "*************************************************\n",
      "('Link: ', u'BIpcF7tDUZy')\n",
      "('Date: ', 1470229304)\n",
      "*************************************************\n",
      "('Link: ', u'BIpcF4Mh4XX')\n",
      "('Date: ', 1470229304)\n",
      "*************************************************\n",
      "('Link: ', u'BIpcFwrDSG_')\n",
      "('Date: ', 1470229303)\n",
      "*************************************************\n",
      "('Link: ', u'BIpcFtcDoSw')\n",
      "('Date: ', 1470229302)\n",
      "*************************************************\n",
      "('Link: ', u'BIpcFhGDlHB')\n",
      "('Date: ', 1470229301)\n",
      "*************************************************\n",
      "('Link: ', u'BIpcFDnAt7Z')\n",
      "('Date: ', 1470229297)\n",
      "*************************************************\n",
      "('Link: ', u'BIpcFDTAN_v')\n",
      "('Date: ', 1470229297)\n",
      "*************************************************\n",
      "('Link: ', u'BIpcFAfAVSf')\n",
      "('Date: ', 1470229297)\n",
      "*************************************************\n",
      "('Link: ', u'BIpcE-xjK_r')\n",
      "('Date: ', 1470229296)\n",
      "*************************************************\n"
     ]
    }
   ],
   "source": [
    "code = []\n",
    "scroll_count =0\n",
    "scroll= True\n",
    "while scroll:\n",
    "    insta_driver.execute_script(\"window.scrollTo(0, document.body.scrollHeight);\")\n",
    "    time.sleep(10)\n",
    "    html = insta_driver.page_source\n",
    "    g = re.search('(window._sharedData\\s=\\s)(.*)(;<\\/script>)', html)\n",
    "    data = g.group(2)\n",
    "    data = json.loads(data,strict=False)\n",
    "    media = data['entry_data']['TagPage'][0]['tag']['media']\n",
    "    all_most_recent_posts = media['nodes']\n",
    "    for post in all_most_recent_posts:\n",
    "        print(\"Link: \", post['code'])\n",
    "        code.append(post['code'])\n",
    "        print(\"Date: \", post['date'])\n",
    "#         print(\"Comments Count: \", post['comments']['count'])\n",
    "#         print(\"Likes Count: \", post['likes']['count'])\n",
    "#         print(\"Caption : \", post['caption'])\n",
    "\n",
    "        print(\"*************************************************\")\n",
    "    if scroll_count ==2:\n",
    "        scroll = False\n",
    "    scroll_count +=1\n",
    "\n",
    "\n"
   ]
  },
  {
   "cell_type": "markdown",
   "metadata": {},
   "source": [
    "# Selenium to scorll and load elements for all the top post and most recent posts for particular tags\n",
    "\n",
    "- https://www.instagram.com/explore/tags/shopping/"
   ]
  },
  {
   "cell_type": "code",
   "execution_count": 91,
   "metadata": {
    "collapsed": false
   },
   "outputs": [],
   "source": [
    "insta_driver = webdriver.Chrome()\n",
    "insta_driver.get('https://www.instagram.com/explore/tags/shopping/')\n",
    "# insta_driver.find_element_by_css_selector('a').get_attribute('href')"
   ]
  },
  {
   "cell_type": "markdown",
   "metadata": {},
   "source": [
    "# Click Load More Button"
   ]
  },
  {
   "cell_type": "code",
   "execution_count": 92,
   "metadata": {
    "collapsed": false
   },
   "outputs": [
    {
     "data": {
      "text/plain": [
       "<selenium.webdriver.remote.webelement.WebElement (session=\"315bc16026c67e1f4a8f9b3177a7f6f4\", element=\"0.492139872664924-1\")>"
      ]
     },
     "execution_count": 92,
     "metadata": {},
     "output_type": "execute_result"
    }
   ],
   "source": [
    "load_more_btn = insta_driver.find_element_by_class_name('_oidfu')\n",
    "\n",
    "load_more_btn"
   ]
  },
  {
   "cell_type": "code",
   "execution_count": 93,
   "metadata": {
    "collapsed": false
   },
   "outputs": [],
   "source": [
    "load_more_btn.click()"
   ]
  },
  {
   "cell_type": "markdown",
   "metadata": {},
   "source": [
    "## Select 'DIV' For Top Posts and Most Recents"
   ]
  },
  {
   "cell_type": "code",
   "execution_count": 94,
   "metadata": {
    "collapsed": false
   },
   "outputs": [],
   "source": [
    "div_selectors = insta_driver.find_elements_by_xpath(\"//div[@class='_nljxa']\")[1]\n",
    "\n",
    "# div_selectors.find_elements_by_xpath(\".//a\")\n"
   ]
  },
  {
   "cell_type": "markdown",
   "metadata": {},
   "source": [
    "# Select 'Most Recent' DIV"
   ]
  },
  {
   "cell_type": "markdown",
   "metadata": {},
   "source": [
    "### get all the  'a' element from most recent post without scrolling"
   ]
  },
  {
   "cell_type": "code",
   "execution_count": 95,
   "metadata": {
    "collapsed": false
   },
   "outputs": [],
   "source": [
    "# most_recent_post_div_selector.find_elements_by_xpath(\".//a\")"
   ]
  },
  {
   "cell_type": "markdown",
   "metadata": {},
   "source": [
    "## Apply scolling to windows and get all the most recent post\n",
    "\n",
    "- scroll after 10 seconds\n",
    "- range(1-4) will give only first four scrolls\n",
    "- can repaly for loop with while loop to excute infinite scroll"
   ]
  },
  {
   "cell_type": "code",
   "execution_count": 96,
   "metadata": {
    "collapsed": false
   },
   "outputs": [
    {
     "name": "stdout",
     "output_type": "stream",
     "text": [
      "********\n",
      "https://www.instagram.com/p/BIpcLudhJen/?tagged=shopping\n",
      "********\n",
      "https://www.instagram.com/p/BIpcLnygSz8/?tagged=shopping\n",
      "********\n",
      "https://www.instagram.com/p/BIpcLmThX4j/?tagged=shopping\n",
      "********\n",
      "https://www.instagram.com/p/BIpcLkTDpMo/?tagged=shopping\n",
      "********\n",
      "https://www.instagram.com/p/BIpcLcVj6Wk/?tagged=shopping\n",
      "********\n",
      "https://www.instagram.com/p/BIpcLakAclt/?tagged=shopping\n",
      "********\n",
      "https://www.instagram.com/p/BIpcLPmBAcF/?tagged=shopping\n",
      "********\n",
      "https://www.instagram.com/p/BIpcKpmgNFA/?tagged=shopping\n",
      "********\n",
      "https://www.instagram.com/p/BIpcKZZDsDr/?tagged=shopping\n",
      "********\n",
      "https://www.instagram.com/p/BIpcKHuAQB6/?tagged=shopping\n",
      "********\n",
      "https://www.instagram.com/p/BIpcJ9mAeBG/?tagged=shopping\n",
      "********\n",
      "https://www.instagram.com/p/BIpcJ6ZAisD/?tagged=shopping\n",
      "********\n",
      "https://www.instagram.com/p/BIpcJ0tApZO/?tagged=shopping\n",
      "********\n",
      "https://www.instagram.com/p/BIpcJu7DQbf/?tagged=shopping\n",
      "********\n",
      "https://www.instagram.com/p/BIpcJnrAt-s/?tagged=shopping\n",
      "********\n",
      "https://www.instagram.com/p/BIpcJZiAcQU/?tagged=shopping\n",
      "********\n",
      "https://www.instagram.com/p/BIpcJVMhQhL/?tagged=shopping\n",
      "********\n",
      "https://www.instagram.com/p/BIpcJNDAsLu/?tagged=shopping\n",
      "********\n",
      "https://www.instagram.com/p/BIpcI7YjkC2/?tagged=shopping\n",
      "********\n",
      "https://www.instagram.com/p/BIpcI3XDUJz/?tagged=shopping\n",
      "********\n",
      "https://www.instagram.com/p/BIpcIjahwoo/?tagged=shopping\n",
      "********\n",
      "https://www.instagram.com/p/BIpcIhDgvZe/?tagged=shopping\n",
      "********\n",
      "https://www.instagram.com/p/BIpcIgZgNpY/?tagged=shopping\n",
      "********\n",
      "https://www.instagram.com/p/BIpcIM1gl8L/?tagged=shopping\n",
      "********\n",
      "https://www.instagram.com/p/BIpcHqijpY_/?tagged=shopping\n",
      "********\n",
      "https://www.instagram.com/p/BIpcHQ3hufL/?tagged=shopping\n",
      "********\n",
      "https://www.instagram.com/p/BIpcHKdA18Y/?tagged=shopping\n",
      "********\n",
      "https://www.instagram.com/p/BIpcG0HAYue/?tagged=shopping\n",
      "********\n",
      "https://www.instagram.com/p/BIpcGulDAVi/?tagged=shopping\n",
      "********\n",
      "https://www.instagram.com/p/BIpcGeuAqJp/?tagged=shopping\n",
      "********\n",
      "https://www.instagram.com/p/BIpcGbbBodW/?tagged=shopping\n",
      "********\n",
      "https://www.instagram.com/p/BIpcGYvhLLl/?tagged=shopping\n",
      "********\n",
      "https://www.instagram.com/p/BIpcGXtAuWT/?tagged=shopping\n",
      "********\n",
      "https://www.instagram.com/p/BIpcGQODEon/?tagged=shopping\n",
      "********\n",
      "https://www.instagram.com/p/BIpcGPpjzAs/?tagged=shopping\n",
      "********\n",
      "https://www.instagram.com/p/BIpcGMCgvBi/?tagged=shopping\n",
      "********\n",
      "https://www.instagram.com/p/BIpcF7tDUZy/?tagged=shopping\n",
      "********\n",
      "https://www.instagram.com/p/BIpcF4Mh4XX/?tagged=shopping\n",
      "********\n",
      "https://www.instagram.com/p/BIpcFwrDSG_/?tagged=shopping\n",
      "********\n",
      "https://www.instagram.com/p/BIpcFtcDoSw/?tagged=shopping\n",
      "********\n",
      "https://www.instagram.com/p/BIpcFhGDlHB/?tagged=shopping\n",
      "********\n",
      "https://www.instagram.com/p/BIpcFDnAt7Z/?tagged=shopping\n",
      "********\n",
      "https://www.instagram.com/p/BIpcE-xjK_r/?tagged=shopping\n",
      "********\n",
      "https://www.instagram.com/p/BIpcEp3AnFD/?tagged=shopping\n",
      "********\n",
      "https://www.instagram.com/p/BIpcEoQg01o/?tagged=shopping\n",
      "********\n",
      "https://www.instagram.com/p/BIpcElJDPOf/?tagged=shopping\n",
      "********\n",
      "https://www.instagram.com/p/BIpcEkNjVk3/?tagged=shopping\n",
      "********\n",
      "https://www.instagram.com/p/BIpcEiihN7C/?tagged=shopping\n",
      "********\n",
      "https://www.instagram.com/p/BIpcEZLDf0V/?tagged=shopping\n",
      "********\n",
      "https://www.instagram.com/p/BIpcEOXBh8-/?tagged=shopping\n",
      "********\n",
      "https://www.instagram.com/p/BIpcEChj36n/?tagged=shopping\n",
      "********\n",
      "https://www.instagram.com/p/BIpcEARAKH-/?tagged=shopping\n",
      "********\n",
      "https://www.instagram.com/p/BIpcD3FDFzp/?tagged=shopping\n",
      "********\n",
      "https://www.instagram.com/p/BIpcDqZjhHd/?tagged=shopping\n",
      "********\n",
      "https://www.instagram.com/p/BIpcDgsgmOs/?tagged=shopping\n",
      "********\n",
      "https://www.instagram.com/p/BIpcDbRBuDP/?tagged=shopping\n",
      "********\n",
      "https://www.instagram.com/p/BIpcC1VAw29/?tagged=shopping\n",
      "********\n",
      "https://www.instagram.com/p/BIpcCVgDywh/?tagged=shopping\n",
      "********\n",
      "https://www.instagram.com/p/BIpcCPHBr0U/?tagged=shopping\n",
      "********\n",
      "https://www.instagram.com/p/BIpcCM-gQwi/?tagged=shopping\n"
     ]
    }
   ],
   "source": [
    "for i in range(1,4):\n",
    "    insta_driver.execute_script(\"window.scrollTo(0, document.body.scrollHeight);\",div_selectors)\n",
    "    time.sleep(10)\n",
    "# href = insta_driver.find_elements_by_xpath(\"//div[@class='_nljxa']\")[1]\n",
    "for h in div_selectors.find_elements_by_xpath(\".//a\"):\n",
    "    print(\"********\")\n",
    "    print(h.get_attribute('href'))\n",
    "#     print(h.get_attribute('href'))\n",
    "\n",
    "\n"
   ]
  },
  {
   "cell_type": "code",
   "execution_count": null,
   "metadata": {
    "collapsed": false
   },
   "outputs": [],
   "source": []
  },
  {
   "cell_type": "markdown",
   "metadata": {},
   "source": [
    "# Loading all the comments from posts"
   ]
  },
  {
   "cell_type": "code",
   "execution_count": 106,
   "metadata": {
    "collapsed": false
   },
   "outputs": [],
   "source": [
    "insta_post_driver = webdriver.Chrome()\n",
    "insta_post_driver.get('https://www.instagram.com/p/BIduZuUhvyU/')\n",
    "\n"
   ]
  },
  {
   "cell_type": "markdown",
   "metadata": {},
   "source": [
    "# click viell all  comments"
   ]
  },
  {
   "cell_type": "code",
   "execution_count": 99,
   "metadata": {
    "collapsed": true
   },
   "outputs": [],
   "source": [
    "# if insta_post_driver.find_element_by_xpath('//li[@class=\"_nk46a\"]/button').click():\n",
    "#     print('true')"
   ]
  },
  {
   "cell_type": "code",
   "execution_count": 108,
   "metadata": {
    "collapsed": false
   },
   "outputs": [
    {
     "name": "stdout",
     "output_type": "stream",
     "text": [
      "End of  Load More button\n",
      "(1, u'oroach4')\n",
      "(2, u'thaistiemann')\n",
      "(3, u'evannacasanova')\n",
      "(4, u'daybar15')\n",
      "(5, u'stephenpommier')\n",
      "(6, u'jenncaston')\n",
      "(7, u'_katethegr8')\n",
      "(8, u'bigapplefrenchie')\n",
      "(9, u'gretchkiep')\n",
      "(10, u'3bulldogges')\n",
      "(11, u'emilypeck4')\n",
      "(12, u'claudjdavidson')\n",
      "(13, u'3bulldogges')\n",
      "(14, u'katelester10')\n",
      "(15, u'coco_frenchielove')\n",
      "(16, u'mychelle3')\n",
      "(17, u'berthabagel')\n",
      "(18, u'liamalexhale')\n",
      "(19, u'mallowfrenchie')\n",
      "(20, u'katiecombs')\n",
      "(21, u'corinnecolao')\n",
      "(22, u'carliglick_')\n",
      "(23, u'rachel_tauber')\n",
      "(24, u'taylor_had')\n",
      "(25, u'franchise316')\n",
      "(26, u'nick.angione')\n",
      "(27, u'frannyscott_')\n",
      "(28, u'janettetaman')\n",
      "(29, u'ashlynnacosta')\n",
      "(30, u'krismc83')\n",
      "(31, u'kimberlyslaven')\n",
      "(32, u'mothaeffa')\n",
      "(33, u'huffingduster')\n",
      "(34, u'elizabethclarejames')\n",
      "(35, u'trinaaa910')\n",
      "(36, u'lou.coughlan')\n",
      "(37, u'kellie.acree')\n",
      "(38, u'nnewman81658')\n",
      "(39, u'carwwong')\n",
      "(40, u'ana_ag26')\n",
      "(41, u'pjlear')\n",
      "(42, u'hinchk08')\n",
      "(43, u'alyssa_laub')\n",
      "(44, u'cheerleader_375')\n",
      "(45, u'elbigotedestalin')\n",
      "(46, u'c_elsea')\n",
      "(47, u'rcandisco')\n",
      "(48, u'mereharling')\n",
      "(49, u'jengrande10')\n",
      "(50, u'mr.paruru')\n",
      "(51, u'alexaohanrahan')\n",
      "(52, u'geordiethebulldog')\n",
      "(53, u'nikki8d')\n",
      "(54, u'nikki8d')\n",
      "(55, u'jalmodovar')\n",
      "(56, u'starlet_lepeluch')\n",
      "(57, u'curran_events')\n",
      "(58, u'chessyhounslow')\n",
      "(59, u'pixbyholli')\n",
      "(60, u'fergie004')\n",
      "(61, u'jfs.jr')\n",
      "(62, u'mikie91')\n",
      "(63, u'jacktrann')\n",
      "(64, u'bigchunkymonkey')\n",
      "(65, u'flash891')\n",
      "(66, u'_renaesmyth')\n",
      "(67, u'ash.chan')\n",
      "(68, u'danyelle_linn')\n",
      "(69, u'rozbacani')\n",
      "(70, u'frenchieleo')\n",
      "(71, u'lettybug4')\n",
      "(72, u'kellie.acree')\n",
      "(73, u'mikael_mantis')\n",
      "(74, u'kaitdown')\n",
      "(75, u'ellpatt')\n",
      "(76, u'ashwee011')\n",
      "(77, u'lady_gwendolyn')\n",
      "(78, u'lauren.kayla')\n",
      "(79, u'jfs.jr')\n",
      "(80, u'frenchie_bulldog')\n",
      "(81, u'frenchie_pablo')\n",
      "(82, u'eivacommish')\n",
      "(83, u'kyliejenkins22')\n",
      "(84, u'juliashackell')\n",
      "(85, u'jesseannew')\n",
      "(86, u'jesseannew')\n",
      "(87, u'jesseannew')\n",
      "(88, u'__rainman')\n",
      "(89, u'kristuka')\n",
      "(90, u'im_neungmie')\n",
      "(91, u'dirtyflawsss')\n",
      "(92, u'ashebadasz')\n",
      "(93, u'bernadettegaffney')\n",
      "(94, u'the_names_ollie_')\n",
      "(95, u'jennhelenek')\n",
      "(96, u'brizins')\n",
      "(97, u'moreau.madisona_19')\n",
      "(98, u'chelseakey1')\n",
      "(99, u'steffie_correia')\n",
      "(100, u'windows_down_and_kruse')\n",
      "(101, u'jaytothepay')\n",
      "(102, u'tomas_toledo')\n",
      "(103, u'aliataghaddos')\n",
      "(104, u'ashcart')\n",
      "(105, u'ddalesio')\n",
      "(106, u'nandabombana')\n",
      "(107, u'mimibakescookies')\n",
      "(108, u'ninztagram')\n",
      "(109, u'cookiemonstaarrr')\n",
      "(110, u'itsmevia')\n",
      "(111, u'christinamant')\n",
      "(112, u'lilkushny')\n",
      "(113, u'aelbordiny91')\n",
      "(114, u'tar_tarrr')\n",
      "(115, u'xuanli.v')\n",
      "(116, u'pinkbarbiegirl')\n",
      "(117, u'elainetara')\n",
      "(118, u'margie.fields')\n",
      "(119, u'matt_mol')\n",
      "(120, u'bohan.li')\n",
      "(121, u'biancaleyden')\n",
      "(122, u'henrylovesdaisy')\n",
      "(123, u'ngcrowe')\n",
      "(124, u'kaustin51')\n",
      "(125, u'pmarie')\n",
      "(126, u'i.rodrigueshelen')\n",
      "(127, u'hannn_pawluk')\n",
      "(128, u'bryankshow')\n",
      "(129, u'murrow_the_frenchie')\n",
      "(130, u'alixmcx')\n",
      "(131, u'lynnintheskywithdiamonds')\n",
      "(132, u'halfxasleep')\n",
      "(133, u'lizzy.jara')\n",
      "(134, u'flannharris')\n",
      "(135, u'isabeldmachado')\n",
      "(136, u'mamatamala')\n",
      "(137, u'ajavierhp1')\n",
      "(138, u'kurt_bergstedt')\n",
      "(139, u'nubbybubby')\n",
      "(140, u'gaby_espina')\n",
      "(141, u'madame.lani')\n",
      "(142, u'tristadesigns')\n",
      "(143, u'sscharfstein')\n",
      "(144, u'meaghankormondy')\n",
      "(145, u'saradanforthreed')\n",
      "(146, u'jacquelineto')\n",
      "(147, u'baponte_7')\n",
      "(148, u'chantellemiz')\n",
      "(149, u'andiedoyle')\n",
      "(150, u'amzeke')\n",
      "(151, u'ivankongsm')\n",
      "(152, u'janntoday')\n",
      "(153, u'mamafrenchie')\n",
      "(154, u'dalmatian.spencer')\n",
      "(155, u'laquiffa')\n",
      "(156, u'_raul7')\n",
      "(157, u'luce_lucius')\n",
      "(158, u'charlucygould')\n",
      "(159, u'21jman')\n",
      "(160, u'jaaymick')\n",
      "(161, u'kylies927')\n",
      "(162, u'yogi.jo')\n",
      "(163, u'21jman')\n",
      "(164, u'dnik_k')\n",
      "(165, u'kennyn1')\n",
      "(166, u'lizzy.jara')\n",
      "(167, u'whatsado')\n",
      "(168, u'emiliasupdates')\n",
      "(169, u'mimibakescookies')\n",
      "(170, u'alltimemaddy')\n",
      "(171, u'rubyunicorn')\n",
      "(172, u'lee_netto')\n",
      "(173, u'droncaesar')\n",
      "(174, u'nguyetxo')\n",
      "(175, u'petitepokey')\n",
      "(176, u'irinamaria04')\n",
      "(177, u'o.s.c.a.r.fb')\n",
      "(178, u'naturalisebasque')\n",
      "(179, u'diasana30')\n",
      "(180, u'tawnz_yeahhh')\n",
      "(181, u'temahlow')\n",
      "(182, u'lordaydin')\n",
      "(183, u'caroldinis')\n",
      "(184, u'montaluca')\n",
      "(185, u'ab__alb')\n",
      "(186, u'theweeklysausage')\n",
      "(187, u'simwickli')\n",
      "(188, u'livcopeland')\n",
      "(189, u'neerajka')\n",
      "(190, u'dancuksiii')\n",
      "(191, u'thomvantveer')\n",
      "(192, u'biggmich')\n",
      "(193, u'94x315')\n",
      "(194, u'coopermarieslesnick')\n",
      "(195, u'samibird')\n",
      "(196, u'lvbosworth')\n",
      "(197, u'miillee92')\n",
      "(198, u'mindmooh')\n",
      "(199, u'lorah_ross')\n",
      "(200, u'tha_dogg_pound')\n",
      "(201, u't.atg')\n",
      "(202, u'm_sotrill')\n",
      "(203, u'n_a_i_r_o_')\n",
      "(204, u'riley_the_boss')\n",
      "(205, u'mickeyandhazel')\n",
      "(206, u'hannah_step')\n",
      "(207, u'dpitts_')\n",
      "(208, u'lalalalaraaaa')\n",
      "(209, u'mancha_roquefort')\n",
      "(210, u'coutergram')\n",
      "(211, u'adamcwik')\n",
      "(212, u'ziggfoot')\n",
      "(213, u'domingop01')\n",
      "(214, u'laurenvalluzzi')\n",
      "(215, u'flannharris')\n"
     ]
    }
   ],
   "source": [
    "insta_post_driver.find_element_by_xpath(\"//ul[@class='_mo9iw _123ym']\")\n",
    "try:\n",
    "    \n",
    "    view_all_comments_btn = insta_post_driver.find_element_by_xpath('//button[@class=\"_l086v _ifrvy\"]')\n",
    "    view_all_comments_btn.click()\n",
    "except WebDriverException or selenium.common.exceptions.NoSuchElementException:\n",
    "    print(\"No Such Element found\")\n",
    "\n",
    "i = 0\n",
    "load_more_btn = True\n",
    "while load_more_btn:\n",
    "    try:\n",
    "        btn1 = insta_post_driver.find_element_by_xpath('//li/button[@class=disabled=\"\"]')\n",
    "        if btn1:\n",
    "            btn1.click()\n",
    "            time.sleep(1)\n",
    "    except(selenium.common.exceptions.NoSuchElementException or\n",
    "           selenium.common.exceptions.WebDriverException):\n",
    "        \n",
    "        print('End of  Load More button')\n",
    "        load_more_btn = False\n",
    "        i += 1\n",
    "users_elem = insta_post_driver.find_elements_by_xpath(\"//li[@class='_nk46a']/a\")\n",
    "comments_elem = insta_post_driver.find_elements_by_xpath(\"//li[@class='_nk46a']/span\")\n",
    "i = 1\n",
    "comments_dict_list = []\n",
    "for user, comment in zip(users_elem, comments_elem):\n",
    "    comment_dict = {}\n",
    "    print(i, user.get_attribute('title'))\n",
    "    username = user.get_attribute('title')\n",
    "    user_link = user.get_attribute('href')\n",
    "    comment = comment.text\n",
    "    comment_dict['user'] = {\n",
    "                'username':username,\n",
    "                'user link':user_link\n",
    "            }\n",
    "    comment_dict['comment'] = comment\n",
    "    comments_dict_list.append(comment_dict)\n",
    "    i += 1"
   ]
  },
  {
   "cell_type": "code",
   "execution_count": 109,
   "metadata": {
    "collapsed": false
   },
   "outputs": [
    {
     "data": {
      "text/plain": [
       "[{'comment': u'@emmadoodle \\U0001f602',\n",
       "  'user': {'user link': u'https://www.instagram.com/oroach4/',\n",
       "   'username': u'oroach4'}},\n",
       " {'comment': u'@ruppelbruno compra todos pra mimm',\n",
       "  'user': {'user link': u'https://www.instagram.com/thaistiemann/',\n",
       "   'username': u'thaistiemann'}},\n",
       " {'comment': u'@vare.z',\n",
       "  'user': {'user link': u'https://www.instagram.com/evannacasanova/',\n",
       "   'username': u'evannacasanova'}},\n",
       " {'comment': u'@aimsface',\n",
       "  'user': {'user link': u'https://www.instagram.com/daybar15/',\n",
       "   'username': u'daybar15'}},\n",
       " {'comment': u'@katsgoturtung',\n",
       "  'user': {'user link': u'https://www.instagram.com/stephenpommier/',\n",
       "   'username': u'stephenpommier'}},\n",
       " {'comment': u'\\u2764\\ufe0f\\u2764\\ufe0f\\u2764\\ufe0f',\n",
       "  'user': {'user link': u'https://www.instagram.com/jenncaston/',\n",
       "   'username': u'jenncaston'}},\n",
       " {'comment': u'@benstagett',\n",
       "  'user': {'user link': u'https://www.instagram.com/_katethegr8/',\n",
       "   'username': u'_katethegr8'}},\n",
       " {'comment': u'This is the cutest. Love you guys',\n",
       "  'user': {'user link': u'https://www.instagram.com/bigapplefrenchie/',\n",
       "   'username': u'bigapplefrenchie'}},\n",
       " {'comment': u'@skiep',\n",
       "  'user': {'user link': u'https://www.instagram.com/gretchkiep/',\n",
       "   'username': u'gretchkiep'}},\n",
       " {'comment': u'#frenchie #shopping #iloveshopping #frenchbulldog #tgif #littletikes #bulldog',\n",
       "  'user': {'user link': u'https://www.instagram.com/3bulldogges/',\n",
       "   'username': u'3bulldogges'}},\n",
       " {'comment': u'So cute \\U0001f495',\n",
       "  'user': {'user link': u'https://www.instagram.com/emilypeck4/',\n",
       "   'username': u'emilypeck4'}},\n",
       " {'comment': u'@caitlin_ldn \\U0001f644 I wish',\n",
       "  'user': {'user link': u'https://www.instagram.com/claudjdavidson/',\n",
       "   'username': u'claudjdavidson'}},\n",
       " {'comment': u'\\U0001f618 @bigapplefrenchie @emilypeck4',\n",
       "  'user': {'user link': u'https://www.instagram.com/3bulldogges/',\n",
       "   'username': u'3bulldogges'}},\n",
       " {'comment': u'@kevinreedlester',\n",
       "  'user': {'user link': u'https://www.instagram.com/katelester10/',\n",
       "   'username': u'katelester10'}},\n",
       " {'comment': u'@mymorrison',\n",
       "  'user': {'user link': u'https://www.instagram.com/coco_frenchielove/',\n",
       "   'username': u'coco_frenchielove'}},\n",
       " {'comment': u'In my dreams! \\U0001f60d',\n",
       "  'user': {'user link': u'https://www.instagram.com/mychelle3/',\n",
       "   'username': u'mychelle3'}},\n",
       " {'comment': u'@danhackett3',\n",
       "  'user': {'user link': u'https://www.instagram.com/berthabagel/',\n",
       "   'username': u'berthabagel'}},\n",
       " {'comment': u'@sschadx',\n",
       "  'user': {'user link': u'https://www.instagram.com/liamalexhale/',\n",
       "   'username': u'liamalexhale'}},\n",
       " {'comment': u\"OMG let's go\",\n",
       "  'user': {'user link': u'https://www.instagram.com/mallowfrenchie/',\n",
       "   'username': u'mallowfrenchie'}},\n",
       " {'comment': u\"@acalabrigo we've clearly been shopping in the wrong places\",\n",
       "  'user': {'user link': u'https://www.instagram.com/katiecombs/',\n",
       "   'username': u'katiecombs'}},\n",
       " {'comment': u'@codysh0e',\n",
       "  'user': {'user link': u'https://www.instagram.com/corinnecolao/',\n",
       "   'username': u'corinnecolao'}},\n",
       " {'comment': u'@alex_dayenian',\n",
       "  'user': {'user link': u'https://www.instagram.com/carliglick_/',\n",
       "   'username': u'carliglick_'}},\n",
       " {'comment': u'@ej2k9',\n",
       "  'user': {'user link': u'https://www.instagram.com/rachel_tauber/',\n",
       "   'username': u'rachel_tauber'}},\n",
       " {'comment': u'@jesseannew so many muscles',\n",
       "  'user': {'user link': u'https://www.instagram.com/taylor_had/',\n",
       "   'username': u'taylor_had'}},\n",
       " {'comment': u'@allindagame Grabbed you one.',\n",
       "  'user': {'user link': u'https://www.instagram.com/franchise316/',\n",
       "   'username': u'franchise316'}},\n",
       " {'comment': u'@alyssa_laub',\n",
       "  'user': {'user link': u'https://www.instagram.com/nick.angione/',\n",
       "   'username': u'nick.angione'}},\n",
       " {'comment': u'LMAO!! \\u2764 \\u2764 \\u2764 \\u2764',\n",
       "  'user': {'user link': u'https://www.instagram.com/frannyscott_/',\n",
       "   'username': u'frannyscott_'}},\n",
       " {'comment': u'@alextaman',\n",
       "  'user': {'user link': u'https://www.instagram.com/janettetaman/',\n",
       "   'username': u'janettetaman'}},\n",
       " {'comment': u'@amandapleez',\n",
       "  'user': {'user link': u'https://www.instagram.com/ashlynnacosta/',\n",
       "   'username': u'ashlynnacosta'}},\n",
       " {'comment': u'@tiffanyscout @flannharris',\n",
       "  'user': {'user link': u'https://www.instagram.com/krismc83/',\n",
       "   'username': u'krismc83'}},\n",
       " {'comment': u'@julianaslaven',\n",
       "  'user': {'user link': u'https://www.instagram.com/kimberlyslaven/',\n",
       "   'username': u'kimberlyslaven'}},\n",
       " {'comment': u'What store?',\n",
       "  'user': {'user link': u'https://www.instagram.com/mothaeffa/',\n",
       "   'username': u'mothaeffa'}},\n",
       " {'comment': u'@shortpinkgirl omg look',\n",
       "  'user': {'user link': u'https://www.instagram.com/huffingduster/',\n",
       "   'username': u'huffingduster'}},\n",
       " {'comment': u'@juzzi_',\n",
       "  'user': {'user link': u'https://www.instagram.com/elizabethclarejames/',\n",
       "   'username': u'elizabethclarejames'}},\n",
       " {'comment': u'@jvital left \\U0001f62d',\n",
       "  'user': {'user link': u'https://www.instagram.com/trinaaa910/',\n",
       "   'username': u'trinaaa910'}},\n",
       " {'comment': u'@geraldine.coughlan this is what Bertha needs',\n",
       "  'user': {'user link': u'https://www.instagram.com/lou.coughlan/',\n",
       "   'username': u'lou.coughlan'}},\n",
       " {'comment': u'@jfs.jr',\n",
       "  'user': {'user link': u'https://www.instagram.com/kellie.acree/',\n",
       "   'username': u'kellie.acree'}},\n",
       " {'comment': u'Adorable! \\U0001f388',\n",
       "  'user': {'user link': u'https://www.instagram.com/nnewman81658/',\n",
       "   'username': u'nnewman81658'}},\n",
       " {'comment': u'@bueno415 \\U0001f60d\\U0001f60d\\U0001f60d',\n",
       "  'user': {'user link': u'https://www.instagram.com/carwwong/',\n",
       "   'username': u'carwwong'}},\n",
       " {'comment': u'@ynfler21',\n",
       "  'user': {'user link': u'https://www.instagram.com/ana_ag26/',\n",
       "   'username': u'ana_ag26'}},\n",
       " {'comment': u'@therealcourtbeach NEED',\n",
       "  'user': {'user link': u'https://www.instagram.com/pjlear/',\n",
       "   'username': u'pjlear'}},\n",
       " {'comment': u'@cehinchliffe',\n",
       "  'user': {'user link': u'https://www.instagram.com/hinchk08/',\n",
       "   'username': u'hinchk08'}},\n",
       " {'comment': u'@nick.angione haha',\n",
       "  'user': {'user link': u'https://www.instagram.com/alyssa_laub/',\n",
       "   'username': u'alyssa_laub'}},\n",
       " {'comment': u'\\U0001f60d\\U0001f60d\\U0001f60d\\U0001f60d\\U0001f60d\\U0001f60d',\n",
       "  'user': {'user link': u'https://www.instagram.com/cheerleader_375/',\n",
       "   'username': u'cheerleader_375'}},\n",
       " {'comment': u'@tabris_',\n",
       "  'user': {'user link': u'https://www.instagram.com/elbigotedestalin/',\n",
       "   'username': u'elbigotedestalin'}},\n",
       " {'comment': u'@beccapapa',\n",
       "  'user': {'user link': u'https://www.instagram.com/c_elsea/',\n",
       "   'username': u'c_elsea'}},\n",
       " {'comment': u'@jalmodovar \\U0001f60d',\n",
       "  'user': {'user link': u'https://www.instagram.com/rcandisco/',\n",
       "   'username': u'rcandisco'}},\n",
       " {'comment': u'@letstalkjapan',\n",
       "  'user': {'user link': u'https://www.instagram.com/mereharling/',\n",
       "   'username': u'mereharling'}},\n",
       " {'comment': u'@arifromtheblock my dream sale',\n",
       "  'user': {'user link': u'https://www.instagram.com/jengrande10/',\n",
       "   'username': u'jengrande10'}},\n",
       " {'comment': u'@iglow.shibuya',\n",
       "  'user': {'user link': u'https://www.instagram.com/mr.paruru/',\n",
       "   'username': u'mr.paruru'}},\n",
       " {'comment': u'@juliechaissoncook',\n",
       "  'user': {'user link': u'https://www.instagram.com/alexaohanrahan/',\n",
       "   'username': u'alexaohanrahan'}},\n",
       " {'comment': u'Cute',\n",
       "  'user': {'user link': u'https://www.instagram.com/geordiethebulldog/',\n",
       "   'username': u'geordiethebulldog'}},\n",
       " {'comment': u'@starlet_lepeluch',\n",
       "  'user': {'user link': u'https://www.instagram.com/nikki8d/',\n",
       "   'username': u'nikki8d'}},\n",
       " {'comment': u'@domi_neek',\n",
       "  'user': {'user link': u'https://www.instagram.com/nikki8d/',\n",
       "   'username': u'nikki8d'}},\n",
       " {'comment': u'@rcandisco \\U0001f60d',\n",
       "  'user': {'user link': u'https://www.instagram.com/jalmodovar/',\n",
       "   'username': u'jalmodovar'}},\n",
       " {'comment': u'I cant!!! \\U0001f60d\\U0001f60d\\U0001f60d@nikki8d',\n",
       "  'user': {'user link': u'https://www.instagram.com/starlet_lepeluch/',\n",
       "   'username': u'starlet_lepeluch'}},\n",
       " {'comment': u'@jhonnykmahar',\n",
       "  'user': {'user link': u'https://www.instagram.com/curran_events/',\n",
       "   'username': u'curran_events'}},\n",
       " {'comment': u'@drewwerdd',\n",
       "  'user': {'user link': u'https://www.instagram.com/chessyhounslow/',\n",
       "   'username': u'chessyhounslow'}},\n",
       " {'comment': u'@emcat',\n",
       "  'user': {'user link': u'https://www.instagram.com/pixbyholli/',\n",
       "   'username': u'pixbyholli'}},\n",
       " {'comment': u\"@jessica_frizzell ahhhhh it's my dream sale!!!\",\n",
       "  'user': {'user link': u'https://www.instagram.com/fergie004/',\n",
       "   'username': u'fergie004'}},\n",
       " {'comment': u\"@kellie.acree what you'll have to do when I'm drunk at the vineyard\",\n",
       "  'user': {'user link': u'https://www.instagram.com/jfs.jr/',\n",
       "   'username': u'jfs.jr'}},\n",
       " {'comment': u'@whitgirl23',\n",
       "  'user': {'user link': u'https://www.instagram.com/mikie91/',\n",
       "   'username': u'mikie91'}},\n",
       " {'comment': u'@p.tranx3',\n",
       "  'user': {'user link': u'https://www.instagram.com/jacktrann/',\n",
       "   'username': u'jacktrann'}},\n",
       " {'comment': u'Omg where ??? I have to go get some \\U0001f606\\u2764\\ufe0f\\U0001f602',\n",
       "  'user': {'user link': u'https://www.instagram.com/bigchunkymonkey/',\n",
       "   'username': u'bigchunkymonkey'}},\n",
       " {'comment': u'@gina_mainella',\n",
       "  'user': {'user link': u'https://www.instagram.com/flash891/',\n",
       "   'username': u'flash891'}},\n",
       " {'comment': u'@andys_comming',\n",
       "  'user': {'user link': u'https://www.instagram.com/_renaesmyth/',\n",
       "   'username': u'_renaesmyth'}},\n",
       " {'comment': u'@heather_olivia',\n",
       "  'user': {'user link': u'https://www.instagram.com/ash.chan/',\n",
       "   'username': u'ash.chan'}},\n",
       " {'comment': u'@ceeesp',\n",
       "  'user': {'user link': u'https://www.instagram.com/danyelle_linn/',\n",
       "   'username': u'danyelle_linn'}},\n",
       " {'comment': u'@effinjames @greginacab',\n",
       "  'user': {'user link': u'https://www.instagram.com/rozbacani/',\n",
       "   'username': u'rozbacani'}},\n",
       " {'comment': u'Yessss!!!! @3bulldogges',\n",
       "  'user': {'user link': u'https://www.instagram.com/frenchieleo/',\n",
       "   'username': u'frenchieleo'}},\n",
       " {'comment': u'How cute!!!!!!',\n",
       "  'user': {'user link': u'https://www.instagram.com/lettybug4/',\n",
       "   'username': u'lettybug4'}},\n",
       " {'comment': u'@jfs.jr you mean what George will have to do to both of us \\U0001f602',\n",
       "  'user': {'user link': u'https://www.instagram.com/kellie.acree/',\n",
       "   'username': u'kellie.acree'}},\n",
       " {'comment': u'@bohan.li',\n",
       "  'user': {'user link': u'https://www.instagram.com/mikael_mantis/',\n",
       "   'username': u'mikael_mantis'}},\n",
       " {'comment': u'@lad395 look at yuyus whittle leg!',\n",
       "  'user': {'user link': u'https://www.instagram.com/kaitdown/',\n",
       "   'username': u'kaitdown'}},\n",
       " {'comment': u\"@giegiemitch that's a shopping cart I'd like to have\",\n",
       "  'user': {'user link': u'https://www.instagram.com/ellpatt/',\n",
       "   'username': u'ellpatt'}},\n",
       " {'comment': u'@ashleigh_hudson like the girls yesterday lol \\U0001f602\\U0001f602',\n",
       "  'user': {'user link': u'https://www.instagram.com/ashwee011/',\n",
       "   'username': u'ashwee011'}},\n",
       " {'comment': u'\\U0001f602\\U0001f602\\U0001f602 way to be a savvy shopper!!\\U0001f44d\\U0001f3fc\\U0001f44d\\U0001f3fc\\U0001f44d\\U0001f3fc\\U0001f44d\\U0001f3fc\\U0001f44d\\U0001f3fc',\n",
       "  'user': {'user link': u'https://www.instagram.com/lady_gwendolyn/',\n",
       "   'username': u'lady_gwendolyn'}},\n",
       " {'comment': u'@reelfowlpirate \\U0001f602 I wish!!',\n",
       "  'user': {'user link': u'https://www.instagram.com/lauren.kayla/',\n",
       "   'username': u'lauren.kayla'}},\n",
       " {'comment': u'@kellie.acree correct haha',\n",
       "  'user': {'user link': u'https://www.instagram.com/jfs.jr/',\n",
       "   'username': u'jfs.jr'}},\n",
       " {'comment': u'I need this in my life!!! @3bulldogges',\n",
       "  'user': {'user link': u'https://www.instagram.com/frenchie_bulldog/',\n",
       "   'username': u'frenchie_bulldog'}},\n",
       " {'comment': u'SCORE!! \\U0001f44f\\U0001f3fd',\n",
       "  'user': {'user link': u'https://www.instagram.com/frenchie_pablo/',\n",
       "   'username': u'frenchie_pablo'}},\n",
       " {'comment': u'\\U0001f60d\\U0001f60d\\U0001f60d',\n",
       "  'user': {'user link': u'https://www.instagram.com/eivacommish/',\n",
       "   'username': u'eivacommish'}},\n",
       " {'comment': u'@chris_vecchi \\U0001f60d',\n",
       "  'user': {'user link': u'https://www.instagram.com/kyliejenkins22/',\n",
       "   'username': u'kyliejenkins22'}},\n",
       " {'comment': u'@meggggyy',\n",
       "  'user': {'user link': u'https://www.instagram.com/juliashackell/',\n",
       "   'username': u'juliashackell'}},\n",
       " {'comment': u'@taylor_had omg stop \\u2764\\ufe0f\\u2764\\ufe0f\\u2764\\ufe0f\\U0001f436\\U0001f436',\n",
       "  'user': {'user link': u'https://www.instagram.com/jesseannew/',\n",
       "   'username': u'jesseannew'}},\n",
       " {'comment': u'@gene868686',\n",
       "  'user': {'user link': u'https://www.instagram.com/jesseannew/',\n",
       "   'username': u'jesseannew'}},\n",
       " {'comment': u'@emy_lexi',\n",
       "  'user': {'user link': u'https://www.instagram.com/jesseannew/',\n",
       "   'username': u'jesseannew'}},\n",
       " {'comment': u'@dirtyflawsss @midnight_mama',\n",
       "  'user': {'user link': u'https://www.instagram.com/__rainman/',\n",
       "   'username': u'__rainman'}},\n",
       " {'comment': u'@laurajeannette',\n",
       "  'user': {'user link': u'https://www.instagram.com/kristuka/',\n",
       "   'username': u'kristuka'}},\n",
       " {'comment': u'@peeticha',\n",
       "  'user': {'user link': u'https://www.instagram.com/im_neungmie/',\n",
       "   'username': u'im_neungmie'}},\n",
       " {'comment': u'@__rainman OMG!!!',\n",
       "  'user': {'user link': u'https://www.instagram.com/dirtyflawsss/',\n",
       "   'username': u'dirtyflawsss'}},\n",
       " {'comment': u'@marisadee',\n",
       "  'user': {'user link': u'https://www.instagram.com/ashebadasz/',\n",
       "   'username': u'ashebadasz'}},\n",
       " {'comment': u'@adamridley',\n",
       "  'user': {'user link': u'https://www.instagram.com/bernadettegaffney/',\n",
       "   'username': u'bernadettegaffney'}},\n",
       " {'comment': u\"@jennhelenek this is what I'll tell Sean when I come home with more frenchies \\U0001f602\",\n",
       "  'user': {'user link': u'https://www.instagram.com/the_names_ollie_/',\n",
       "   'username': u'the_names_ollie_'}},\n",
       " {'comment': u\"@the_names_ollie_ \\U0001f602\\U0001f602\\U0001f602not sure he'll buy it. But it's worth a shot. \\U0001f609\",\n",
       "  'user': {'user link': u'https://www.instagram.com/jennhelenek/',\n",
       "   'username': u'jennhelenek'}},\n",
       " {'comment': u'@laureng0808',\n",
       "  'user': {'user link': u'https://www.instagram.com/brizins/',\n",
       "   'username': u'brizins'}},\n",
       " {'comment': u'@harttlaura is tht how it works? Haha',\n",
       "  'user': {'user link': u'https://www.instagram.com/moreau.madisona_19/',\n",
       "   'username': u'moreau.madisona_19'}},\n",
       " {'comment': u'@ke_miller',\n",
       "  'user': {'user link': u'https://www.instagram.com/chelseakey1/',\n",
       "   'username': u'chelseakey1'}},\n",
       " {'comment': u'@kolasczn',\n",
       "  'user': {'user link': u'https://www.instagram.com/steffie_correia/',\n",
       "   'username': u'steffie_correia'}},\n",
       " {'comment': u'@kylewherry banana',\n",
       "  'user': {'user link': u'https://www.instagram.com/windows_down_and_kruse/',\n",
       "   'username': u'windows_down_and_kruse'}},\n",
       " {'comment': u'@tinasav @lakipothos',\n",
       "  'user': {'user link': u'https://www.instagram.com/jaytothepay/',\n",
       "   'username': u'jaytothepay'}},\n",
       " {'comment': u'@aldasilvabarbieri a paseaaaar',\n",
       "  'user': {'user link': u'https://www.instagram.com/tomas_toledo/',\n",
       "   'username': u'tomas_toledo'}},\n",
       " {'comment': u'@kaivon8',\n",
       "  'user': {'user link': u'https://www.instagram.com/aliataghaddos/',\n",
       "   'username': u'aliataghaddos'}},\n",
       " {'comment': u'@ruizbri_ also us',\n",
       "  'user': {'user link': u'https://www.instagram.com/ashcart/',\n",
       "   'username': u'ashcart'}},\n",
       " {'comment': u'Yes please @kuhncakes',\n",
       "  'user': {'user link': u'https://www.instagram.com/ddalesio/',\n",
       "   'username': u'ddalesio'}},\n",
       " {'comment': u'@melomila_ olha esses',\n",
       "  'user': {'user link': u'https://www.instagram.com/nandabombana/',\n",
       "   'username': u'nandabombana'}},\n",
       " {'comment': u'@minnie_mcb \\U0001f602\\U0001f602\\U0001f602\\U0001f602\\U0001f602',\n",
       "  'user': {'user link': u'https://www.instagram.com/mimibakescookies/',\n",
       "   'username': u'mimibakescookies'}},\n",
       " {'comment': u'@connormcfall15',\n",
       "  'user': {'user link': u'https://www.instagram.com/ninztagram/',\n",
       "   'username': u'ninztagram'}},\n",
       " {'comment': u'@jriggs119',\n",
       "  'user': {'user link': u'https://www.instagram.com/cookiemonstaarrr/',\n",
       "   'username': u'cookiemonstaarrr'}},\n",
       " {'comment': u'@mr_deblock',\n",
       "  'user': {'user link': u'https://www.instagram.com/itsmevia/',\n",
       "   'username': u'itsmevia'}},\n",
       " {'comment': u'@twodotts',\n",
       "  'user': {'user link': u'https://www.instagram.com/christinamant/',\n",
       "   'username': u'christinamant'}},\n",
       " {'comment': u'which mart\\U0001f60d?!!',\n",
       "  'user': {'user link': u'https://www.instagram.com/lilkushny/',\n",
       "   'username': u'lilkushny'}},\n",
       " {'comment': u'@kevfscott',\n",
       "  'user': {'user link': u'https://www.instagram.com/aelbordiny91/',\n",
       "   'username': u'aelbordiny91'}},\n",
       " {'comment': u'@esteelevy',\n",
       "  'user': {'user link': u'https://www.instagram.com/tar_tarrr/',\n",
       "   'username': u'tar_tarrr'}},\n",
       " {'comment': u'@cmon.seriouslee',\n",
       "  'user': {'user link': u'https://www.instagram.com/xuanli.v/',\n",
       "   'username': u'xuanli.v'}},\n",
       " {'comment': u'I want another one \\U0001f629 @mai_lovee',\n",
       "  'user': {'user link': u'https://www.instagram.com/pinkbarbiegirl/',\n",
       "   'username': u'pinkbarbiegirl'}},\n",
       " {'comment': u'@kalexandralong',\n",
       "  'user': {'user link': u'https://www.instagram.com/elainetara/',\n",
       "   'username': u'elainetara'}},\n",
       " {'comment': u'@caschultz',\n",
       "  'user': {'user link': u'https://www.instagram.com/margie.fields/',\n",
       "   'username': u'margie.fields'}},\n",
       " {'comment': u'@tizz_aay',\n",
       "  'user': {'user link': u'https://www.instagram.com/matt_mol/',\n",
       "   'username': u'matt_mol'}},\n",
       " {'comment': u'@mikael_mantis',\n",
       "  'user': {'user link': u'https://www.instagram.com/bohan.li/',\n",
       "   'username': u'bohan.li'}},\n",
       " {'comment': u'@shoniqs',\n",
       "  'user': {'user link': u'https://www.instagram.com/biancaleyden/',\n",
       "   'username': u'biancaleyden'}},\n",
       " {'comment': u'\\U0001f60d\\U0001f60d\\U0001f60d',\n",
       "  'user': {'user link': u'https://www.instagram.com/henrylovesdaisy/',\n",
       "   'username': u'henrylovesdaisy'}},\n",
       " {'comment': u'\\U0001f602\\U0001f602\\U0001f602\\U0001f602\\U0001f602\\U0001f602\\U0001f602',\n",
       "  'user': {'user link': u'https://www.instagram.com/ngcrowe/',\n",
       "   'username': u'ngcrowe'}},\n",
       " {'comment': u'Love BOGOs! Is there a limit? \\U0001f60d',\n",
       "  'user': {'user link': u'https://www.instagram.com/kaustin51/',\n",
       "   'username': u'kaustin51'}},\n",
       " {'comment': u'@thebeardedboywonda',\n",
       "  'user': {'user link': u'https://www.instagram.com/pmarie/',\n",
       "   'username': u'pmarie'}},\n",
       " {'comment': u'Quero uma promo\\xe7\\xe3o dessa @pippebr \\U0001f602',\n",
       "  'user': {'user link': u'https://www.instagram.com/i.rodrigueshelen/',\n",
       "   'username': u'i.rodrigueshelen'}},\n",
       " {'comment': u'@kurt_bergstedt',\n",
       "  'user': {'user link': u'https://www.instagram.com/hannn_pawluk/',\n",
       "   'username': u'hannn_pawluk'}},\n",
       " {'comment': u'@jen_geiger',\n",
       "  'user': {'user link': u'https://www.instagram.com/bryankshow/',\n",
       "   'username': u'bryankshow'}},\n",
       " {'comment': u'You three!!!! \\U0001f618\\U0001f618\\U0001f618',\n",
       "  'user': {'user link': u'https://www.instagram.com/murrow_the_frenchie/',\n",
       "   'username': u'murrow_the_frenchie'}},\n",
       " {'comment': u'@ra55cal these ones \\u2764\\ufe0f\\u2764\\ufe0f\\u2764\\ufe0f',\n",
       "  'user': {'user link': u'https://www.instagram.com/alixmcx/',\n",
       "   'username': u'alixmcx'}},\n",
       " {'comment': u'@tyran0saurusr3kt',\n",
       "  'user': {'user link': u'https://www.instagram.com/lynnintheskywithdiamonds/',\n",
       "   'username': u'lynnintheskywithdiamonds'}},\n",
       " {'comment': u'@ellen.sherry',\n",
       "  'user': {'user link': u'https://www.instagram.com/halfxasleep/',\n",
       "   'username': u'halfxasleep'}},\n",
       " {'comment': u'Use my code on mercari and start off with ten dollars. A great shopping app . My code is RWAJWW',\n",
       "  'user': {'user link': u'https://www.instagram.com/lizzy.jara/',\n",
       "   'username': u'lizzy.jara'}},\n",
       " {'comment': u'I was just resuscitated @krismc83',\n",
       "  'user': {'user link': u'https://www.instagram.com/flannharris/',\n",
       "   'username': u'flannharris'}},\n",
       " {'comment': u'@lu.lu.mc nossos bebes',\n",
       "  'user': {'user link': u'https://www.instagram.com/isabeldmachado/',\n",
       "   'username': u'isabeldmachado'}},\n",
       " {'comment': u'I love this',\n",
       "  'user': {'user link': u'https://www.instagram.com/mamatamala/',\n",
       "   'username': u'mamatamala'}},\n",
       " {'comment': u'@gaby_espina',\n",
       "  'user': {'user link': u'https://www.instagram.com/ajavierhp1/',\n",
       "   'username': u'ajavierhp1'}},\n",
       " {'comment': u'@hannn_pawluk that could happen actually. But with bagel in the cart',\n",
       "  'user': {'user link': u'https://www.instagram.com/kurt_bergstedt/',\n",
       "   'username': u'kurt_bergstedt'}},\n",
       " {'comment': u'@mqrielle \\U0001f60d\\U0001f60d\\U0001f60d\\U0001f60d\\U0001f60d\\U0001f60d',\n",
       "  'user': {'user link': u'https://www.instagram.com/nubbybubby/',\n",
       "   'username': u'nubbybubby'}},\n",
       " {'comment': u'@ajavierhp1 los amoooooooo',\n",
       "  'user': {'user link': u'https://www.instagram.com/gaby_espina/',\n",
       "   'username': u'gaby_espina'}},\n",
       " {'comment': u'@mocklemore',\n",
       "  'user': {'user link': u'https://www.instagram.com/madame.lani/',\n",
       "   'username': u'madame.lani'}},\n",
       " {'comment': u'@matthewxdonaldson',\n",
       "  'user': {'user link': u'https://www.instagram.com/tristadesigns/',\n",
       "   'username': u'tristadesigns'}},\n",
       " {'comment': u'@kennyn1 I wish there was a buy one get one free sale on frenchies. We would have ALOT.',\n",
       "  'user': {'user link': u'https://www.instagram.com/sscharfstein/',\n",
       "   'username': u'sscharfstein'}},\n",
       " {'comment': u'@kaitkorm @princeofscottsdale',\n",
       "  'user': {'user link': u'https://www.instagram.com/meaghankormondy/',\n",
       "   'username': u'meaghankormondy'}},\n",
       " {'comment': u'@erikmoss',\n",
       "  'user': {'user link': u'https://www.instagram.com/saradanforthreed/',\n",
       "   'username': u'saradanforthreed'}},\n",
       " {'comment': u'@dedanielwellington',\n",
       "  'user': {'user link': u'https://www.instagram.com/jacquelineto/',\n",
       "   'username': u'jacquelineto'}},\n",
       " {'comment': u'@lseifxo aw look at these babes \\U0001f62d',\n",
       "  'user': {'user link': u'https://www.instagram.com/baponte_7/',\n",
       "   'username': u'baponte_7'}},\n",
       " {'comment': u'Me grocery shopping with my children @adyble @bcmizen @lobstr @sdahling',\n",
       "  'user': {'user link': u'https://www.instagram.com/chantellemiz/',\n",
       "   'username': u'chantellemiz'}},\n",
       " {'comment': u'@robredd10',\n",
       "  'user': {'user link': u'https://www.instagram.com/andiedoyle/',\n",
       "   'username': u'andiedoyle'}},\n",
       " {'comment': u'@auuuz',\n",
       "  'user': {'user link': u'https://www.instagram.com/amzeke/',\n",
       "   'username': u'amzeke'}},\n",
       " {'comment': u'@d.07k',\n",
       "  'user': {'user link': u'https://www.instagram.com/ivankongsm/',\n",
       "   'username': u'ivankongsm'}},\n",
       " {'comment': u'@sobalotomous',\n",
       "  'user': {'user link': u'https://www.instagram.com/janntoday/',\n",
       "   'username': u'janntoday'}},\n",
       " {'comment': u'\\U0001f602\\U0001f602\\U0001f602',\n",
       "  'user': {'user link': u'https://www.instagram.com/mamafrenchie/',\n",
       "   'username': u'mamafrenchie'}},\n",
       " {'comment': u'Bogo',\n",
       "  'user': {'user link': u'https://www.instagram.com/dalmatian.spencer/',\n",
       "   'username': u'dalmatian.spencer'}},\n",
       " {'comment': u'@s_aenlle @iamthegonzo',\n",
       "  'user': {'user link': u'https://www.instagram.com/laquiffa/',\n",
       "   'username': u'laquiffa'}},\n",
       " {'comment': u'@karina_lizbeth the whole family!',\n",
       "  'user': {'user link': u'https://www.instagram.com/_raul7/',\n",
       "   'username': u'_raul7'}},\n",
       " {'comment': u'@helm.y',\n",
       "  'user': {'user link': u'https://www.instagram.com/luce_lucius/',\n",
       "   'username': u'luce_lucius'}},\n",
       " {'comment': u'@missamytodd @skag1nz @rubyunicorn @tanyatsnaps',\n",
       "  'user': {'user link': u'https://www.instagram.com/charlucygould/',\n",
       "   'username': u'charlucygould'}},\n",
       " {'comment': u'@kylies927',\n",
       "  'user': {'user link': u'https://www.instagram.com/21jman/',\n",
       "   'username': u'21jman'}},\n",
       " {'comment': u'@biggmich',\n",
       "  'user': {'user link': u'https://www.instagram.com/jaaymick/',\n",
       "   'username': u'jaaymick'}},\n",
       " {'comment': u'Bring me one of these to orientation next time @21jman you can push me around',\n",
       "  'user': {'user link': u'https://www.instagram.com/kylies927/',\n",
       "   'username': u'kylies927'}},\n",
       " {'comment': u'Haha! @teganawesome',\n",
       "  'user': {'user link': u'https://www.instagram.com/yogi.jo/',\n",
       "   'username': u'yogi.jo'}},\n",
       " {'comment': u'@kylies927 I will get one if its the last thing I do!!',\n",
       "  'user': {'user link': u'https://www.instagram.com/21jman/',\n",
       "   'username': u'21jman'}},\n",
       " {'comment': u'@_tagtraeumerin_ so',\n",
       "  'user': {'user link': u'https://www.instagram.com/dnik_k/',\n",
       "   'username': u'dnik_k'}},\n",
       " {'comment': u'@sscharfstein oh my god! We would be in big trouble we both would need bigger houses',\n",
       "  'user': {'user link': u'https://www.instagram.com/kennyn1/',\n",
       "   'username': u'kennyn1'}},\n",
       " {'comment': u\"Download the app Mercari. It's great shopping app\\U0001f4af Use my code BPMMWF and you will receive two dollars. Every time you give the code out you receive more money\\U0001f607\",\n",
       "  'user': {'user link': u'https://www.instagram.com/lizzy.jara/',\n",
       "   'username': u'lizzy.jara'}},\n",
       " {'comment': u'@muneebers',\n",
       "  'user': {'user link': u'https://www.instagram.com/whatsado/',\n",
       "   'username': u'whatsado'}},\n",
       " {'comment': u'@ceciliabjorkq \\U0001f60d',\n",
       "  'user': {'user link': u'https://www.instagram.com/emiliasupdates/',\n",
       "   'username': u'emiliasupdates'}},\n",
       " {'comment': u'@dacouncilman',\n",
       "  'user': {'user link': u'https://www.instagram.com/mimibakescookies/',\n",
       "   'username': u'mimibakescookies'}},\n",
       " {'comment': u'@zoo_juice',\n",
       "  'user': {'user link': u'https://www.instagram.com/alltimemaddy/',\n",
       "   'username': u'alltimemaddy'}},\n",
       " {'comment': u'If only @charlucygould',\n",
       "  'user': {'user link': u'https://www.instagram.com/rubyunicorn/',\n",
       "   'username': u'rubyunicorn'}},\n",
       " {'comment': u'@hannah_step',\n",
       "  'user': {'user link': u'https://www.instagram.com/lee_netto/',\n",
       "   'username': u'lee_netto'}},\n",
       " {'comment': u'@stasskastasska',\n",
       "  'user': {'user link': u'https://www.instagram.com/droncaesar/',\n",
       "   'username': u'droncaesar'}},\n",
       " {'comment': u'@frannadinn',\n",
       "  'user': {'user link': u'https://www.instagram.com/nguyetxo/',\n",
       "   'username': u'nguyetxo'}},\n",
       " {'comment': u'Oh my \\U0001f602\\U0001f602',\n",
       "  'user': {'user link': u'https://www.instagram.com/petitepokey/',\n",
       "   'username': u'petitepokey'}},\n",
       " {'comment': u'Botosii @murehater',\n",
       "  'user': {'user link': u'https://www.instagram.com/irinamaria04/',\n",
       "   'username': u'irinamaria04'}},\n",
       " {'comment': u'Haha!! So cute!',\n",
       "  'user': {'user link': u'https://www.instagram.com/o.s.c.a.r.fb/',\n",
       "   'username': u'o.s.c.a.r.fb'}},\n",
       " {'comment': u'\\U0001f602 crazy dog',\n",
       "  'user': {'user link': u'https://www.instagram.com/naturalisebasque/',\n",
       "   'username': u'naturalisebasque'}},\n",
       " {'comment': u'@rodrigo_recente',\n",
       "  'user': {'user link': u'https://www.instagram.com/diasana30/',\n",
       "   'username': u'diasana30'}},\n",
       " {'comment': u'@chomps05',\n",
       "  'user': {'user link': u'https://www.instagram.com/tawnz_yeahhh/',\n",
       "   'username': u'tawnz_yeahhh'}},\n",
       " {'comment': u'Fit\\U0001f60d @ahernernah',\n",
       "  'user': {'user link': u'https://www.instagram.com/temahlow/',\n",
       "   'username': u'temahlow'}},\n",
       " {'comment': u'@mallorytreta',\n",
       "  'user': {'user link': u'https://www.instagram.com/lordaydin/',\n",
       "   'username': u'lordaydin'}},\n",
       " {'comment': u'@dani_dinis',\n",
       "  'user': {'user link': u'https://www.instagram.com/caroldinis/',\n",
       "   'username': u'caroldinis'}},\n",
       " {'comment': u'@ciuia',\n",
       "  'user': {'user link': u'https://www.instagram.com/montaluca/',\n",
       "   'username': u'montaluca'}},\n",
       " {'comment': u'@thejornidentity look at their feed',\n",
       "  'user': {'user link': u'https://www.instagram.com/ab__alb/',\n",
       "   'username': u'ab__alb'}},\n",
       " {'comment': u'stock up!!',\n",
       "  'user': {'user link': u'https://www.instagram.com/theweeklysausage/',\n",
       "   'username': u'theweeklysausage'}},\n",
       " {'comment': u'@livcopeland',\n",
       "  'user': {'user link': u'https://www.instagram.com/simwickli/',\n",
       "   'username': u'simwickli'}},\n",
       " {'comment': u'@simwickli I wish dogs were buy one get one free',\n",
       "  'user': {'user link': u'https://www.instagram.com/livcopeland/',\n",
       "   'username': u'livcopeland'}},\n",
       " {'comment': u'@laura_brah @sjirmer',\n",
       "  'user': {'user link': u'https://www.instagram.com/neerajka/',\n",
       "   'username': u'neerajka'}},\n",
       " {'comment': u'@kaijasspalva',\n",
       "  'user': {'user link': u'https://www.instagram.com/dancuksiii/',\n",
       "   'username': u'dancuksiii'}},\n",
       " {'comment': u'@boroede this one',\n",
       "  'user': {'user link': u'https://www.instagram.com/thomvantveer/',\n",
       "   'username': u'thomvantveer'}},\n",
       " {'comment': u'@jaaymick the white one is mine \\U0001f60d\\U0001f60d\\U0001f60d',\n",
       "  'user': {'user link': u'https://www.instagram.com/biggmich/',\n",
       "   'username': u'biggmich'}},\n",
       " {'comment': u'@sunny__0310 \\U0001f60d\\U0001f60d',\n",
       "  'user': {'user link': u'https://www.instagram.com/94x315/',\n",
       "   'username': u'94x315'}},\n",
       " {'comment': u'@lvbosworth \\U0001f602\\U0001f436',\n",
       "  'user': {'user link': u'https://www.instagram.com/coopermarieslesnick/',\n",
       "   'username': u'coopermarieslesnick'}},\n",
       " {'comment': u'@joiorio',\n",
       "  'user': {'user link': u'https://www.instagram.com/samibird/',\n",
       "   'username': u'samibird'}},\n",
       " {'comment': u'@rdepasquale',\n",
       "  'user': {'user link': u'https://www.instagram.com/lvbosworth/',\n",
       "   'username': u'lvbosworth'}},\n",
       " {'comment': u'@mindmooh',\n",
       "  'user': {'user link': u'https://www.instagram.com/miillee92/',\n",
       "   'username': u'miillee92'}},\n",
       " {'comment': u'@miillee92 jag ska fan k\\xf6pa en\\U0001f436\\U0001f436\\U0001f436',\n",
       "  'user': {'user link': u'https://www.instagram.com/mindmooh/',\n",
       "   'username': u'mindmooh'}},\n",
       " {'comment': u'@johnnygxp \\U0001f602\\U0001f602\\U0001f602',\n",
       "  'user': {'user link': u'https://www.instagram.com/lorah_ross/',\n",
       "   'username': u'lorah_ross'}},\n",
       " {'comment': u'Haha!! Perfect deal \\U0001f602\\U0001f602\\U0001f602\\U0001f44c\\U0001f3fc',\n",
       "  'user': {'user link': u'https://www.instagram.com/tha_dogg_pound/',\n",
       "   'username': u'tha_dogg_pound'}},\n",
       " {'comment': u'@m_sotrill',\n",
       "  'user': {'user link': u'https://www.instagram.com/t.atg/',\n",
       "   'username': u't.atg'}},\n",
       " {'comment': u'@t.atg lets get all!!',\n",
       "  'user': {'user link': u'https://www.instagram.com/m_sotrill/',\n",
       "   'username': u'm_sotrill'}},\n",
       " {'comment': u'I will take all 3, thanks \\U0001f609 @brownkyle8',\n",
       "  'user': {'user link': u'https://www.instagram.com/n_a_i_r_o_/',\n",
       "   'username': u'n_a_i_r_o_'}},\n",
       " {'comment': u'This is everything!',\n",
       "  'user': {'user link': u'https://www.instagram.com/riley_the_boss/',\n",
       "   'username': u'riley_the_boss'}},\n",
       " {'comment': u'\\U0001f606\\U0001f606\\U0001f606\\U0001f606\\U0001f606',\n",
       "  'user': {'user link': u'https://www.instagram.com/mickeyandhazel/',\n",
       "   'username': u'mickeyandhazel'}},\n",
       " {'comment': u'@lee_netto \\U0001f60d\\U0001f60d',\n",
       "  'user': {'user link': u'https://www.instagram.com/hannah_step/',\n",
       "   'username': u'hannah_step'}},\n",
       " {'comment': u'@mad4_u',\n",
       "  'user': {'user link': u'https://www.instagram.com/dpitts_/',\n",
       "   'username': u'dpitts_'}},\n",
       " {'comment': u'@harrrmonica I should be sleeping rn but here I am tagging you in another dog pic',\n",
       "  'user': {'user link': u'https://www.instagram.com/lalalalaraaaa/',\n",
       "   'username': u'lalalalaraaaa'}},\n",
       " {'comment': u'\\U0001f60d',\n",
       "  'user': {'user link': u'https://www.instagram.com/mancha_roquefort/',\n",
       "   'username': u'mancha_roquefort'}},\n",
       " {'comment': u'@taylaburke',\n",
       "  'user': {'user link': u'https://www.instagram.com/coutergram/',\n",
       "   'username': u'coutergram'}},\n",
       " {'comment': u'@eljilo',\n",
       "  'user': {'user link': u'https://www.instagram.com/adamcwik/',\n",
       "   'username': u'adamcwik'}},\n",
       " {'comment': u'\\U0001f60d\\U0001f60d\\U0001f60d\\U0001f60d\\U0001f60d',\n",
       "  'user': {'user link': u'https://www.instagram.com/ziggfoot/',\n",
       "   'username': u'ziggfoot'}},\n",
       " {'comment': u'Taxi porcelet',\n",
       "  'user': {'user link': u'https://www.instagram.com/domingop01/',\n",
       "   'username': u'domingop01'}},\n",
       " {'comment': u'@lgcutler17',\n",
       "  'user': {'user link': u'https://www.instagram.com/laurenvalluzzi/',\n",
       "   'username': u'laurenvalluzzi'}},\n",
       " {'comment': u\"I'm dead @krismc83\",\n",
       "  'user': {'user link': u'https://www.instagram.com/flannharris/',\n",
       "   'username': u'flannharris'}}]"
      ]
     },
     "execution_count": 109,
     "metadata": {},
     "output_type": "execute_result"
    }
   ],
   "source": [
    "comments_dict_list"
   ]
  },
  {
   "cell_type": "code",
   "execution_count": 111,
   "metadata": {
    "collapsed": false
   },
   "outputs": [
    {
     "data": {
      "text/plain": [
       "1470229600.01517"
      ]
     },
     "execution_count": 111,
     "metadata": {},
     "output_type": "execute_result"
    }
   ],
   "source": [
    "time.time()"
   ]
  },
  {
   "cell_type": "code",
   "execution_count": 110,
   "metadata": {
    "collapsed": true
   },
   "outputs": [],
   "source": [
    "start_date ='02/01/2016'"
   ]
  },
  {
   "cell_type": "code",
   "execution_count": 112,
   "metadata": {
    "collapsed": false
   },
   "outputs": [
    {
     "data": {
      "text/plain": [
       "1451692800.0"
      ]
     },
     "execution_count": 112,
     "metadata": {},
     "output_type": "execute_result"
    }
   ],
   "source": [
    "(time.mktime(time.strptime(start_date, '%d/%m/%Y'))) - time.timezone\n"
   ]
  },
  {
   "cell_type": "code",
   "execution_count": 113,
   "metadata": {
    "collapsed": false
   },
   "outputs": [],
   "source": [
    "def get_date_input():\n",
    "\n",
    "    start_date = raw_input(\"Enter Start Date (dd/mm/yyyy): \")\n",
    "    date_regex = re.compile(r'(\\d{2})[/.-](\\d{2})[/.-]20(\\d{2})$')\n",
    "    start_date_group = re.search(date_regex,start_date)\n",
    "    while not start_date_group:\n",
    "        print(\"*************************************************\")\n",
    "        print(\"ERROR!!, please check Start Date format \")\n",
    "        print(\"*************************************************\")\n",
    "\n",
    "        start_date = raw_input(\"Enter Start Date Again (dd/mm/yyyy): \")\n",
    "        start_date_group = re.search(date_regex,start_date)\n",
    "    start_date = start_date_group.group()\n",
    "    start_epoch = (time.mktime(time.strptime(start_date, '%d/%m/%Y'))) - time.timezone\n",
    "    \n",
    "    end_date = raw_input(\"Enter End Date (dd/mm/yyyy): \")\n",
    "    end_date_group = re.search(date_regex,end_date)\n",
    "    while not end_date_group:\n",
    "        print(\"*************************************************\")\n",
    "        print(\"ERROR, please check End Date format \")\n",
    "        print(\"*************************************************\")\n",
    "        end_date = raw_input(\"Enter End Date Again (dd/mm/yyyy): \")\n",
    "        end_date_group = re.search(date_regex,end_date)\n",
    "    end_date = end_date_group.group()\n",
    "    end_epoch = (time.mktime(time.strptime(end_date, '%d/%m/%Y'))) - time.timezone\n",
    "    \n",
    "    if end_epoch <= start_epoch:\n",
    "        print(\"*************************************************\")\n",
    "        print(\"ERROR, Please end date must be  ahead of start date\")\n",
    "        print(\"*************************************************\")\n",
    "\n",
    "\n",
    "        get_date_input()\n",
    "        \n",
    "    return start_epoch,end_epoch\n",
    "\n",
    "\n",
    "    \n",
    "    \n",
    "#         if start_date_group:\n",
    "#         start_epoch = (time.mktime(time.strptime(start_date, '%d/%m/%Y'))) - time.timezone\n",
    "#         end_date = raw_input(\"Enter End Date (dd/mm/yyyy): \")\n",
    "#         end_date_group = re.search(date_regex,end_date)\n",
    "       \n",
    "\n",
    "    \n"
   ]
  },
  {
   "cell_type": "code",
   "execution_count": 114,
   "metadata": {
    "collapsed": false
   },
   "outputs": [
    {
     "data": {
      "text/plain": [
       "time.struct_time(tm_year=2016, tm_mon=8, tm_mday=3, tm_hour=18, tm_min=51, tm_sec=48, tm_wday=2, tm_yday=216, tm_isdst=0)"
      ]
     },
     "execution_count": 114,
     "metadata": {},
     "output_type": "execute_result"
    }
   ],
   "source": [
    "time.localtime()"
   ]
  },
  {
   "cell_type": "code",
   "execution_count": 116,
   "metadata": {
    "collapsed": false
   },
   "outputs": [
    {
     "data": {
      "text/plain": [
       "'Wed, 03 Aug 2016 18:51:54'"
      ]
     },
     "execution_count": 116,
     "metadata": {},
     "output_type": "execute_result"
    }
   ],
   "source": [
    "time.strftime(\"%a, %d %b %Y %H:%M:%S\", time.localtime(time.time()))\n"
   ]
  },
  {
   "cell_type": "code",
   "execution_count": 117,
   "metadata": {
    "collapsed": false
   },
   "outputs": [
    {
     "name": "stdout",
     "output_type": "stream",
     "text": [
      "Enter Start Date (dd/mm/yyyy): 12/12/2016\n",
      "Enter End Date (dd/mm/yyyy): 12/12/2016\n",
      "*************************************************\n",
      "ERROR, Please end date must be  ahead of start date\n",
      "*************************************************\n",
      "Enter Start Date (dd/mm/yyyy): 12/12/2017\n",
      "Enter End Date (dd/mm/yyyy): 12/12/2018\n"
     ]
    }
   ],
   "source": [
    "date_tuple = get_date_input()"
   ]
  },
  {
   "cell_type": "code",
   "execution_count": 118,
   "metadata": {
    "collapsed": false
   },
   "outputs": [
    {
     "data": {
      "text/plain": [
       "(1481500800.0, 1481500800.0)"
      ]
     },
     "execution_count": 118,
     "metadata": {},
     "output_type": "execute_result"
    }
   ],
   "source": [
    "date_tuple"
   ]
  },
  {
   "cell_type": "code",
   "execution_count": 119,
   "metadata": {
    "collapsed": false
   },
   "outputs": [],
   "source": [
    "def hash_tag_checker():\n",
    "        hashtag = raw_input(\"Enter Hash Tag#(shopping): \")\n",
    "        group = re.search(r'^\\w+(.*)', hashtag)\n",
    "        \n",
    "        while not group:\n",
    "            print(\"***********************************************************************\")\n",
    "            print(\"ERROR!!!! HASH tag Format Error!! Starts with either Alpha or Numeric'\")\n",
    "            print(\"***********************************************************************\")\n",
    "            hashtag = raw_input(\"Enter Hash Tag Again#(shopping): \")\n",
    "            group = re.search(r'^\\w+(.*)', hashtag)\n",
    "        \n",
    "        return group.group()"
   ]
  },
  {
   "cell_type": "code",
   "execution_count": 120,
   "metadata": {
    "collapsed": false
   },
   "outputs": [
    {
     "name": "stdout",
     "output_type": "stream",
     "text": [
      "Enter Hash Tag#(shopping): football\n"
     ]
    },
    {
     "data": {
      "text/plain": [
       "'football'"
      ]
     },
     "execution_count": 120,
     "metadata": {},
     "output_type": "execute_result"
    }
   ],
   "source": [
    "hashtag = hash_tag_checker()\n",
    "hashtag"
   ]
  },
  {
   "cell_type": "code",
   "execution_count": 121,
   "metadata": {
    "collapsed": false
   },
   "outputs": [],
   "source": [
    "def input_min_followers_checker():\n",
    "\n",
    "    followers = raw_input(\"Enter Minimum Followers(+ve numbers only): \")\n",
    "    group = re.search(r'^[0-9]+$', followers)\n",
    "    while not group:\n",
    "        print(\"*****************************************************\")\n",
    "        print(\"ERROR!!!! Only +ve Integer!! please Check the format'\")\n",
    "        print(\"******************************************************\")\n",
    "        followers = raw_input(\"Enter Minimum Followers Again (+ve numbers only): \")\n",
    "        group = re.search(r'^[0-9]+$', followers)\n",
    "        \n",
    "    return group.group()\n",
    "    "
   ]
  },
  {
   "cell_type": "code",
   "execution_count": 122,
   "metadata": {
    "collapsed": false
   },
   "outputs": [
    {
     "name": "stdout",
     "output_type": "stream",
     "text": [
      "Enter Minimum Followers(+ve numbers only): 1212\n"
     ]
    }
   ],
   "source": [
    "min_followers = input_min_followers_checker()"
   ]
  },
  {
   "cell_type": "code",
   "execution_count": 123,
   "metadata": {
    "collapsed": false
   },
   "outputs": [
    {
     "data": {
      "text/plain": [
       "'1212'"
      ]
     },
     "execution_count": 123,
     "metadata": {},
     "output_type": "execute_result"
    }
   ],
   "source": [
    "min_followers"
   ]
  },
  {
   "cell_type": "code",
   "execution_count": null,
   "metadata": {
    "collapsed": true
   },
   "outputs": [],
   "source": []
  }
 ],
 "metadata": {
  "kernelspec": {
   "display_name": "Python 2",
   "language": "python",
   "name": "python2"
  },
  "language_info": {
   "codemirror_mode": {
    "name": "ipython",
    "version": 2
   },
   "file_extension": ".py",
   "mimetype": "text/x-python",
   "name": "python",
   "nbconvert_exporter": "python",
   "pygments_lexer": "ipython2",
   "version": "2.7.12"
  }
 },
 "nbformat": 4,
 "nbformat_minor": 0
}
